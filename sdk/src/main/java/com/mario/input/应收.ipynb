{
 "cells": [
  {
   "cell_type": "code",
   "execution_count": 29,
   "id": "5ef79147",
   "metadata": {},
   "outputs": [],
   "source": [
    "import pandas as pd\n",
    "import pandas as np"
   ]
  },
  {
   "cell_type": "markdown",
   "id": "360022b8",
   "metadata": {},
   "source": [
    "# 区域对照"
   ]
  },
  {
   "cell_type": "code",
   "execution_count": 30,
   "id": "e4be46ae",
   "metadata": {},
   "outputs": [],
   "source": [
    "区域对照 = pd.read_excel(r\"C:\\Users\\U0014748\\Desktop\\处理过的表\\省份区域对应表.xlsx\")\n",
    "区域对照 = 区域对照[['地区', '城市级']]"
   ]
  },
  {
   "cell_type": "markdown",
   "id": "8b9a650b",
   "metadata": {},
   "source": [
    "# 合并照明文创签单\n",
    "#要根据签单匹配项目地"
   ]
  },
  {
   "cell_type": "code",
   "execution_count": 243,
   "id": "c5dcf0c9",
   "metadata": {},
   "outputs": [],
   "source": [
    "import pandas as pd\n",
    "\n",
    "# Reading 2023年签单 Excel file for 照明 category\n",
    "tt年照明签单 = pd.read_excel(r\"C:\\Users\\U0014748\\Desktop\\23年数据\\2023年签单&出货照明.xlsx\", sheet_name='签单')\n",
    "tt年照明签单['签单的产品类别']='照明'\n",
    "# Reading 2023年订单明细 Excel file for 文创 category\n",
    "tt年文创签单 =  pd.read_excel(r\"C:\\Users\\U0014748\\Desktop\\23年数据\\2023年文创签单&出货明细（截至12.30）.xlsx\", sheet_name='2023年订单明细')\n",
    "tt年文创签单['签单的产品类别']='文创'\n",
    "# Reading 2024年订单明细 Excel file for 文创 category\n",
    "tf年文创签单 =  pd.read_excel(r\"C:\\Users\\U0014748\\Desktop\\2024年数据\\3\\内销\\签单\\2024年文创签单&出货明细（截至3.31）.xlsx\", sheet_name='2024年订单明细')\n",
    "tf年文创签单['签单的产品类别']='照明'\n",
    "# Reading 2024年签单 Excel file for 照明 category\n",
    "tf年照明签单 = pd.read_excel(r\"C:\\Users\\U0014748\\Desktop\\2024年数据\\3\\内销\\签单\\2024年1-3月签单明细20240401照明.xlsx\", sheet_name='签单')\n",
    "tf年照明签单['签单的产品类别']='文创'"
   ]
  },
  {
   "cell_type": "code",
   "execution_count": null,
   "id": "21826272",
   "metadata": {},
   "outputs": [],
   "source": []
  },
  {
   "cell_type": "code",
   "execution_count": 244,
   "id": "0e268cd7",
   "metadata": {},
   "outputs": [],
   "source": [
    "tt年文创签单 = tt年文创签单.rename(columns = {'订单号': '合同号',\n",
    "                         '项目地\\n（业绩归属省份）':'项目地'})\n",
    "tf年文创签单 = tf年文创签单.rename(columns = {'订单号': '合同号',\n",
    "                          '项目地\\n（业绩归属省份）':'项目地'})"
   ]
  },
  {
   "cell_type": "code",
   "execution_count": 245,
   "id": "246ddd85",
   "metadata": {},
   "outputs": [],
   "source": [
    "签单省份归属地 = pd.concat([tt年照明签单,tt年文创签单,tf年文创签单, tf年照明签单])"
   ]
  },
  {
   "cell_type": "code",
   "execution_count": 246,
   "id": "dd8c5206",
   "metadata": {},
   "outputs": [],
   "source": [
    "签单省份归属地.to_excel('签单省份归属地.xlsx')"
   ]
  },
  {
   "cell_type": "code",
   "execution_count": 247,
   "id": "76b1d399",
   "metadata": {},
   "outputs": [],
   "source": [
    "签单省份归属地 = 签单省份归属地[['合同号', '项目地','签单的产品类别']]"
   ]
  },
  {
   "cell_type": "markdown",
   "id": "25dfd528",
   "metadata": {},
   "source": [
    "tt年照明签单 = tt年照明签单[['合同号', '项目地','签单产品类别']]\n",
    "tt年文创签单 = tt年文创签单[['合同号', '项目地','签单产品类别']]\n",
    "tf年文创签单 = tf年文创签单[['合同号', '项目地','签单产品类别']]\n",
    "tf年照明签单 = tf年照明签单[['合同号', '项目地','签单产品类别']]"
   ]
  },
  {
   "cell_type": "code",
   "execution_count": 248,
   "id": "7a8b6764",
   "metadata": {},
   "outputs": [
    {
     "data": {
      "text/plain": [
       "True"
      ]
     },
     "execution_count": 248,
     "metadata": {},
     "output_type": "execute_result"
    }
   ],
   "source": [
    "签单省份归属地['合同号'].duplicated().any()"
   ]
  },
  {
   "cell_type": "code",
   "execution_count": 249,
   "id": "f55051a2",
   "metadata": {},
   "outputs": [],
   "source": [
    "签单省份归属地重复 = 签单省份归属地[签单省份归属地.duplicated(subset=['合同号'], keep=False)][['合同号','项目地','签单的产品类别']]"
   ]
  },
  {
   "cell_type": "code",
   "execution_count": 250,
   "id": "9e8e4f18",
   "metadata": {},
   "outputs": [],
   "source": [
    "签单省份归属地重复.to_excel('签单省份归属地重复.xlsx')"
   ]
  },
  {
   "cell_type": "code",
   "execution_count": 193,
   "id": "4fe8072e",
   "metadata": {},
   "outputs": [],
   "source": [
    "签单省份归属地 = 签单省份归属地.drop_duplicates(subset=['合同号'])"
   ]
  },
  {
   "cell_type": "code",
   "execution_count": 175,
   "id": "454f703f",
   "metadata": {},
   "outputs": [
    {
     "data": {
      "text/plain": [
       "False"
      ]
     },
     "execution_count": 175,
     "metadata": {},
     "output_type": "execute_result"
    }
   ],
   "source": [
    "签单省份归属地['合同号'].duplicated().any()"
   ]
  },
  {
   "cell_type": "markdown",
   "id": "4a831fbc",
   "metadata": {},
   "source": [
    "签单省份归属地 = 签单省份归属地.set_index('合同号')"
   ]
  },
  {
   "cell_type": "markdown",
   "id": "1455b967",
   "metadata": {},
   "source": [
    "# 显示"
   ]
  },
  {
   "cell_type": "code",
   "execution_count": 7,
   "id": "4c4c72d9",
   "metadata": {},
   "outputs": [],
   "source": [
    "显示 = pd.read_excel(r\"C:\\Users\\U0014748\\Desktop\\2024年数据\\3\\内销\\应收\\深圳洲明显示内贸账龄2024.03.XLSX\", sheet_name = '深圳洲明最终汇总表')\n",
    "显示['应收表'] = '显示'"
   ]
  },
  {
   "cell_type": "code",
   "execution_count": 8,
   "id": "1b44e948",
   "metadata": {},
   "outputs": [],
   "source": [
    "显示 = 显示[显示['跟进部门'].isin(['大区跟进', '租赁行业'])]\n",
    "显示 = 显示[显示['客户名称'] != '安徽黑洞科技有限公司']\n"
   ]
  },
  {
   "cell_type": "code",
   "execution_count": 9,
   "id": "afdb1419",
   "metadata": {},
   "outputs": [
    {
     "data": {
      "text/plain": [
       "Index(['公司代码', '客户编码', '客户名称', '分销/主品牌', '销售组名称', '区域', '跟进部门', '业务员名称', '跟进人',\n",
       "       '求和项:剩余应收账款（原币）', '求和项:已到期金额（原币）', '求和项:未到期金额（原币）', '求和项:下月到期金额（原币）',\n",
       "       '求和项:1-30天(原币)', '求和项:31-60天(原币)', '求和项:61-90天(原币)', '求和项:91-180天(原币)',\n",
       "       '求和项:181-360天(原币)', '求和项:361-720天(原币)', '求和项:721-1080天(原币)',\n",
       "       '求和项:1081-1440天(原币)', '求和项:1441-1800天(原币)', '求和项:1801-2160天(原币)',\n",
       "       '求和项:2161天以上(原币)', '应收表'],\n",
       "      dtype='object')"
      ]
     },
     "execution_count": 9,
     "metadata": {},
     "output_type": "execute_result"
    }
   ],
   "source": [
    "显示.columns"
   ]
  },
  {
   "cell_type": "code",
   "execution_count": 10,
   "id": "10dcf40e",
   "metadata": {},
   "outputs": [],
   "source": [
    "\n",
    "显示['跟进人'] = 显示['跟进人'].fillna('')\n",
    "\n",
    "# Escape spaces in the specified names and create a regex pattern to handle names with spaces\n",
    "names_with_spaces = ['盖 靖莲', '黄 彩平', '林 姗姗', '李 萍', '乔 洪新', '游 丽', '郑 娟']\n",
    "pattern = '|'.join([name.replace(' ', r'\\s*') for name in names_with_spaces])\n",
    "\n",
    "# Filter rows where '业务员名称' contains the specified names with potential spaces inside\n",
    "显示= 显示[~显示['跟进人'].str.contains(pattern)]\n"
   ]
  },
  {
   "cell_type": "code",
   "execution_count": 11,
   "id": "252fc24c",
   "metadata": {},
   "outputs": [],
   "source": [
    "# Update '销售组名称' based on condition in '客户名称'\n",
    "显示.loc[显示['客户名称'] == '连云港石化有限公司', '销售组名称'] = '洲明-国内-华东-浙江'"
   ]
  },
  {
   "cell_type": "code",
   "execution_count": 12,
   "id": "1ffefc84",
   "metadata": {},
   "outputs": [],
   "source": [
    "显示['省份（透视'] = 显示['销售组名称'].str.split('-').str[-1]"
   ]
  },
  {
   "cell_type": "code",
   "execution_count": 15,
   "id": "4f13a8e9",
   "metadata": {},
   "outputs": [],
   "source": [
    "显示应收 = pd.merge(显示,区域对照, left_on = '省份（透视' , right_on =  '城市级', how = 'left')"
   ]
  },
  {
   "cell_type": "code",
   "execution_count": 16,
   "id": "b9ee8f03",
   "metadata": {},
   "outputs": [],
   "source": [
    "显示应收 = 显示应收.drop(['城市级','区域'], axis = 1)"
   ]
  },
  {
   "cell_type": "code",
   "execution_count": 17,
   "id": "66e03292",
   "metadata": {},
   "outputs": [],
   "source": [
    "显示应收['销售组名称（透视）'] = 显示应收['销售组名称']"
   ]
  },
  {
   "cell_type": "code",
   "execution_count": null,
   "id": "82dcfc4b",
   "metadata": {},
   "outputs": [],
   "source": [
    "显示应收 = 显示应收.rename(columns = {'求和项:剩余应收账款（原币）': '求和项:剩余应收账款',\n",
    "                              '分销/主品牌': '业务范围描述',\n",
    "                             '求和项:已到期金额（原币）':'求和项:已到期金额',\n",
    "                             '求和项:未到期金额（原币）':'求和项:未到期金额',\n",
    "                             '求和项:下月到期金额（原币）': '求和项:下月到期金额',\n",
    "                             '求和项:1-30天(原币)':'求和项:1-30天',\n",
    "                             '求和项:31-60天(原币)': '求和项:31-60天',\n",
    "                              '求和项:61-90天(原币)': '求和项:61-90天',\n",
    "                              '求和项:91-180天(原币)': '求和项:91-180天',\n",
    "                              '求和项:181-360天(原币)':'求和项:181-360天',\n",
    "                              '求和项:361-720天(原币)':'求和项:361-720天',\n",
    "                              '求和项:721-1080天(原币)':'求和项:721-1080天',\n",
    "                              '求和项:1081-1440天(原币)':'求和项:1081-1440天',\n",
    "                              '求和项:1441-1800天(原币)': '求和项:1441-1800天',\n",
    "                              '求和项:1801-2160天(原币)': '求和项:1801-2160天',\n",
    "                              '求和项:2161天以上(原币)': '求和项:2161天以上'})"
   ]
  },
  {
   "cell_type": "code",
   "execution_count": 18,
   "id": "d29d97fe",
   "metadata": {},
   "outputs": [],
   "source": [
    "显示应收.to_excel(\"显示应收202403.xlsx\")"
   ]
  },
  {
   "cell_type": "markdown",
   "id": "8e42078c",
   "metadata": {},
   "source": [
    "# 渠道"
   ]
  },
  {
   "cell_type": "code",
   "execution_count": 19,
   "id": "2edd7d77",
   "metadata": {},
   "outputs": [],
   "source": [
    "渠道应收 = pd.read_excel(r\"C:\\Users\\U0014748\\Desktop\\2024年数据\\3\\内销\\应收\\渠道应收账龄表202403.xlsx\")\n",
    "渠道应收['应收表'] = '渠道应收'"
   ]
  },
  {
   "cell_type": "code",
   "execution_count": 20,
   "id": "740d7544",
   "metadata": {},
   "outputs": [],
   "source": [
    "#需要确认\n",
    "渠道应收 = 渠道应收[(渠道应收['区域'].isin(['华中区','华南区','东中区','华北区','华东区','东北区','西北区','西南区'])) | (渠道应收['区域.1'] == '大客户部')]"
   ]
  },
  {
   "cell_type": "code",
   "execution_count": 21,
   "id": "7b4fc3c1",
   "metadata": {},
   "outputs": [],
   "source": [
    "渠道应收 = 渠道应收[~渠道应收['行标签'].str.contains('深圳市帮你信息技术有限公司')]"
   ]
  },
  {
   "cell_type": "code",
   "execution_count": 22,
   "id": "0bb88bf6",
   "metadata": {},
   "outputs": [],
   "source": [
    "渠道应收['省份（透视'] = 渠道应收['区域.1']"
   ]
  },
  {
   "cell_type": "code",
   "execution_count": 23,
   "id": "903b0d01",
   "metadata": {},
   "outputs": [],
   "source": [
    "def clear(i):\n",
    "    if '省' in i:\n",
    "        # Remove '省'\n",
    "        i = i.replace('省', '')\n",
    "    if '市' in i:\n",
    "        # Remove '市'\n",
    "        i = i.replace('市', '')\n",
    "    return i\n",
    "\n",
    "渠道应收['省份（透视'] = 渠道应收['省份（透视'].apply(clear)"
   ]
  },
  {
   "cell_type": "code",
   "execution_count": 24,
   "id": "2f4929df",
   "metadata": {},
   "outputs": [],
   "source": [
    "渠道应收 = pd.merge(渠道应收,区域对照, left_on = '省份（透视' , right_on =  '城市级', how = 'left')"
   ]
  },
  {
   "cell_type": "code",
   "execution_count": 25,
   "id": "13a3351a",
   "metadata": {},
   "outputs": [],
   "source": [
    "渠道应收 = 渠道应收.drop(['城市级', '区域.1'], axis = 1)"
   ]
  },
  {
   "cell_type": "code",
   "execution_count": 26,
   "id": "9914686a",
   "metadata": {},
   "outputs": [],
   "source": [
    "渠道应收['求和项:1-30天'] = 渠道应收['已到期金额']- 渠道应收['31-60天']-渠道应收['61-90天']-渠道应收['91-180天']-渠道应收['181-360天']-渠道应收['361-720天']-渠道应收['721-1080天']-渠道应收['1081-1440天']-渠道应收['1441-1800天']-渠道应收['1801-2160天']-渠道应收['2161天以上']"
   ]
  },
  {
   "cell_type": "code",
   "execution_count": 27,
   "id": "9fe5bc50",
   "metadata": {},
   "outputs": [],
   "source": [
    "渠道应收 = 渠道应收.drop('0-30天', axis =1)"
   ]
  },
  {
   "cell_type": "code",
   "execution_count": null,
   "id": "3b4ac4ba",
   "metadata": {},
   "outputs": [],
   "source": [
    "渠道应收 = 渠道应收.rename(columns = {\n",
    "    '行标签': '客户名称',\n",
    "    '剩余应收账款':'求和项:剩余应收账款',\n",
    "    '已到期金额':'求和项:已到期金额',\n",
    "    '未到期金额': '求和项:未到期金额',\n",
    "    '下月到期金额': '求和项:下月到期金额',\n",
    "    '31-60天': '求和项:31-60天',\n",
    "    '61-90天': '求和项:61-90天',\n",
    "    '91-180天': '求和项:91-180天',\n",
    "    '181-360天': '求和项:181-360天',\n",
    "    '361-720天': '求和项:361-720天',\n",
    "    '721-1080天': '求和项:721-1080天',\n",
    "    '1081-1440天': '求和项:1081-1440天',\n",
    "    '1441-1800天': '求和项:1441-1800天',\n",
    "    '1801-2160天': '求和项:1801-2160天',\n",
    "    '2161天以上':  '求和项:2161天以上',\n",
    "    \n",
    "    \n",
    "})"
   ]
  },
  {
   "cell_type": "code",
   "execution_count": 28,
   "id": "c7e52ba4",
   "metadata": {},
   "outputs": [],
   "source": [
    "渠道应收.to_excel('渠道应收202403.xlsx')"
   ]
  },
  {
   "cell_type": "markdown",
   "id": "e859ab81",
   "metadata": {},
   "source": [
    "# 文创"
   ]
  },
  {
   "cell_type": "code",
   "execution_count": 156,
   "id": "9e893c22",
   "metadata": {},
   "outputs": [
    {
     "name": "stderr",
     "output_type": "stream",
     "text": [
      "C:\\Users\\U0014748\\AppData\\Local\\anaconda3\\Lib\\site-packages\\openpyxl\\worksheet\\_read_only.py:79: UserWarning: Data Validation extension is not supported and will be removed\n",
      "  for idx, row in parser.parse():\n"
     ]
    }
   ],
   "source": [
    "文创 = pd.read_excel(r\"C:\\Users\\U0014748\\Desktop\\2024年数据\\3\\内销\\应收\\202403应收账龄表（文创）-TO销服(1).xlsx\")"
   ]
  },
  {
   "cell_type": "code",
   "execution_count": 157,
   "id": "ba94c9d0",
   "metadata": {},
   "outputs": [
    {
     "data": {
      "text/plain": [
       "['Unnamed: 0',\n",
       " '订单号',\n",
       " '区域',\n",
       " '合同金额',\n",
       " '部门',\n",
       " '业务员',\n",
       " '截止3月31日应收款',\n",
       " '截止3月31日到期款',\n",
       " '到期日',\n",
       " '今天',\n",
       " '逾期天数',\n",
       " '逾期天数.1',\n",
       " '0~90天',\n",
       " '91~180天',\n",
       " '181~360天',\n",
       " '360-720',\n",
       " '720天以上',\n",
       " 'Unnamed: 17',\n",
       " 'Unnamed: 18',\n",
       " 'Unnamed: 19',\n",
       " 'Unnamed: 20',\n",
       " 'Unnamed: 21',\n",
       " 'Unnamed: 22',\n",
       " 'Unnamed: 23',\n",
       " 'Unnamed: 24',\n",
       " 'Unnamed: 25',\n",
       " 'Unnamed: 26',\n",
       " 'Unnamed: 27',\n",
       " 'Unnamed: 28',\n",
       " 'Unnamed: 29',\n",
       " 'Unnamed: 30',\n",
       " 'Unnamed: 31',\n",
       " 'Unnamed: 32',\n",
       " 'Unnamed: 33',\n",
       " 'Unnamed: 34',\n",
       " 'Unnamed: 35',\n",
       " 'Unnamed: 36',\n",
       " 'Unnamed: 37',\n",
       " 'Unnamed: 38',\n",
       " 'Unnamed: 39',\n",
       " 'Unnamed: 40',\n",
       " 'Unnamed: 41',\n",
       " 'Unnamed: 42',\n",
       " 'Unnamed: 43',\n",
       " 'Unnamed: 44',\n",
       " 'Unnamed: 45',\n",
       " 'Unnamed: 46',\n",
       " 'Unnamed: 47',\n",
       " 'Unnamed: 48',\n",
       " 'Unnamed: 49',\n",
       " 'Unnamed: 50',\n",
       " 'Unnamed: 51',\n",
       " 'Unnamed: 52',\n",
       " 'Unnamed: 53',\n",
       " 'Unnamed: 54',\n",
       " 'Unnamed: 55',\n",
       " 'Unnamed: 56',\n",
       " 'Unnamed: 57',\n",
       " 'Unnamed: 58',\n",
       " 'Unnamed: 59',\n",
       " 'Unnamed: 60',\n",
       " 'Unnamed: 61',\n",
       " 'Unnamed: 62',\n",
       " 'Unnamed: 63',\n",
       " 'Unnamed: 64',\n",
       " 'Unnamed: 65',\n",
       " 'Unnamed: 66',\n",
       " 'Unnamed: 67',\n",
       " 'Unnamed: 68',\n",
       " 'Unnamed: 69',\n",
       " 'Unnamed: 70',\n",
       " 'Unnamed: 71',\n",
       " 'Unnamed: 72',\n",
       " 'Unnamed: 73',\n",
       " 'Unnamed: 74',\n",
       " 'Unnamed: 75',\n",
       " 'Unnamed: 76',\n",
       " 'Unnamed: 77',\n",
       " 'Unnamed: 78',\n",
       " 'Unnamed: 79',\n",
       " 'Unnamed: 80',\n",
       " 'Unnamed: 81',\n",
       " 'Unnamed: 82',\n",
       " 'Unnamed: 83',\n",
       " 'Unnamed: 84',\n",
       " 'Unnamed: 85',\n",
       " 'Unnamed: 86',\n",
       " 'Unnamed: 87',\n",
       " 'Unnamed: 88',\n",
       " 'Unnamed: 89',\n",
       " 'Unnamed: 90',\n",
       " 'Unnamed: 91',\n",
       " 'Unnamed: 92',\n",
       " 'Unnamed: 93',\n",
       " 'Unnamed: 94',\n",
       " 'Unnamed: 95',\n",
       " 'Unnamed: 96',\n",
       " 'Unnamed: 97',\n",
       " 'Unnamed: 98',\n",
       " 'Unnamed: 99',\n",
       " 'Unnamed: 100',\n",
       " 'Unnamed: 101',\n",
       " 'Unnamed: 102',\n",
       " 'Unnamed: 103',\n",
       " 'Unnamed: 104',\n",
       " 'Unnamed: 105',\n",
       " 'Unnamed: 106',\n",
       " 'Unnamed: 107',\n",
       " 'Unnamed: 108',\n",
       " 'Unnamed: 109',\n",
       " 'Unnamed: 110',\n",
       " 'Unnamed: 111',\n",
       " 'Unnamed: 112',\n",
       " 'Unnamed: 113',\n",
       " 'Unnamed: 114',\n",
       " 'Unnamed: 115',\n",
       " 'Unnamed: 116',\n",
       " 'Unnamed: 117',\n",
       " 'Unnamed: 118',\n",
       " 'Unnamed: 119',\n",
       " 'Unnamed: 120',\n",
       " 'Unnamed: 121',\n",
       " 'Unnamed: 122',\n",
       " 'Unnamed: 123',\n",
       " 'Unnamed: 124',\n",
       " 'Unnamed: 125',\n",
       " 'Unnamed: 126',\n",
       " 'Unnamed: 127',\n",
       " 'Unnamed: 128',\n",
       " 'Unnamed: 129',\n",
       " 'Unnamed: 130',\n",
       " 'Unnamed: 131',\n",
       " 'Unnamed: 132',\n",
       " 'Unnamed: 133',\n",
       " 'Unnamed: 134',\n",
       " 'Unnamed: 135',\n",
       " 'Unnamed: 136',\n",
       " 'Unnamed: 137',\n",
       " 'Unnamed: 138',\n",
       " 'Unnamed: 139',\n",
       " 'Unnamed: 140',\n",
       " 'Unnamed: 141',\n",
       " 'Unnamed: 142',\n",
       " 'Unnamed: 143',\n",
       " 'Unnamed: 144',\n",
       " 'Unnamed: 145',\n",
       " 'Unnamed: 146',\n",
       " 'Unnamed: 147',\n",
       " 'Unnamed: 148',\n",
       " 'Unnamed: 149',\n",
       " 'Unnamed: 150',\n",
       " 'Unnamed: 151',\n",
       " 'Unnamed: 152',\n",
       " 'Unnamed: 153',\n",
       " 'Unnamed: 154',\n",
       " 'Unnamed: 155',\n",
       " 'Unnamed: 156',\n",
       " 'Unnamed: 157',\n",
       " 'Unnamed: 158',\n",
       " 'Unnamed: 159',\n",
       " 'Unnamed: 160',\n",
       " 'Unnamed: 161',\n",
       " 'Unnamed: 162',\n",
       " 'Unnamed: 163',\n",
       " 'Unnamed: 164',\n",
       " 'Unnamed: 165',\n",
       " 'Unnamed: 166',\n",
       " 'Unnamed: 167',\n",
       " 'Unnamed: 168',\n",
       " 'Unnamed: 169',\n",
       " 'Unnamed: 170',\n",
       " 'Unnamed: 171',\n",
       " 'Unnamed: 172',\n",
       " 'Unnamed: 173',\n",
       " 'Unnamed: 174',\n",
       " 'Unnamed: 175',\n",
       " 'Unnamed: 176',\n",
       " 'Unnamed: 177',\n",
       " 'Unnamed: 178',\n",
       " 'Unnamed: 179',\n",
       " 'Unnamed: 180',\n",
       " 'Unnamed: 181',\n",
       " 'Unnamed: 182',\n",
       " 'Unnamed: 183',\n",
       " 'Unnamed: 184',\n",
       " 'Unnamed: 185',\n",
       " 'Unnamed: 186',\n",
       " 'Unnamed: 187',\n",
       " 'Unnamed: 188',\n",
       " 'Unnamed: 189',\n",
       " 'Unnamed: 190',\n",
       " 'Unnamed: 191',\n",
       " 'Unnamed: 192',\n",
       " 'Unnamed: 193',\n",
       " 'Unnamed: 194',\n",
       " 'Unnamed: 195',\n",
       " 'Unnamed: 196',\n",
       " 'Unnamed: 197',\n",
       " 'Unnamed: 198',\n",
       " 'Unnamed: 199',\n",
       " 'Unnamed: 200',\n",
       " 'Unnamed: 201',\n",
       " 'Unnamed: 202',\n",
       " 'Unnamed: 203',\n",
       " 'Unnamed: 204',\n",
       " 'Unnamed: 205',\n",
       " 'Unnamed: 206',\n",
       " 'Unnamed: 207',\n",
       " 'Unnamed: 208',\n",
       " 'Unnamed: 209',\n",
       " 'Unnamed: 210',\n",
       " 'Unnamed: 211',\n",
       " 'Unnamed: 212',\n",
       " 'Unnamed: 213',\n",
       " 'Unnamed: 214',\n",
       " 'Unnamed: 215',\n",
       " 'Unnamed: 216',\n",
       " 'Unnamed: 217',\n",
       " 'Unnamed: 218',\n",
       " 'Unnamed: 219',\n",
       " 'Unnamed: 220',\n",
       " 'Unnamed: 221',\n",
       " 'Unnamed: 222',\n",
       " 'Unnamed: 223',\n",
       " 'Unnamed: 224',\n",
       " 'Unnamed: 225',\n",
       " 'Unnamed: 226',\n",
       " 'Unnamed: 227',\n",
       " 'Unnamed: 228',\n",
       " 'Unnamed: 229',\n",
       " 'Unnamed: 230',\n",
       " 'Unnamed: 231',\n",
       " 'Unnamed: 232',\n",
       " 'Unnamed: 233',\n",
       " 'Unnamed: 234',\n",
       " 'Unnamed: 235',\n",
       " 'Unnamed: 236',\n",
       " 'Unnamed: 237',\n",
       " 'Unnamed: 238',\n",
       " 'Unnamed: 239',\n",
       " 'Unnamed: 240',\n",
       " 'Unnamed: 241',\n",
       " 'Unnamed: 242',\n",
       " 'Unnamed: 243',\n",
       " 'Unnamed: 244',\n",
       " 'Unnamed: 245',\n",
       " 'Unnamed: 246',\n",
       " 'Unnamed: 247',\n",
       " 'Unnamed: 248',\n",
       " 'Unnamed: 249',\n",
       " 'Unnamed: 250',\n",
       " 'Unnamed: 251',\n",
       " 'Unnamed: 252',\n",
       " 'Unnamed: 253',\n",
       " 'Unnamed: 254',\n",
       " 'Unnamed: 255',\n",
       " 'Unnamed: 256',\n",
       " 'Unnamed: 257',\n",
       " 'Unnamed: 258',\n",
       " 'Unnamed: 259',\n",
       " 'Unnamed: 260',\n",
       " 'Unnamed: 261',\n",
       " 'Unnamed: 262',\n",
       " 'Unnamed: 263',\n",
       " 'Unnamed: 264',\n",
       " 'Unnamed: 265',\n",
       " 'Unnamed: 266',\n",
       " 'Unnamed: 267',\n",
       " 'Unnamed: 268',\n",
       " 'Unnamed: 269',\n",
       " 'Unnamed: 270',\n",
       " 'Unnamed: 271',\n",
       " 'Unnamed: 272',\n",
       " 'Unnamed: 273',\n",
       " 'Unnamed: 274',\n",
       " 'Unnamed: 275',\n",
       " 'Unnamed: 276',\n",
       " 'Unnamed: 277',\n",
       " 'Unnamed: 278',\n",
       " 'Unnamed: 279',\n",
       " 'Unnamed: 280',\n",
       " 'Unnamed: 281',\n",
       " 'Unnamed: 282',\n",
       " 'Unnamed: 283',\n",
       " 'Unnamed: 284',\n",
       " 'Unnamed: 285',\n",
       " 'Unnamed: 286',\n",
       " 'Unnamed: 287',\n",
       " 'Unnamed: 288',\n",
       " 'Unnamed: 289',\n",
       " 'Unnamed: 290',\n",
       " 'Unnamed: 291',\n",
       " 'Unnamed: 292',\n",
       " 'Unnamed: 293',\n",
       " 'Unnamed: 294',\n",
       " 'Unnamed: 295',\n",
       " 'Unnamed: 296',\n",
       " 'Unnamed: 297',\n",
       " 'Unnamed: 298',\n",
       " 'Unnamed: 299',\n",
       " 'Unnamed: 300',\n",
       " 'Unnamed: 301',\n",
       " 'Unnamed: 302',\n",
       " 'Unnamed: 303',\n",
       " 'Unnamed: 304',\n",
       " 'Unnamed: 305',\n",
       " 'Unnamed: 306',\n",
       " 'Unnamed: 307',\n",
       " 'Unnamed: 308',\n",
       " 'Unnamed: 309',\n",
       " 'Unnamed: 310',\n",
       " 'Unnamed: 311',\n",
       " 'Unnamed: 312',\n",
       " 'Unnamed: 313',\n",
       " 'Unnamed: 314',\n",
       " 'Unnamed: 315',\n",
       " 'Unnamed: 316',\n",
       " 'Unnamed: 317',\n",
       " 'Unnamed: 318',\n",
       " 'Unnamed: 319',\n",
       " 'Unnamed: 320',\n",
       " 'Unnamed: 321',\n",
       " 'Unnamed: 322',\n",
       " 'Unnamed: 323',\n",
       " 'Unnamed: 324',\n",
       " 'Unnamed: 325',\n",
       " 'Unnamed: 326',\n",
       " 'Unnamed: 327',\n",
       " 'Unnamed: 328',\n",
       " 'Unnamed: 329',\n",
       " 'Unnamed: 330',\n",
       " 'Unnamed: 331',\n",
       " 'Unnamed: 332',\n",
       " 'Unnamed: 333',\n",
       " 'Unnamed: 334',\n",
       " 'Unnamed: 335',\n",
       " 'Unnamed: 336',\n",
       " 'Unnamed: 337',\n",
       " 'Unnamed: 338',\n",
       " 'Unnamed: 339',\n",
       " 'Unnamed: 340',\n",
       " 'Unnamed: 341',\n",
       " 'Unnamed: 342',\n",
       " 'Unnamed: 343',\n",
       " 'Unnamed: 344',\n",
       " 'Unnamed: 345',\n",
       " 'Unnamed: 346',\n",
       " 'Unnamed: 347',\n",
       " 'Unnamed: 348',\n",
       " 'Unnamed: 349',\n",
       " 'Unnamed: 350',\n",
       " 'Unnamed: 351',\n",
       " 'Unnamed: 352',\n",
       " 'Unnamed: 353',\n",
       " 'Unnamed: 354',\n",
       " 'Unnamed: 355',\n",
       " 'Unnamed: 356',\n",
       " 'Unnamed: 357',\n",
       " 'Unnamed: 358',\n",
       " 'Unnamed: 359',\n",
       " 'Unnamed: 360',\n",
       " 'Unnamed: 361',\n",
       " 'Unnamed: 362',\n",
       " 'Unnamed: 363',\n",
       " 'Unnamed: 364',\n",
       " 'Unnamed: 365',\n",
       " 'Unnamed: 366',\n",
       " 'Unnamed: 367',\n",
       " 'Unnamed: 368',\n",
       " 'Unnamed: 369',\n",
       " 'Unnamed: 370',\n",
       " 'Unnamed: 371',\n",
       " 'Unnamed: 372',\n",
       " 'Unnamed: 373',\n",
       " 'Unnamed: 374',\n",
       " 'Unnamed: 375',\n",
       " 'Unnamed: 376',\n",
       " 'Unnamed: 377',\n",
       " 'Unnamed: 378',\n",
       " 'Unnamed: 379',\n",
       " 'Unnamed: 380',\n",
       " 'Unnamed: 381',\n",
       " 'Unnamed: 382',\n",
       " 'Unnamed: 383',\n",
       " 'Unnamed: 384',\n",
       " 'Unnamed: 385',\n",
       " 'Unnamed: 386',\n",
       " 'Unnamed: 387',\n",
       " 'Unnamed: 388',\n",
       " 'Unnamed: 389',\n",
       " 'Unnamed: 390',\n",
       " 'Unnamed: 391',\n",
       " 'Unnamed: 392',\n",
       " 'Unnamed: 393',\n",
       " 'Unnamed: 394',\n",
       " 'Unnamed: 395',\n",
       " 'Unnamed: 396',\n",
       " 'Unnamed: 397',\n",
       " 'Unnamed: 398',\n",
       " 'Unnamed: 399',\n",
       " 'Unnamed: 400',\n",
       " 'Unnamed: 401',\n",
       " 'Unnamed: 402',\n",
       " 'Unnamed: 403',\n",
       " 'Unnamed: 404',\n",
       " 'Unnamed: 405',\n",
       " 'Unnamed: 406',\n",
       " 'Unnamed: 407',\n",
       " 'Unnamed: 408',\n",
       " 'Unnamed: 409',\n",
       " 'Unnamed: 410',\n",
       " 'Unnamed: 411',\n",
       " 'Unnamed: 412',\n",
       " 'Unnamed: 413',\n",
       " 'Unnamed: 414',\n",
       " 'Unnamed: 415',\n",
       " 'Unnamed: 416',\n",
       " 'Unnamed: 417',\n",
       " 'Unnamed: 418',\n",
       " 'Unnamed: 419',\n",
       " 'Unnamed: 420',\n",
       " 'Unnamed: 421',\n",
       " 'Unnamed: 422',\n",
       " 'Unnamed: 423',\n",
       " 'Unnamed: 424',\n",
       " 'Unnamed: 425',\n",
       " 'Unnamed: 426',\n",
       " 'Unnamed: 427',\n",
       " 'Unnamed: 428',\n",
       " 'Unnamed: 429',\n",
       " 'Unnamed: 430',\n",
       " 'Unnamed: 431',\n",
       " 'Unnamed: 432',\n",
       " 'Unnamed: 433',\n",
       " 'Unnamed: 434',\n",
       " 'Unnamed: 435',\n",
       " 'Unnamed: 436',\n",
       " 'Unnamed: 437',\n",
       " 'Unnamed: 438',\n",
       " 'Unnamed: 439',\n",
       " 'Unnamed: 440',\n",
       " 'Unnamed: 441',\n",
       " 'Unnamed: 442',\n",
       " 'Unnamed: 443',\n",
       " 'Unnamed: 444',\n",
       " 'Unnamed: 445',\n",
       " 'Unnamed: 446',\n",
       " 'Unnamed: 447',\n",
       " 'Unnamed: 448',\n",
       " 'Unnamed: 449',\n",
       " 'Unnamed: 450',\n",
       " 'Unnamed: 451',\n",
       " 'Unnamed: 452',\n",
       " 'Unnamed: 453',\n",
       " 'Unnamed: 454',\n",
       " 'Unnamed: 455',\n",
       " 'Unnamed: 456',\n",
       " 'Unnamed: 457',\n",
       " 'Unnamed: 458',\n",
       " 'Unnamed: 459',\n",
       " 'Unnamed: 460',\n",
       " 'Unnamed: 461',\n",
       " 'Unnamed: 462',\n",
       " 'Unnamed: 463',\n",
       " 'Unnamed: 464',\n",
       " 'Unnamed: 465',\n",
       " 'Unnamed: 466',\n",
       " 'Unnamed: 467',\n",
       " 'Unnamed: 468',\n",
       " 'Unnamed: 469',\n",
       " 'Unnamed: 470',\n",
       " 'Unnamed: 471',\n",
       " 'Unnamed: 472',\n",
       " 'Unnamed: 473',\n",
       " 'Unnamed: 474',\n",
       " 'Unnamed: 475',\n",
       " 'Unnamed: 476',\n",
       " 'Unnamed: 477',\n",
       " 'Unnamed: 478',\n",
       " 'Unnamed: 479',\n",
       " 'Unnamed: 480',\n",
       " 'Unnamed: 481',\n",
       " 'Unnamed: 482',\n",
       " 'Unnamed: 483',\n",
       " 'Unnamed: 484',\n",
       " 'Unnamed: 485',\n",
       " 'Unnamed: 486',\n",
       " 'Unnamed: 487',\n",
       " 'Unnamed: 488',\n",
       " 'Unnamed: 489',\n",
       " 'Unnamed: 490',\n",
       " 'Unnamed: 491',\n",
       " 'Unnamed: 492',\n",
       " 'Unnamed: 493',\n",
       " 'Unnamed: 494',\n",
       " 'Unnamed: 495',\n",
       " 'Unnamed: 496',\n",
       " 'Unnamed: 497',\n",
       " 'Unnamed: 498',\n",
       " 'Unnamed: 499',\n",
       " 'Unnamed: 500',\n",
       " 'Unnamed: 501',\n",
       " 'Unnamed: 502',\n",
       " 'Unnamed: 503',\n",
       " 'Unnamed: 504',\n",
       " 'Unnamed: 505',\n",
       " 'Unnamed: 506',\n",
       " 'Unnamed: 507',\n",
       " 'Unnamed: 508',\n",
       " 'Unnamed: 509',\n",
       " 'Unnamed: 510',\n",
       " 'Unnamed: 511',\n",
       " 'Unnamed: 512',\n",
       " 'Unnamed: 513',\n",
       " 'Unnamed: 514',\n",
       " 'Unnamed: 515',\n",
       " 'Unnamed: 516',\n",
       " 'Unnamed: 517',\n",
       " 'Unnamed: 518',\n",
       " 'Unnamed: 519',\n",
       " 'Unnamed: 520',\n",
       " 'Unnamed: 521',\n",
       " 'Unnamed: 522',\n",
       " 'Unnamed: 523',\n",
       " 'Unnamed: 524',\n",
       " 'Unnamed: 525',\n",
       " 'Unnamed: 526',\n",
       " 'Unnamed: 527',\n",
       " 'Unnamed: 528',\n",
       " 'Unnamed: 529',\n",
       " 'Unnamed: 530',\n",
       " 'Unnamed: 531',\n",
       " 'Unnamed: 532',\n",
       " 'Unnamed: 533',\n",
       " 'Unnamed: 534',\n",
       " 'Unnamed: 535',\n",
       " 'Unnamed: 536',\n",
       " 'Unnamed: 537',\n",
       " 'Unnamed: 538',\n",
       " 'Unnamed: 539',\n",
       " 'Unnamed: 540',\n",
       " 'Unnamed: 541',\n",
       " 'Unnamed: 542',\n",
       " 'Unnamed: 543',\n",
       " 'Unnamed: 544',\n",
       " 'Unnamed: 545',\n",
       " 'Unnamed: 546',\n",
       " 'Unnamed: 547',\n",
       " 'Unnamed: 548',\n",
       " 'Unnamed: 549',\n",
       " 'Unnamed: 550',\n",
       " 'Unnamed: 551',\n",
       " 'Unnamed: 552',\n",
       " 'Unnamed: 553',\n",
       " 'Unnamed: 554',\n",
       " 'Unnamed: 555',\n",
       " 'Unnamed: 556',\n",
       " 'Unnamed: 557',\n",
       " 'Unnamed: 558',\n",
       " 'Unnamed: 559',\n",
       " 'Unnamed: 560',\n",
       " 'Unnamed: 561',\n",
       " 'Unnamed: 562',\n",
       " 'Unnamed: 563',\n",
       " 'Unnamed: 564',\n",
       " 'Unnamed: 565',\n",
       " 'Unnamed: 566',\n",
       " 'Unnamed: 567',\n",
       " 'Unnamed: 568',\n",
       " 'Unnamed: 569',\n",
       " 'Unnamed: 570',\n",
       " 'Unnamed: 571',\n",
       " 'Unnamed: 572',\n",
       " 'Unnamed: 573',\n",
       " 'Unnamed: 574',\n",
       " 'Unnamed: 575',\n",
       " 'Unnamed: 576',\n",
       " 'Unnamed: 577',\n",
       " 'Unnamed: 578',\n",
       " 'Unnamed: 579',\n",
       " 'Unnamed: 580',\n",
       " 'Unnamed: 581',\n",
       " 'Unnamed: 582',\n",
       " 'Unnamed: 583',\n",
       " 'Unnamed: 584',\n",
       " 'Unnamed: 585',\n",
       " 'Unnamed: 586',\n",
       " 'Unnamed: 587',\n",
       " 'Unnamed: 588',\n",
       " 'Unnamed: 589',\n",
       " 'Unnamed: 590',\n",
       " 'Unnamed: 591',\n",
       " 'Unnamed: 592',\n",
       " 'Unnamed: 593',\n",
       " 'Unnamed: 594',\n",
       " 'Unnamed: 595',\n",
       " 'Unnamed: 596',\n",
       " 'Unnamed: 597',\n",
       " 'Unnamed: 598',\n",
       " 'Unnamed: 599',\n",
       " 'Unnamed: 600',\n",
       " 'Unnamed: 601',\n",
       " 'Unnamed: 602',\n",
       " 'Unnamed: 603',\n",
       " 'Unnamed: 604',\n",
       " 'Unnamed: 605',\n",
       " 'Unnamed: 606',\n",
       " 'Unnamed: 607',\n",
       " 'Unnamed: 608',\n",
       " 'Unnamed: 609',\n",
       " 'Unnamed: 610',\n",
       " 'Unnamed: 611',\n",
       " 'Unnamed: 612',\n",
       " 'Unnamed: 613',\n",
       " 'Unnamed: 614',\n",
       " 'Unnamed: 615',\n",
       " 'Unnamed: 616',\n",
       " 'Unnamed: 617',\n",
       " 'Unnamed: 618',\n",
       " 'Unnamed: 619',\n",
       " 'Unnamed: 620',\n",
       " 'Unnamed: 621',\n",
       " 'Unnamed: 622',\n",
       " 'Unnamed: 623',\n",
       " 'Unnamed: 624',\n",
       " 'Unnamed: 625',\n",
       " 'Unnamed: 626',\n",
       " 'Unnamed: 627',\n",
       " 'Unnamed: 628',\n",
       " 'Unnamed: 629',\n",
       " 'Unnamed: 630',\n",
       " 'Unnamed: 631',\n",
       " 'Unnamed: 632',\n",
       " 'Unnamed: 633',\n",
       " 'Unnamed: 634',\n",
       " 'Unnamed: 635',\n",
       " 'Unnamed: 636',\n",
       " 'Unnamed: 637',\n",
       " 'Unnamed: 638',\n",
       " 'Unnamed: 639',\n",
       " 'Unnamed: 640',\n",
       " 'Unnamed: 641',\n",
       " 'Unnamed: 642',\n",
       " 'Unnamed: 643',\n",
       " 'Unnamed: 644',\n",
       " 'Unnamed: 645',\n",
       " 'Unnamed: 646',\n",
       " 'Unnamed: 647',\n",
       " 'Unnamed: 648',\n",
       " 'Unnamed: 649',\n",
       " 'Unnamed: 650',\n",
       " 'Unnamed: 651',\n",
       " 'Unnamed: 652',\n",
       " 'Unnamed: 653',\n",
       " 'Unnamed: 654',\n",
       " 'Unnamed: 655',\n",
       " 'Unnamed: 656',\n",
       " 'Unnamed: 657',\n",
       " 'Unnamed: 658',\n",
       " 'Unnamed: 659',\n",
       " 'Unnamed: 660',\n",
       " 'Unnamed: 661',\n",
       " 'Unnamed: 662',\n",
       " 'Unnamed: 663',\n",
       " 'Unnamed: 664',\n",
       " 'Unnamed: 665',\n",
       " 'Unnamed: 666',\n",
       " 'Unnamed: 667',\n",
       " 'Unnamed: 668',\n",
       " 'Unnamed: 669',\n",
       " 'Unnamed: 670',\n",
       " 'Unnamed: 671',\n",
       " 'Unnamed: 672',\n",
       " 'Unnamed: 673',\n",
       " 'Unnamed: 674',\n",
       " 'Unnamed: 675',\n",
       " 'Unnamed: 676',\n",
       " 'Unnamed: 677',\n",
       " 'Unnamed: 678',\n",
       " 'Unnamed: 679',\n",
       " 'Unnamed: 680',\n",
       " 'Unnamed: 681',\n",
       " 'Unnamed: 682',\n",
       " 'Unnamed: 683',\n",
       " 'Unnamed: 684',\n",
       " 'Unnamed: 685',\n",
       " 'Unnamed: 686',\n",
       " 'Unnamed: 687',\n",
       " 'Unnamed: 688',\n",
       " 'Unnamed: 689',\n",
       " 'Unnamed: 690',\n",
       " 'Unnamed: 691',\n",
       " 'Unnamed: 692',\n",
       " 'Unnamed: 693',\n",
       " 'Unnamed: 694',\n",
       " 'Unnamed: 695',\n",
       " 'Unnamed: 696',\n",
       " 'Unnamed: 697',\n",
       " 'Unnamed: 698',\n",
       " 'Unnamed: 699',\n",
       " 'Unnamed: 700',\n",
       " 'Unnamed: 701',\n",
       " 'Unnamed: 702',\n",
       " 'Unnamed: 703',\n",
       " 'Unnamed: 704',\n",
       " 'Unnamed: 705',\n",
       " 'Unnamed: 706',\n",
       " 'Unnamed: 707',\n",
       " 'Unnamed: 708',\n",
       " 'Unnamed: 709',\n",
       " 'Unnamed: 710',\n",
       " 'Unnamed: 711',\n",
       " 'Unnamed: 712',\n",
       " 'Unnamed: 713',\n",
       " 'Unnamed: 714',\n",
       " 'Unnamed: 715',\n",
       " 'Unnamed: 716',\n",
       " 'Unnamed: 717',\n",
       " 'Unnamed: 718',\n",
       " 'Unnamed: 719',\n",
       " 'Unnamed: 720',\n",
       " 'Unnamed: 721',\n",
       " 'Unnamed: 722',\n",
       " 'Unnamed: 723',\n",
       " 'Unnamed: 724',\n",
       " 'Unnamed: 725',\n",
       " 'Unnamed: 726',\n",
       " 'Unnamed: 727',\n",
       " 'Unnamed: 728',\n",
       " 'Unnamed: 729',\n",
       " 'Unnamed: 730',\n",
       " 'Unnamed: 731',\n",
       " 'Unnamed: 732',\n",
       " 'Unnamed: 733',\n",
       " 'Unnamed: 734',\n",
       " 'Unnamed: 735',\n",
       " 'Unnamed: 736',\n",
       " 'Unnamed: 737',\n",
       " 'Unnamed: 738',\n",
       " 'Unnamed: 739',\n",
       " 'Unnamed: 740',\n",
       " 'Unnamed: 741',\n",
       " 'Unnamed: 742',\n",
       " 'Unnamed: 743',\n",
       " 'Unnamed: 744',\n",
       " 'Unnamed: 745',\n",
       " 'Unnamed: 746',\n",
       " 'Unnamed: 747',\n",
       " 'Unnamed: 748',\n",
       " 'Unnamed: 749',\n",
       " 'Unnamed: 750',\n",
       " 'Unnamed: 751',\n",
       " 'Unnamed: 752',\n",
       " 'Unnamed: 753',\n",
       " 'Unnamed: 754',\n",
       " 'Unnamed: 755',\n",
       " 'Unnamed: 756',\n",
       " 'Unnamed: 757',\n",
       " 'Unnamed: 758',\n",
       " 'Unnamed: 759',\n",
       " 'Unnamed: 760',\n",
       " 'Unnamed: 761',\n",
       " 'Unnamed: 762',\n",
       " 'Unnamed: 763',\n",
       " 'Unnamed: 764',\n",
       " 'Unnamed: 765',\n",
       " 'Unnamed: 766',\n",
       " 'Unnamed: 767',\n",
       " 'Unnamed: 768',\n",
       " 'Unnamed: 769',\n",
       " 'Unnamed: 770',\n",
       " 'Unnamed: 771',\n",
       " 'Unnamed: 772',\n",
       " 'Unnamed: 773',\n",
       " 'Unnamed: 774',\n",
       " 'Unnamed: 775',\n",
       " 'Unnamed: 776',\n",
       " 'Unnamed: 777',\n",
       " 'Unnamed: 778',\n",
       " 'Unnamed: 779',\n",
       " 'Unnamed: 780',\n",
       " 'Unnamed: 781',\n",
       " 'Unnamed: 782',\n",
       " 'Unnamed: 783',\n",
       " 'Unnamed: 784',\n",
       " 'Unnamed: 785',\n",
       " 'Unnamed: 786',\n",
       " 'Unnamed: 787',\n",
       " 'Unnamed: 788',\n",
       " 'Unnamed: 789',\n",
       " 'Unnamed: 790',\n",
       " 'Unnamed: 791',\n",
       " 'Unnamed: 792',\n",
       " 'Unnamed: 793',\n",
       " 'Unnamed: 794',\n",
       " 'Unnamed: 795',\n",
       " 'Unnamed: 796',\n",
       " 'Unnamed: 797',\n",
       " 'Unnamed: 798',\n",
       " 'Unnamed: 799',\n",
       " 'Unnamed: 800',\n",
       " 'Unnamed: 801',\n",
       " 'Unnamed: 802',\n",
       " 'Unnamed: 803',\n",
       " 'Unnamed: 804',\n",
       " 'Unnamed: 805',\n",
       " 'Unnamed: 806',\n",
       " 'Unnamed: 807',\n",
       " 'Unnamed: 808',\n",
       " 'Unnamed: 809',\n",
       " 'Unnamed: 810',\n",
       " 'Unnamed: 811',\n",
       " 'Unnamed: 812',\n",
       " 'Unnamed: 813',\n",
       " 'Unnamed: 814',\n",
       " 'Unnamed: 815',\n",
       " 'Unnamed: 816',\n",
       " 'Unnamed: 817',\n",
       " 'Unnamed: 818',\n",
       " 'Unnamed: 819',\n",
       " 'Unnamed: 820',\n",
       " 'Unnamed: 821',\n",
       " 'Unnamed: 822',\n",
       " 'Unnamed: 823',\n",
       " 'Unnamed: 824',\n",
       " 'Unnamed: 825',\n",
       " 'Unnamed: 826',\n",
       " 'Unnamed: 827',\n",
       " 'Unnamed: 828',\n",
       " 'Unnamed: 829',\n",
       " 'Unnamed: 830',\n",
       " 'Unnamed: 831',\n",
       " 'Unnamed: 832',\n",
       " 'Unnamed: 833',\n",
       " 'Unnamed: 834',\n",
       " 'Unnamed: 835',\n",
       " 'Unnamed: 836',\n",
       " 'Unnamed: 837',\n",
       " 'Unnamed: 838',\n",
       " 'Unnamed: 839',\n",
       " 'Unnamed: 840',\n",
       " 'Unnamed: 841',\n",
       " 'Unnamed: 842',\n",
       " 'Unnamed: 843',\n",
       " 'Unnamed: 844',\n",
       " 'Unnamed: 845',\n",
       " 'Unnamed: 846',\n",
       " 'Unnamed: 847',\n",
       " 'Unnamed: 848',\n",
       " 'Unnamed: 849',\n",
       " 'Unnamed: 850',\n",
       " 'Unnamed: 851',\n",
       " 'Unnamed: 852',\n",
       " 'Unnamed: 853',\n",
       " 'Unnamed: 854',\n",
       " 'Unnamed: 855',\n",
       " 'Unnamed: 856',\n",
       " 'Unnamed: 857',\n",
       " 'Unnamed: 858',\n",
       " 'Unnamed: 859',\n",
       " 'Unnamed: 860',\n",
       " 'Unnamed: 861',\n",
       " 'Unnamed: 862',\n",
       " 'Unnamed: 863',\n",
       " 'Unnamed: 864',\n",
       " 'Unnamed: 865',\n",
       " 'Unnamed: 866',\n",
       " 'Unnamed: 867',\n",
       " 'Unnamed: 868',\n",
       " 'Unnamed: 869',\n",
       " 'Unnamed: 870',\n",
       " 'Unnamed: 871',\n",
       " 'Unnamed: 872',\n",
       " 'Unnamed: 873',\n",
       " 'Unnamed: 874',\n",
       " 'Unnamed: 875',\n",
       " 'Unnamed: 876',\n",
       " 'Unnamed: 877',\n",
       " 'Unnamed: 878',\n",
       " 'Unnamed: 879',\n",
       " 'Unnamed: 880',\n",
       " 'Unnamed: 881',\n",
       " 'Unnamed: 882',\n",
       " 'Unnamed: 883',\n",
       " 'Unnamed: 884',\n",
       " 'Unnamed: 885',\n",
       " 'Unnamed: 886',\n",
       " 'Unnamed: 887',\n",
       " 'Unnamed: 888',\n",
       " 'Unnamed: 889',\n",
       " 'Unnamed: 890',\n",
       " 'Unnamed: 891',\n",
       " 'Unnamed: 892',\n",
       " 'Unnamed: 893',\n",
       " 'Unnamed: 894',\n",
       " 'Unnamed: 895',\n",
       " 'Unnamed: 896',\n",
       " 'Unnamed: 897',\n",
       " 'Unnamed: 898',\n",
       " 'Unnamed: 899',\n",
       " 'Unnamed: 900',\n",
       " 'Unnamed: 901',\n",
       " 'Unnamed: 902',\n",
       " 'Unnamed: 903',\n",
       " 'Unnamed: 904',\n",
       " 'Unnamed: 905',\n",
       " 'Unnamed: 906',\n",
       " 'Unnamed: 907',\n",
       " 'Unnamed: 908',\n",
       " 'Unnamed: 909',\n",
       " 'Unnamed: 910',\n",
       " 'Unnamed: 911',\n",
       " 'Unnamed: 912',\n",
       " 'Unnamed: 913',\n",
       " 'Unnamed: 914',\n",
       " 'Unnamed: 915',\n",
       " 'Unnamed: 916',\n",
       " 'Unnamed: 917',\n",
       " 'Unnamed: 918',\n",
       " 'Unnamed: 919',\n",
       " 'Unnamed: 920',\n",
       " 'Unnamed: 921',\n",
       " 'Unnamed: 922',\n",
       " 'Unnamed: 923',\n",
       " 'Unnamed: 924',\n",
       " 'Unnamed: 925',\n",
       " 'Unnamed: 926',\n",
       " 'Unnamed: 927',\n",
       " 'Unnamed: 928',\n",
       " 'Unnamed: 929',\n",
       " 'Unnamed: 930',\n",
       " 'Unnamed: 931',\n",
       " 'Unnamed: 932',\n",
       " 'Unnamed: 933',\n",
       " 'Unnamed: 934',\n",
       " 'Unnamed: 935',\n",
       " 'Unnamed: 936',\n",
       " 'Unnamed: 937',\n",
       " 'Unnamed: 938',\n",
       " 'Unnamed: 939',\n",
       " 'Unnamed: 940',\n",
       " 'Unnamed: 941',\n",
       " 'Unnamed: 942',\n",
       " 'Unnamed: 943',\n",
       " 'Unnamed: 944',\n",
       " 'Unnamed: 945',\n",
       " 'Unnamed: 946',\n",
       " 'Unnamed: 947',\n",
       " 'Unnamed: 948',\n",
       " 'Unnamed: 949',\n",
       " 'Unnamed: 950',\n",
       " 'Unnamed: 951',\n",
       " 'Unnamed: 952',\n",
       " 'Unnamed: 953',\n",
       " 'Unnamed: 954',\n",
       " 'Unnamed: 955',\n",
       " 'Unnamed: 956',\n",
       " 'Unnamed: 957',\n",
       " 'Unnamed: 958',\n",
       " 'Unnamed: 959',\n",
       " 'Unnamed: 960',\n",
       " 'Unnamed: 961',\n",
       " 'Unnamed: 962',\n",
       " 'Unnamed: 963',\n",
       " 'Unnamed: 964',\n",
       " 'Unnamed: 965',\n",
       " 'Unnamed: 966',\n",
       " 'Unnamed: 967',\n",
       " 'Unnamed: 968',\n",
       " 'Unnamed: 969',\n",
       " 'Unnamed: 970',\n",
       " 'Unnamed: 971',\n",
       " 'Unnamed: 972',\n",
       " 'Unnamed: 973',\n",
       " 'Unnamed: 974',\n",
       " 'Unnamed: 975',\n",
       " 'Unnamed: 976',\n",
       " 'Unnamed: 977',\n",
       " 'Unnamed: 978',\n",
       " 'Unnamed: 979',\n",
       " 'Unnamed: 980',\n",
       " 'Unnamed: 981',\n",
       " 'Unnamed: 982',\n",
       " 'Unnamed: 983',\n",
       " 'Unnamed: 984',\n",
       " 'Unnamed: 985',\n",
       " 'Unnamed: 986',\n",
       " 'Unnamed: 987',\n",
       " 'Unnamed: 988',\n",
       " 'Unnamed: 989',\n",
       " 'Unnamed: 990',\n",
       " 'Unnamed: 991',\n",
       " 'Unnamed: 992',\n",
       " 'Unnamed: 993',\n",
       " 'Unnamed: 994',\n",
       " 'Unnamed: 995',\n",
       " 'Unnamed: 996',\n",
       " 'Unnamed: 997',\n",
       " 'Unnamed: 998',\n",
       " 'Unnamed: 999',\n",
       " ...]"
      ]
     },
     "execution_count": 157,
     "metadata": {},
     "output_type": "execute_result"
    }
   ],
   "source": [
    "list(文创.columns)"
   ]
  },
  {
   "cell_type": "code",
   "execution_count": 158,
   "id": "7b903ac9",
   "metadata": {},
   "outputs": [],
   "source": [
    "文创 = 文创[['Unnamed: 0',\n",
    " '订单号',\n",
    " '区域',\n",
    " '合同金额',\n",
    " '部门',\n",
    " '业务员',\n",
    " '截止3月31日应收款',\n",
    " '截止3月31日到期款',\n",
    " '到期日',\n",
    " '今天',\n",
    " '逾期天数',\n",
    " '逾期天数.1',\n",
    " '0~90天',\n",
    " '91~180天',\n",
    " '181~360天',\n",
    " '360-720',\n",
    " '720天以上']]"
   ]
  },
  {
   "cell_type": "code",
   "execution_count": 159,
   "id": "66280363",
   "metadata": {},
   "outputs": [],
   "source": [
    "文创['逾期天数'] = 文创['逾期天数'].fillna(0).astype(int)"
   ]
  },
  {
   "cell_type": "code",
   "execution_count": 160,
   "id": "ed7ac96e",
   "metadata": {},
   "outputs": [],
   "source": [
    "文创 = 文创[~文创['部门'].isin(['应收管理部', '外贸', '法务跟进'])]"
   ]
  },
  {
   "cell_type": "markdown",
   "id": "c4cb2b83",
   "metadata": {},
   "source": [
    "文创 = 文创[~文创['客户'].fillna('').str.contains( '深圳市洲明科技股份有限公司|深圳市海泰装备有限公司|广东洲明节能科技有限公司|成都洲明科技有限公司|海南洲明科技有限公司')]"
   ]
  },
  {
   "cell_type": "code",
   "execution_count": 162,
   "id": "7da67f6f",
   "metadata": {},
   "outputs": [],
   "source": [
    "def number_category(num):\n",
    "    if num == 0:\n",
    "        return '未逾期'\n",
    "    elif num <= 30:\n",
    "        return '求和项:1-30天'\n",
    "    elif num <= 90:\n",
    "        return '求和项:61-90天'\n",
    "    elif num <= 180:\n",
    "        return '求和项:91-180天'\n",
    "    elif num <= 360:\n",
    "        return '求和项:181-360天'\n",
    "    elif num <= 720:\n",
    "        return '求和项:361-720天'\n",
    "    elif num <= 1080:\n",
    "        return '求和项:721-1080天'\n",
    "    elif num <= 1440:\n",
    "        return '求和项:1081-1440天'\n",
    "    elif num <= 1800:\n",
    "        return '求和项:1441-1800天'\n",
    "    elif num <= 2160:\n",
    "        return '求和项:1801-2160天'\n",
    "    else:\n",
    "        return '求和项:2161天以上'\n",
    "\n",
    "文创['逾期期间'] = 文创['逾期天数'].apply(number_category)"
   ]
  },
  {
   "cell_type": "code",
   "execution_count": 163,
   "id": "aaa8804c",
   "metadata": {},
   "outputs": [],
   "source": [
    "文创['求和项:1-30天'] = ''\n",
    "文创['求和项:31-60天'] = ''\n",
    "文创['求和项:61-90天'] = ''\n",
    "文创['求和项:91-180天'] = ''\n",
    "文创['求和项:181-360天'] = ''\n",
    "文创['求和项:361-720天'] = ''\n",
    "文创['求和项:721-1080天'] = ''\n",
    "文创['求和项:1081-1440天'] = ''\n",
    "文创['求和项:1441-1800天'] = ''\n",
    "文创['求和项:1801-2160天'] = ''\n",
    "文创['求和项:2161天以上'] = ''"
   ]
  },
  {
   "cell_type": "code",
   "execution_count": 164,
   "id": "a3010c1c",
   "metadata": {},
   "outputs": [],
   "source": [
    "文创.loc[文创['逾期期间']== '求和项:1-30天', '求和项:1-30天']= 文创['截止3月31日到期款']\n",
    "文创.loc[文创['逾期期间']== '求和项:31-60天', '求和项:31-60天']= 文创['截止3月31日到期款'] \n",
    "文创.loc[文创['逾期期间']== '求和项:61-90天', '求和项:61-90天']= 文创['截止3月31日到期款']\n",
    "文创.loc[文创['逾期期间']== '求和项:91-180天', '求和项:91-180天']= 文创['截止3月31日到期款']\n",
    "\n",
    "文创.loc[文创['逾期期间']== '求和项:181-360天', '求和项:181-360天']= 文创['截止3月31日到期款']\n",
    "文创.loc[文创['逾期期间']== '求和项:361-720天','求和项:361-720天']= 文创['截止3月31日到期款']\n",
    "文创.loc[文创['逾期期间']== '求和项:721-1080天','求和项:721-1080天']= 文创['截止3月31日到期款']\n",
    "文创.loc[文创['逾期期间']== '求和项:1081-1440天', '求和项:1081-1440天']= 文创['截止3月31日到期款']\n",
    "\n",
    "文创.loc[文创['逾期期间']== '求和项:1441-1800天', '求和项:1441-1800天']= 文创['截止3月31日到期款']\n",
    "文创.loc[文创['逾期期间']== '求和项:1801-2160天', '求和项:1801-2160天']= 文创['截止3月31日到期款']\n",
    "文创.loc[文创['逾期期间']== '未逾期', '未逾期']= 文创['截止3月31日到期款']\n",
    "文创.loc[文创['逾期期间']== '求和项:2161天以上', '求和项:2161天以上']= 文创['截止3月31日到期款']\n"
   ]
  },
  {
   "cell_type": "code",
   "execution_count": 165,
   "id": "09417d4f",
   "metadata": {},
   "outputs": [],
   "source": [
    "文创['应收表'] = '文创'"
   ]
  },
  {
   "cell_type": "code",
   "execution_count": 166,
   "id": "e9a08797",
   "metadata": {},
   "outputs": [],
   "source": [
    "文创['省份（透视'] = 文创['区域']"
   ]
  },
  {
   "cell_type": "code",
   "execution_count": null,
   "id": "f646ecd2",
   "metadata": {},
   "outputs": [],
   "source": [
    "文创 = 文创.rename(columns={'客户': '客户名称',\n",
    "                        '业务员': '业务员名称',\n",
    "                        '应收账款': '求和项:剩余应收账款',\n",
    "                        '逾期款': '求和项:已到期金额（原币）',\n",
    "                        '省份': '省份（透视）',\n",
    "                        '部门': '地区'})\n"
   ]
  },
  {
   "cell_type": "code",
   "execution_count": 167,
   "id": "44c4ef65",
   "metadata": {},
   "outputs": [],
   "source": [
    "文创.to_excel('文创应收202403.xlsx')"
   ]
  },
  {
   "cell_type": "markdown",
   "id": "a5b84ac7",
   "metadata": {},
   "source": [
    "# 照明"
   ]
  },
  {
   "cell_type": "code",
   "execution_count": 176,
   "id": "e6e247e9",
   "metadata": {},
   "outputs": [],
   "source": [
    "df = pd.read_excel(r\"C:\\Users\\U0014748\\Desktop\\2024年数据\\3\\内销\\应收\\3月照明内贸账龄表.xlsx\", sheet_name = '账龄表-订单维度')\n",
    "df['应收表']= '照明'\n",
    "#签单对照表 = pd.read_excel(r\"C:\\Users\\U0014748\\Desktop\\2024年数据\\2月\\接单出货1-2月.XLSX\", sheet_name = '接单')\n",
    "#签单对照表 = 签单对照表[['合同号', '省份']]"
   ]
  },
  {
   "cell_type": "code",
   "execution_count": 177,
   "id": "329549ad",
   "metadata": {},
   "outputs": [],
   "source": [
    "df['省份（透视'] = ''"
   ]
  },
  {
   "cell_type": "code",
   "execution_count": 178,
   "id": "b79d3bcb",
   "metadata": {},
   "outputs": [
    {
     "data": {
      "text/plain": [
       "270215538.20000005"
      ]
     },
     "execution_count": 178,
     "metadata": {},
     "output_type": "execute_result"
    }
   ],
   "source": [
    "df['剩余应收账款'].sum()"
   ]
  },
  {
   "cell_type": "code",
   "execution_count": 179,
   "id": "af697379",
   "metadata": {},
   "outputs": [
    {
     "data": {
      "text/plain": [
       "True"
      ]
     },
     "execution_count": 179,
     "metadata": {},
     "output_type": "execute_result"
    }
   ],
   "source": [
    "df['合同号码'].duplicated().any()"
   ]
  },
  {
   "cell_type": "code",
   "execution_count": 251,
   "id": "d02eaf43",
   "metadata": {},
   "outputs": [
    {
     "data": {
      "text/html": [
       "<div>\n",
       "<style scoped>\n",
       "    .dataframe tbody tr th:only-of-type {\n",
       "        vertical-align: middle;\n",
       "    }\n",
       "\n",
       "    .dataframe tbody tr th {\n",
       "        vertical-align: top;\n",
       "    }\n",
       "\n",
       "    .dataframe thead th {\n",
       "        text-align: right;\n",
       "    }\n",
       "</style>\n",
       "<table border=\"1\" class=\"dataframe\">\n",
       "  <thead>\n",
       "    <tr style=\"text-align: right;\">\n",
       "      <th></th>\n",
       "      <th>合同号码</th>\n",
       "      <th>客户名称</th>\n",
       "    </tr>\n",
       "  </thead>\n",
       "  <tbody>\n",
       "    <tr>\n",
       "      <th>8</th>\n",
       "      <td>UNIN2111095-1</td>\n",
       "      <td>安徽五色石建设工程有限公司</td>\n",
       "    </tr>\n",
       "    <tr>\n",
       "      <th>9</th>\n",
       "      <td>UNIN2111095-1</td>\n",
       "      <td>安徽五色石建设工程有限公司</td>\n",
       "    </tr>\n",
       "    <tr>\n",
       "      <th>10</th>\n",
       "      <td>UNIN2111095-1</td>\n",
       "      <td>安徽五色石建设工程有限公司</td>\n",
       "    </tr>\n",
       "    <tr>\n",
       "      <th>11</th>\n",
       "      <td>UNIN2111095-1</td>\n",
       "      <td>安徽五色石建设工程有限公司</td>\n",
       "    </tr>\n",
       "    <tr>\n",
       "      <th>12</th>\n",
       "      <td>UNIN2111095-1</td>\n",
       "      <td>安徽五色石建设工程有限公司</td>\n",
       "    </tr>\n",
       "    <tr>\n",
       "      <th>...</th>\n",
       "      <td>...</td>\n",
       "      <td>...</td>\n",
       "    </tr>\n",
       "    <tr>\n",
       "      <th>491</th>\n",
       "      <td>NaN</td>\n",
       "      <td>中国二十冶集团有限公司</td>\n",
       "    </tr>\n",
       "    <tr>\n",
       "      <th>492</th>\n",
       "      <td>NaN</td>\n",
       "      <td>中国二十冶集团有限公司</td>\n",
       "    </tr>\n",
       "    <tr>\n",
       "      <th>493</th>\n",
       "      <td>NaN</td>\n",
       "      <td>中国二十冶集团有限公司</td>\n",
       "    </tr>\n",
       "    <tr>\n",
       "      <th>494</th>\n",
       "      <td>NaN</td>\n",
       "      <td>中建科工集团有限公司</td>\n",
       "    </tr>\n",
       "    <tr>\n",
       "      <th>496</th>\n",
       "      <td>NaN</td>\n",
       "      <td>重庆巨能建设（集团）有限公司</td>\n",
       "    </tr>\n",
       "  </tbody>\n",
       "</table>\n",
       "<p>61 rows × 2 columns</p>\n",
       "</div>"
      ],
      "text/plain": [
       "              合同号码            客户名称\n",
       "8    UNIN2111095-1   安徽五色石建设工程有限公司\n",
       "9    UNIN2111095-1   安徽五色石建设工程有限公司\n",
       "10   UNIN2111095-1   安徽五色石建设工程有限公司\n",
       "11   UNIN2111095-1   安徽五色石建设工程有限公司\n",
       "12   UNIN2111095-1   安徽五色石建设工程有限公司\n",
       "..             ...             ...\n",
       "491            NaN     中国二十冶集团有限公司\n",
       "492            NaN     中国二十冶集团有限公司\n",
       "493            NaN     中国二十冶集团有限公司\n",
       "494            NaN      中建科工集团有限公司\n",
       "496            NaN  重庆巨能建设（集团）有限公司\n",
       "\n",
       "[61 rows x 2 columns]"
      ]
     },
     "execution_count": 251,
     "metadata": {},
     "output_type": "execute_result"
    }
   ],
   "source": [
    "df[df.duplicated(subset=['合同号码'], keep=False)][['合同号码','客户名称']]"
   ]
  },
  {
   "cell_type": "code",
   "execution_count": 180,
   "id": "3a2dabbc",
   "metadata": {},
   "outputs": [],
   "source": [
    "for index, row in df.iterrows():\n",
    "    if row['区域.1'] not in ['法务', '其他', '应收管理部']:\n",
    "        # Set the desired columns to the value in '区域' or any other value you intend\n",
    "        df.at[index, '省份（透视'] = row['销售组名称']\n",
    "    else:\n",
    "        df.at[index, '省份（透视'] = ''\n",
    "        \n",
    "\n",
    "df['省份（透视'] = df['省份（透视'].str.split('-').str[-1]"
   ]
  },
  {
   "cell_type": "code",
   "execution_count": 181,
   "id": "47790c25",
   "metadata": {},
   "outputs": [
    {
     "data": {
      "text/plain": [
       "270215538.20000005"
      ]
     },
     "execution_count": 181,
     "metadata": {},
     "output_type": "execute_result"
    }
   ],
   "source": [
    "df['剩余应收账款'].sum()"
   ]
  },
  {
   "cell_type": "code",
   "execution_count": 182,
   "id": "4d00324f",
   "metadata": {},
   "outputs": [],
   "source": [
    "df_new = pd.merge(df, 签单省份归属地, left_on = '合同号码', right_on = '合同号', how = 'left')\n",
    "df_new.loc[df_new['项目地'].notna(), '省份（透视'] = df_new['项目地']\n",
    "df_new = df_new.drop(['合同号', '项目地'], axis = 1)"
   ]
  },
  {
   "cell_type": "code",
   "execution_count": 183,
   "id": "4f7d698f",
   "metadata": {},
   "outputs": [
    {
     "data": {
      "text/plain": [
       "270215538.20000005"
      ]
     },
     "execution_count": 183,
     "metadata": {},
     "output_type": "execute_result"
    }
   ],
   "source": [
    "df_new['剩余应收账款'].sum()"
   ]
  },
  {
   "cell_type": "code",
   "execution_count": 184,
   "id": "a79e4d34",
   "metadata": {},
   "outputs": [],
   "source": [
    "df_new.loc[df_new['区域.1'].isin(['其他', '法务', '应收管理部']), '省份（透视'] = ''"
   ]
  },
  {
   "cell_type": "code",
   "execution_count": 185,
   "id": "b419ecf3",
   "metadata": {},
   "outputs": [],
   "source": [
    "照明应收 = pd.merge(df_new,区域对照, left_on = '省份（透视' , right_on =  '城市级', how = 'left')\n",
    "照明应收 = 照明应收.drop('城市级', axis = 1)\n",
    "照明应收['销售组名称（透视）'] = 照明应收['销售组名称']"
   ]
  },
  {
   "cell_type": "code",
   "execution_count": null,
   "id": "396daaef",
   "metadata": {},
   "outputs": [],
   "source": [
    "照明应收 = 照明应收.rename(columns = {\n",
    "    '业务员名称': '名称',\n",
    "    '业务员' : '业务员名称',\n",
    "    '跟进人名称': '跟进人',\n",
    "    '剩余应收账款': '求和项:剩余应收账款',\n",
    "    '已到期金额': '求和项:已到期金额',\n",
    "    '未到期金额': '求和项:未到期金额',\n",
    "    '下月到期金额（本位币）': '求和项:下月到期金额',\n",
    "    '1-30天': '求和项:1-30天',\n",
    "    '31-90天': '求和项:61-90天',\n",
    "    '91-180天':'求和项:91-180天',\n",
    "                             \n",
    "    '181-360天':'求和项:181-360天',\n",
    "                             \n",
    "    '361-720天':'求和项:361-720天',\n",
    "                             \n",
    "    '721-1080天':'求和项:721-1080天',\n",
    "                            \n",
    "    '1081-1440天':'求和项:1081-1440天',\n",
    "                             \n",
    "    '1441-1800天':'求和项:1441-1800天',\n",
    "                             \n",
    "    '1801-2160天':'求和项:1801-2160天',\n",
    "                             \n",
    "    '2161天以上':'求和项:2161天以上',\n",
    "    \n",
    "})"
   ]
  },
  {
   "cell_type": "code",
   "execution_count": 186,
   "id": "701ee642",
   "metadata": {},
   "outputs": [],
   "source": [
    "照明应收.to_excel('照明应收202403.xlsx')"
   ]
  },
  {
   "cell_type": "code",
   "execution_count": null,
   "id": "0b671949",
   "metadata": {},
   "outputs": [],
   "source": []
  },
  {
   "cell_type": "markdown",
   "id": "e712d082",
   "metadata": {},
   "source": [
    "# 内销应收合并"
   ]
  },
  {
   "cell_type": "code",
   "execution_count": null,
   "id": "2be6f286",
   "metadata": {},
   "outputs": [],
   "source": [
    "内销应收合并 = pd.concat([显示应收,渠道应收,照明应收,文创])"
   ]
  },
  {
   "cell_type": "code",
   "execution_count": null,
   "id": "d69f17f9",
   "metadata": {},
   "outputs": [],
   "source": [
    "求和项列 = ['求和项:1-30天', '求和项:31-60天', '求和项:61-90天', '求和项:91-180天', '求和项:181-360天', \n",
    "         '求和项:361-720天', '求和项:721-1080天', '求和项:1081-1440天', '求和项:1441-1800天', \n",
    "         '求和项:1801-2160天', '求和项:2161天以上']\n",
    "\n",
    "for col in 求和项列:\n",
    "    内销应收合并[col] = pd.to_numeric(内销应收合并[col], errors='coerce')\n"
   ]
  },
  {
   "cell_type": "code",
   "execution_count": null,
   "id": "57762b45",
   "metadata": {},
   "outputs": [],
   "source": [
    "内销应收合并['应收资产减值1年内'] = (内销应收合并['求和项:1-30天']+内销应收合并['求和项:31-60天']+ 内销应收合并['求和项:61-90天']+ 内销应收合并['求和项:91-180天']+内销应收合并['求和项:181-360天'])*0.05\n",
    "内销应收合并['应收资产减值1-2年'] = 内销应收合并['求和项:361-720天'] * 0.1\n",
    "内销应收合并['应收资产减值2-3年'] = 内销应收合并['求和项:721-1080天'] * 0.2\n",
    "内销应收合并['应收资产减值3-4年'] = 内销应收合并[ '求和项:1081-1440天'] * 0.4\n",
    "内销应收合并['应收资产减值4-5年'] = 内销应收合并[ '求和项:1441-1800天'] * 0.8\n",
    "内销应收合并['应收资产减值5年以上'] = (内销应收合并[ '求和项:1801-2160天']+内销应收合并[ '求和项:2161天以上'])* 1"
   ]
  },
  {
   "cell_type": "code",
   "execution_count": null,
   "id": "6c83feb4",
   "metadata": {},
   "outputs": [],
   "source": [
    "内销应收合并['应收资产减值1年内'] = 内销应收合并['应收资产减值1年内'].fillna(0)\n",
    "内销应收合并['应收资产减值2-3年'] = 内销应收合并['应收资产减值2-3年'].fillna(0)\n",
    "内销应收合并['应收资产减值3-4年'] = 内销应收合并['应收资产减值3-4年'].fillna(0)\n",
    "内销应收合并['应收资产减值4-5年'] = 内销应收合并['应收资产减值4-5年'].fillna(0)\n",
    "内销应收合并['应收资产减值5年以上'] = 内销应收合并['应收资产减值5年以上'].fillna(0)"
   ]
  },
  {
   "cell_type": "code",
   "execution_count": null,
   "id": "05f22983",
   "metadata": {},
   "outputs": [],
   "source": [
    "内销应收合并['销售类型'] = '内销'"
   ]
  },
  {
   "cell_type": "markdown",
   "id": "1da94ae9",
   "metadata": {},
   "source": [
    "# 海外应收"
   ]
  },
  {
   "cell_type": "code",
   "execution_count": 85,
   "id": "b4d17636",
   "metadata": {},
   "outputs": [],
   "source": [
    "import pandas as pd"
   ]
  },
  {
   "cell_type": "code",
   "execution_count": 266,
   "id": "b5e8190a",
   "metadata": {},
   "outputs": [],
   "source": [
    "国家片区区域对应 = pd.read_excel(r\"C:\\Users\\U0014748\\Desktop\\FIBP\\流程优化\\用于Join的表\\国家片区区域对应关系-2024年最新架构-2024.4.9(1).xlsx\", index_col = '国家')\n",
    "国家片区区域对应 = 国家片区区域对应.drop(['旧版命名', '片区/销售组新的命名（10.8）'], axis = 1)"
   ]
  },
  {
   "cell_type": "code",
   "execution_count": 267,
   "id": "be978451",
   "metadata": {},
   "outputs": [],
   "source": [
    "显示国际 = pd.read_excel(r\"C:\\Users\\U0014748\\Desktop\\2024年数据\\3\\外销\\应收\\显示\\4.3 2024年3月深圳洲明国际应收账款账龄表.XLSX\", sheet_name = '订单明细')\n",
    "显示国际['应收表'] = '海外显示'\n",
    "海外照明 = pd.read_excel(r\"C:\\Users\\U0014748\\Desktop\\2024年数据\\3\\外销\\应收\\照明\\2024.3照明外贸应收账龄表-回款更新至2024.4.3(1).XLSX\", sheet_name = '订单明细表')\n",
    "海外照明['应收表'] = '海外照明'\n",
    "海外照明['【国家】'] =海外照明['国家']\n",
    "海外蓝普 = pd.read_excel(r\"C:\\Users\\U0014748\\Desktop\\2024年数据\\3\\外销\\应收\\蓝普\\2024年3月应收账款账龄分析表2.XLSX\", sheet_name = '3月原表')\n",
    "海外蓝普['应收表'] = '海外蓝普'\n",
    "海外蓝普['【国家】'] =海外蓝普['国家']"
   ]
  },
  {
   "cell_type": "code",
   "execution_count": 268,
   "id": "70aded4d",
   "metadata": {},
   "outputs": [],
   "source": [
    "海外蓝普 = 海外蓝普.rename(columns = {'是否关联方':'是否为关联方'\n",
    "                               })"
   ]
  },
  {
   "cell_type": "code",
   "execution_count": 269,
   "id": "ba553adc",
   "metadata": {},
   "outputs": [],
   "source": [
    "海外应收 = pd.concat([显示国际, 海外照明, 海外蓝普])\n",
    "\n",
    "#海外应收 = pd.merge(海外应收,国家片区区域对应, left_on = '【国家】', right_on = '国家', how = 'left')\n",
    "#海外应收['地区'] = 海外应收['销售组名称（透视）'].str.split('-').str[-1]"
   ]
  },
  {
   "cell_type": "code",
   "execution_count": 270,
   "id": "f5f6fff3",
   "metadata": {},
   "outputs": [],
   "source": [
    "海外应收 = 海外应收.rename(columns={'跟进人名称': '跟进人',\n",
    "                             '剩余应收账款（本位币）': '求和项:剩余应收账款',\n",
    "                             '已到期金额（本位币）': '求和项:已到期金额',\n",
    "                             '未到期金额（本位币）': '求和项:未到期金额',\n",
    "                             '下月到期金额（本位币）': '求和项:下月到期金额',\n",
    "                             '1-30天(本位币)': '求和项:1-30天',\n",
    "                             '31-90天(本位币)': '求和项:61-90天',\n",
    "                             '91-180天(本位币)': '求和项:91-180天',\n",
    "                             '181-360天(本位币)': '求和项:181-360天',\n",
    "                             '361-720天(本位币)': '求和项:361-720天',\n",
    "                             '721-1080天(本位币)': '求和项:721-1080天',\n",
    "                             '1081-1440天(本位币)': '求和项:1081-1440天',\n",
    "                             '1441-1800天(本位币)': '求和项:1441-1800天',\n",
    "                             '1801-2160天(本位币)': '求和项:1801-2160天',\n",
    "                             '2161天以上(本位币)': '求和项:2161天以上',\n",
    "                             '国家': '省份（透视）'\n",
    "                            })\n"
   ]
  },
  {
   "cell_type": "markdown",
   "id": "0ad1ef3a",
   "metadata": {},
   "source": [
    "海外应收 = 海外应收.set_index('应收表')\n",
    "海外应收.to_excel('海外应收.xlsx')"
   ]
  },
  {
   "cell_type": "markdown",
   "id": "fe5a4c02",
   "metadata": {},
   "source": []
  },
  {
   "cell_type": "code",
   "execution_count": null,
   "id": "27dd7695",
   "metadata": {},
   "outputs": [],
   "source": []
  },
  {
   "cell_type": "markdown",
   "id": "1790aad1",
   "metadata": {},
   "source": [
    "# 海外子公司应收 "
   ]
  },
  {
   "cell_type": "code",
   "execution_count": 271,
   "id": "0a419ad3",
   "metadata": {},
   "outputs": [],
   "source": [
    "海外子公司应收 = pd.read_excel(r\"C:\\Users\\U0014748\\Desktop\\2024年数据\\3\\外销\\应收\\海外子公司\\4.4 2024年3月海外子公司应收账款账龄表.xlsx\", sheet_name = 'Sheet1')\n",
    "海外子公司应收['应收表'] = '海外子公司应收'"
   ]
  },
  {
   "cell_type": "code",
   "execution_count": 272,
   "id": "14fe745e",
   "metadata": {},
   "outputs": [],
   "source": [
    "#海外子公司应收['CNY'] = pd.to_numeric(海外子公司应收['CNY'], errors='coerce')"
   ]
  },
  {
   "cell_type": "code",
   "execution_count": 273,
   "id": "4892cae4",
   "metadata": {},
   "outputs": [
    {
     "data": {
      "text/html": [
       "<div>\n",
       "<style scoped>\n",
       "    .dataframe tbody tr th:only-of-type {\n",
       "        vertical-align: middle;\n",
       "    }\n",
       "\n",
       "    .dataframe tbody tr th {\n",
       "        vertical-align: top;\n",
       "    }\n",
       "\n",
       "    .dataframe thead th {\n",
       "        text-align: right;\n",
       "    }\n",
       "</style>\n",
       "<table border=\"1\" class=\"dataframe\">\n",
       "  <thead>\n",
       "    <tr style=\"text-align: right;\">\n",
       "      <th></th>\n",
       "      <th>CNY</th>\n",
       "    </tr>\n",
       "    <tr>\n",
       "      <th>ageing</th>\n",
       "      <th></th>\n",
       "    </tr>\n",
       "  </thead>\n",
       "  <tbody>\n",
       "    <tr>\n",
       "      <th>120&lt;D&lt;=150</th>\n",
       "      <td>9.022018e+06</td>\n",
       "    </tr>\n",
       "    <tr>\n",
       "      <th>150&lt;D&lt;=180</th>\n",
       "      <td>1.779996e+07</td>\n",
       "    </tr>\n",
       "    <tr>\n",
       "      <th>180&lt;D&lt;=210</th>\n",
       "      <td>8.621074e+06</td>\n",
       "    </tr>\n",
       "    <tr>\n",
       "      <th>210&lt;D&lt;=240</th>\n",
       "      <td>-4.686849e+06</td>\n",
       "    </tr>\n",
       "    <tr>\n",
       "      <th>240&lt;D&lt;=270</th>\n",
       "      <td>5.902603e+06</td>\n",
       "    </tr>\n",
       "    <tr>\n",
       "      <th>270&lt;D&lt;=300</th>\n",
       "      <td>-3.209903e+06</td>\n",
       "    </tr>\n",
       "    <tr>\n",
       "      <th>300&lt;D&lt;=330</th>\n",
       "      <td>3.839241e+06</td>\n",
       "    </tr>\n",
       "    <tr>\n",
       "      <th>300&lt;D&lt;=360</th>\n",
       "      <td>-1.210636e+05</td>\n",
       "    </tr>\n",
       "    <tr>\n",
       "      <th>30&lt;D&lt;=60</th>\n",
       "      <td>1.095454e+07</td>\n",
       "    </tr>\n",
       "    <tr>\n",
       "      <th>360&lt;D&lt;=720</th>\n",
       "      <td>3.039326e+07</td>\n",
       "    </tr>\n",
       "    <tr>\n",
       "      <th>60&lt;D&lt;=90</th>\n",
       "      <td>-9.513827e+06</td>\n",
       "    </tr>\n",
       "    <tr>\n",
       "      <th>90&lt;D&lt;=120</th>\n",
       "      <td>8.507790e+06</td>\n",
       "    </tr>\n",
       "    <tr>\n",
       "      <th>D&lt;=30</th>\n",
       "      <td>-3.101323e+06</td>\n",
       "    </tr>\n",
       "    <tr>\n",
       "      <th>D&gt;720</th>\n",
       "      <td>3.568833e+06</td>\n",
       "    </tr>\n",
       "    <tr>\n",
       "      <th>未逾期</th>\n",
       "      <td>1.809181e+07</td>\n",
       "    </tr>\n",
       "  </tbody>\n",
       "</table>\n",
       "</div>"
      ],
      "text/plain": [
       "                     CNY\n",
       "ageing                  \n",
       "120<D<=150  9.022018e+06\n",
       "150<D<=180  1.779996e+07\n",
       "180<D<=210  8.621074e+06\n",
       "210<D<=240 -4.686849e+06\n",
       "240<D<=270  5.902603e+06\n",
       "270<D<=300 -3.209903e+06\n",
       "300<D<=330  3.839241e+06\n",
       "300<D<=360 -1.210636e+05\n",
       "30<D<=60    1.095454e+07\n",
       "360<D<=720  3.039326e+07\n",
       "60<D<=90   -9.513827e+06\n",
       "90<D<=120   8.507790e+06\n",
       "D<=30      -3.101323e+06\n",
       "D>720       3.568833e+06\n",
       "未逾期         1.809181e+07"
      ]
     },
     "execution_count": 273,
     "metadata": {},
     "output_type": "execute_result"
    }
   ],
   "source": [
    "pd.DataFrame(海外子公司应收.groupby('ageing')['CNY'].sum())"
   ]
  },
  {
   "cell_type": "code",
   "execution_count": 274,
   "id": "b8d4b0d0",
   "metadata": {},
   "outputs": [
    {
     "data": {
      "text/plain": [
       "96068171.297727"
      ]
     },
     "execution_count": 274,
     "metadata": {},
     "output_type": "execute_result"
    }
   ],
   "source": [
    "海外子公司应收['CNY'].sum()"
   ]
  },
  {
   "cell_type": "code",
   "execution_count": 275,
   "id": "07d886cc",
   "metadata": {},
   "outputs": [],
   "source": [
    "海外子公司应收['求和项:1-30天'] = ''\n",
    "海外子公司应收['求和项:31-60天'] = ''\n",
    "海外子公司应收['求和项:61-90天'] = ''\n",
    "海外子公司应收['求和项:91-180天'] = ''\n",
    "海外子公司应收['求和项:181-360天'] = ''\n",
    "海外子公司应收['求和项:361-720天'] = ''\n",
    "海外子公司应收['求和项:721-1080天'] = ''\n",
    "海外子公司应收['求和项:1081-1440天'] = ''\n",
    "海外子公司应收['求和项:1441-1800天'] = ''\n",
    "海外子公司应收['求和项:1801-2160天'] = ''\n",
    "海外子公司应收['求和项:2161天以上'] = ''\n",
    "海外子公司应收['未逾期'] = ''"
   ]
  },
  {
   "cell_type": "code",
   "execution_count": 276,
   "id": "499da5b0",
   "metadata": {},
   "outputs": [],
   "source": [
    "海外子公司应收.loc[海外子公司应收['ageing']== '120<D<=150', '求和项:91-180天']= 海外子公司应收['CNY']\n",
    "海外子公司应收.loc[海外子公司应收['ageing']== '150<D<=180', '求和项:91-180天']= 海外子公司应收['CNY'] \n",
    "海外子公司应收.loc[海外子公司应收['ageing']== '180<D<=210', '求和项:181-360天']= 海外子公司应收['CNY'] \n",
    "海外子公司应收.loc[海外子公司应收['ageing']== '210<D<=240', '求和项:181-360天']= 海外子公司应收['CNY'] \n",
    "\n",
    "海外子公司应收.loc[海外子公司应收['ageing']== '240<D<=270', '求和项:181-360天']= 海外子公司应收['CNY'] \n",
    "海外子公司应收.loc[海外子公司应收['ageing']== '270<D<=300', '求和项:181-360天']= 海外子公司应收['CNY'] \n",
    "海外子公司应收.loc[海外子公司应收['ageing']== '30<D<=60', '求和项:31-60天']= 海外子公司应收['CNY'] \n",
    "海外子公司应收.loc[海外子公司应收['ageing']== '300<D<=330', '求和项:181-360天']= 海外子公司应收['CNY']\n",
    "\n",
    "海外子公司应收.loc[海外子公司应收['ageing']== '300<D<=360', '求和项:181-360天']= 海外子公司应收['CNY'] \n",
    "海外子公司应收.loc[海外子公司应收['ageing']== '360<D<=720', '求和项:361-720天']= 海外子公司应收['CNY'] \n",
    "海外子公司应收.loc[海外子公司应收['ageing']== '60<D<=90', '求和项:61-90天']= 海外子公司应收['CNY'] \n",
    "海外子公司应收.loc[海外子公司应收['ageing']== '90<D<=120', '求和项:91-180天']= 海外子公司应收['CNY']\n",
    "\n",
    "海外子公司应收.loc[海外子公司应收['ageing']== 'D<=30', '求和项:1-30天']= 海外子公司应收['CNY'] \n",
    "海外子公司应收.loc[海外子公司应收['ageing']== 'D>720', '求和项:721-1080天']= 海外子公司应收['CNY']\n",
    "海外子公司应收.loc[海外子公司应收['ageing']== '未逾期', '未逾期']= 海外子公司应收['CNY']"
   ]
  },
  {
   "cell_type": "code",
   "execution_count": 277,
   "id": "6cd55852",
   "metadata": {},
   "outputs": [],
   "source": [
    "海外子公司应收['【国家】'] = 海外子公司应收['company']\n",
    "海外子公司应收['省份（透视）'] = 海外子公司应收['company']\n",
    "海外子公司应收['是否为关联方'] = '否'"
   ]
  },
  {
   "cell_type": "code",
   "execution_count": 278,
   "id": "e1905421",
   "metadata": {},
   "outputs": [],
   "source": [
    "海外子公司应收 = 海外子公司应收.drop(['ageing'], axis = 1)"
   ]
  },
  {
   "cell_type": "markdown",
   "id": "c45a8771",
   "metadata": {},
   "source": [
    "海外子公司应收.to_excel('海外子公司应收202403.xlsx')"
   ]
  },
  {
   "cell_type": "code",
   "execution_count": 279,
   "id": "5c8941e8",
   "metadata": {},
   "outputs": [],
   "source": [
    "海外子公司应收= 海外子公司应收.rename(columns = {'company': '公司代码描述1',\n",
    "                                  'customer': '客户名称',\n",
    "                                  'orders': '订单号',\n",
    "                                   'CNY': '求和项:剩余应收账款',\n",
    "                                  '未逾期': '求和项:未到期金额'})"
   ]
  },
  {
   "cell_type": "markdown",
   "id": "76ec000c",
   "metadata": {},
   "source": [
    "# 海外合并"
   ]
  },
  {
   "cell_type": "code",
   "execution_count": 280,
   "id": "002fadc0",
   "metadata": {},
   "outputs": [],
   "source": [
    "海外应收合并 = pd.concat([海外应收,海外子公司应收])"
   ]
  },
  {
   "cell_type": "code",
   "execution_count": 281,
   "id": "e4b2ffbb",
   "metadata": {},
   "outputs": [],
   "source": [
    "海外应收合并表 = pd.merge(海外应收合并,国家片区区域对应, left_on = '【国家】', right_on = '国家', how = 'left')\n",
    "海外应收合并表['省份（透视）'] = 海外应收合并表['【国家】']\n",
    "海外应收合并表['地区'] = 海外应收合并表['销售组名称（透视）'].str.split('-').str[-1]"
   ]
  },
  {
   "cell_type": "code",
   "execution_count": 282,
   "id": "ccd22ae8",
   "metadata": {},
   "outputs": [],
   "source": [
    "海外应收合并表['地区（透视）'] = 海外应收合并表['地区']"
   ]
  },
  {
   "cell_type": "code",
   "execution_count": 283,
   "id": "1f7b083e",
   "metadata": {},
   "outputs": [],
   "source": [
    "海外应收合并表= 海外应收合并表.drop(['【国家】','地区'], axis = 1)"
   ]
  },
  {
   "cell_type": "code",
   "execution_count": null,
   "id": "530b7f14",
   "metadata": {},
   "outputs": [],
   "source": [
    "求和项列 = ['求和项:1-30天', '求和项:31-60天', '求和项:61-90天', '求和项:91-180天', '求和项:181-360天', \n",
    "         '求和项:361-720天', '求和项:721-1080天', '求和项:1081-1440天', '求和项:1441-1800天', \n",
    "         '求和项:1801-2160天', '求和项:2161天以上']\n",
    "\n",
    "for col in 求和项列:\n",
    "    海外应收合并表[col] = pd.to_numeric(海外应收合并表[col], errors='coerce')\n"
   ]
  },
  {
   "cell_type": "code",
   "execution_count": null,
   "id": "6a6bf369",
   "metadata": {},
   "outputs": [],
   "source": [
    "海外应收合并表['应收资产减值1年内'] = (海外应收合并表['求和项:1-30天']+海外应收合并表['求和项:31-60天']+ 海外应收合并表['求和项:61-90天']+ 海外应收合并表['求和项:91-180天']+海外应收合并表['求和项:181-360天'])*0.05\n",
    "海外应收合并表['应收资产减值1-2年'] = 海外应收合并表['求和项:361-720天'] * 0.1\n",
    "海外应收合并表['应收资产减值2-3年'] = 海外应收合并表['求和项:721-1080天'] * 0.2\n",
    "海外应收合并表['应收资产减值3-4年'] = 海外应收合并表[ '求和项:1081-1440天'] * 0.4\n",
    "海外应收合并表['应收资产减值4-5年'] = 海外应收合并表[ '求和项:1441-1800天'] * 0.8\n",
    "海外应收合并表['应收资产减值5年以上'] = (海外应收合并表[ '求和项:1801-2160天']+海外应收合并表[ '求和项:2161天以上'])* 1"
   ]
  },
  {
   "cell_type": "code",
   "execution_count": null,
   "id": "8cfb19dc",
   "metadata": {},
   "outputs": [],
   "source": [
    "海外应收合并表['应收资产减值1年内'] = 海外应收合并表['应收资产减值1年内'].fillna(0)\n",
    "海外应收合并表['应收资产减值2-3年'] = 海外应收合并表['应收资产减值2-3年'].fillna(0)\n",
    "海外应收合并表['应收资产减值3-4年'] = 海外应收合并表['应收资产减值3-4年'].fillna(0)\n",
    "海外应收合并表['应收资产减值4-5年'] = 海外应收合并表['应收资产减值4-5年'].fillna(0)\n",
    "海外应收合并表['应收资产减值5年以上'] = 海外应收合并表['应收资产减值5年以上'].fillna(0)"
   ]
  },
  {
   "cell_type": "code",
   "execution_count": null,
   "id": "9eeb28de",
   "metadata": {},
   "outputs": [],
   "source": [
    "海外应收合并表['应收资产减值总数'] = 海外应收合并表['应收资产减值1年内'] + 海外应收合并表['应收资产减值1-2年'] + 海外应收合并表['应收资产减值2-3年'] + 海外应收合并表['应收资产减值3-4年'] + 海外应收合并表['应收资产减值4-5年'] + 海外应收合并表['应收资产减值5年以上']\n"
   ]
  },
  {
   "cell_type": "code",
   "execution_count": null,
   "id": "5cb2ab14",
   "metadata": {},
   "outputs": [],
   "source": [
    "海外应收合并表['销售类型'] = '外销'"
   ]
  },
  {
   "cell_type": "code",
   "execution_count": null,
   "id": "103a3d4b",
   "metadata": {},
   "outputs": [],
   "source": []
  },
  {
   "cell_type": "code",
   "execution_count": 288,
   "id": "87a17627",
   "metadata": {},
   "outputs": [],
   "source": [
    "#海外应收合并表 = 海外应收合并表.set_index('应收表')\n",
    "海外应收合并表.to_excel('外销202404.xlsx')"
   ]
  },
  {
   "cell_type": "code",
   "execution_count": null,
   "id": "6cfe7e2a",
   "metadata": {},
   "outputs": [],
   "source": []
  },
  {
   "cell_type": "code",
   "execution_count": null,
   "id": "c462e901",
   "metadata": {},
   "outputs": [],
   "source": []
  },
  {
   "cell_type": "code",
   "execution_count": null,
   "id": "ad6d727f",
   "metadata": {},
   "outputs": [],
   "source": []
  },
  {
   "cell_type": "code",
   "execution_count": null,
   "id": "793f5e17",
   "metadata": {},
   "outputs": [],
   "source": []
  },
  {
   "cell_type": "code",
   "execution_count": null,
   "id": "7031d4e1",
   "metadata": {},
   "outputs": [],
   "source": []
  },
  {
   "cell_type": "code",
   "execution_count": null,
   "id": "65d638bc",
   "metadata": {},
   "outputs": [],
   "source": []
  },
  {
   "cell_type": "code",
   "execution_count": null,
   "id": "4257ec02",
   "metadata": {},
   "outputs": [],
   "source": []
  },
  {
   "cell_type": "code",
   "execution_count": null,
   "id": "2af0dd88",
   "metadata": {},
   "outputs": [],
   "source": []
  },
  {
   "cell_type": "code",
   "execution_count": null,
   "id": "0001e3b1",
   "metadata": {},
   "outputs": [],
   "source": []
  },
  {
   "cell_type": "markdown",
   "id": "d70a1293",
   "metadata": {},
   "source": [
    "# 全合并"
   ]
  },
  {
   "cell_type": "markdown",
   "id": "04a359c2",
   "metadata": {},
   "source": [
    "海外应收 = 海外应收.rename(columns={'跟进人名称': '跟进人',\n",
    "                             '剩余应收账款（本位币）': '求和项:剩余应收账款',\n",
    "                             '已到期金额（本位币）': '求和项:已到期金额',\n",
    "                             '未到期金额（本位币）': '求和项:未到期金额',\n",
    "                             '下月到期金额（本位币）': '求和项:下月到期金额',\n",
    "                             '1-30天(本位币)': '求和项:1-30天',\n",
    "                             '31-90天(本位币)': '求和项:61-90天',\n",
    "                             '91-180天(本位币)': '求和项:91-180天',\n",
    "                             '181-360天(本位币)': '求和项:181-360天',\n",
    "                             '361-720天(本位币)': '求和项:361-720天',\n",
    "                             '721-1080天(本位币)': '求和项:721-1080天',\n",
    "                             '1081-1440天(本位币)': '求和项:1081-1440天',\n",
    "                             '1441-1800天(本位币)': '求和项:1441-1800天',\n",
    "                             '1801-2160天(本位币)': '求和项:1801-2160天',\n",
    "                             '2161天以上(本位币)': '求和项:2161天以上',\n",
    "                             '国家': '省份（透视）'\n",
    "                            })\n"
   ]
  },
  {
   "cell_type": "markdown",
   "id": "9a8a5ae0",
   "metadata": {},
   "source": [
    "海外子公司应收= 海外子公司应收.rename(columns = {'company': '公司代码描述1',\n",
    "                                  'customer': '客户名称',\n",
    "                                  'orders': '订单号',\n",
    "                                   'CNY': '求和项:剩余应收账款',\n",
    "                                  '未逾期': '求和项:未到期金额'})"
   ]
  },
  {
   "cell_type": "code",
   "execution_count": 52,
   "id": "ae970c4d",
   "metadata": {},
   "outputs": [],
   "source": [
    "显示应收 = 显示应收.rename(columns = {'求和项:剩余应收账款（原币）': '求和项:剩余应收账款',\n",
    "                              '分销/主品牌': '业务范围描述',\n",
    "                             '求和项:已到期金额（原币）':'求和项:已到期金额',\n",
    "                             '求和项:未到期金额（原币）':'求和项:未到期金额',\n",
    "                             '求和项:下月到期金额（原币）': '求和项:下月到期金额',\n",
    "                             '求和项:1-30天(原币)':'求和项:1-30天',\n",
    "                             '求和项:31-60天(原币)': '求和项:31-60天',\n",
    "                              '求和项:61-90天(原币)': '求和项:61-90天',\n",
    "                              '求和项:91-180天(原币)': '求和项:91-180天',\n",
    "                              '求和项:181-360天(原币)':'求和项:181-360天',\n",
    "                              '求和项:361-720天(原币)':'求和项:361-720天',\n",
    "                              '求和项:721-1080天(原币)':'求和项:721-1080天',\n",
    "                              '求和项:1081-1440天(原币)':'求和项:1081-1440天',\n",
    "                              '求和项:1441-1800天(原币)': '求和项:1441-1800天',\n",
    "                              '求和项:1801-2160天(原币)': '求和项:1801-2160天',\n",
    "                              '求和项:2161天以上(原币)': '求和项:2161天以上'})"
   ]
  },
  {
   "cell_type": "code",
   "execution_count": 53,
   "id": "d70ffb85",
   "metadata": {},
   "outputs": [],
   "source": [
    "渠道应收 = 渠道应收.rename(columns = {\n",
    "    '行标签': '客户名称',\n",
    "    '剩余应收账款':'求和项:剩余应收账款',\n",
    "    '已到期金额':'求和项:已到期金额',\n",
    "    '未到期金额': '求和项:未到期金额',\n",
    "    '下月到期金额': '求和项:下月到期金额',\n",
    "    '31-60天': '求和项:31-60天',\n",
    "    '61-90天': '求和项:61-90天',\n",
    "    '91-180天': '求和项:91-180天',\n",
    "    '181-360天': '求和项:181-360天',\n",
    "    '361-720天': '求和项:361-720天',\n",
    "    '721-1080天': '求和项:721-1080天',\n",
    "    '1081-1440天': '求和项:1081-1440天',\n",
    "    '1441-1800天': '求和项:1441-1800天',\n",
    "    '1801-2160天': '求和项:1801-2160天',\n",
    "    '2161天以上':  '求和项:2161天以上',\n",
    "    \n",
    "    \n",
    "})"
   ]
  },
  {
   "cell_type": "code",
   "execution_count": 54,
   "id": "a77b2682",
   "metadata": {},
   "outputs": [],
   "source": [
    "照明应收 = 照明应收.rename(columns = {\n",
    "    '业务员名称': '名称',\n",
    "    '业务员' : '业务员名称',\n",
    "    '跟进人名称': '跟进人',\n",
    "    '剩余应收账款': '求和项:剩余应收账款',\n",
    "    '已到期金额': '求和项:已到期金额',\n",
    "    '未到期金额': '求和项:未到期金额',\n",
    "    '下月到期金额（本位币）': '求和项:下月到期金额',\n",
    "    '1-30天': '求和项:1-30天',\n",
    "    '31-90天': '求和项:61-90天',\n",
    "    '91-180天':'求和项:91-180天',\n",
    "                             \n",
    "    '181-360天':'求和项:181-360天',\n",
    "                             \n",
    "    '361-720天':'求和项:361-720天',\n",
    "                             \n",
    "    '721-1080天':'求和项:721-1080天',\n",
    "                            \n",
    "    '1081-1440天':'求和项:1081-1440天',\n",
    "                             \n",
    "    '1441-1800天':'求和项:1441-1800天',\n",
    "                             \n",
    "    '1801-2160天':'求和项:1801-2160天',\n",
    "                             \n",
    "    '2161天以上':'求和项:2161天以上',\n",
    "    \n",
    "})"
   ]
  },
  {
   "cell_type": "code",
   "execution_count": 55,
   "id": "70dc8ef4",
   "metadata": {},
   "outputs": [],
   "source": [
    "文创 = 文创.rename(columns={'客户': '客户名称',\n",
    "                        '业务员': '业务员名称',\n",
    "                        '应收账款': '求和项:剩余应收账款',\n",
    "                        '逾期款': '求和项:已到期金额（原币）',\n",
    "                        '省份': '省份（透视）',\n",
    "                        '部门': '地区'})\n"
   ]
  },
  {
   "cell_type": "code",
   "execution_count": 15,
   "id": "3cecb6a5",
   "metadata": {},
   "outputs": [],
   "source": [
    "应收合并 = pd.concat([显示应收,渠道应收,照明应收,文创,海外应收合并表] )#显示应收,渠道应收,照明应收,文创"
   ]
  },
  {
   "cell_type": "code",
   "execution_count": 16,
   "id": "d1e1df9c",
   "metadata": {},
   "outputs": [],
   "source": [
    "应收合并.to_excel('应收合并202403.xlsx')"
   ]
  },
  {
   "cell_type": "markdown",
   "id": "eb55599e",
   "metadata": {},
   "source": [
    "#海外应收合并\n",
    "海外应收合并 = pd.concat([海外应收, 海外子公司应收] )"
   ]
  },
  {
   "cell_type": "code",
   "execution_count": null,
   "id": "52b92b00",
   "metadata": {},
   "outputs": [],
   "source": []
  },
  {
   "cell_type": "code",
   "execution_count": null,
   "id": "9942342e",
   "metadata": {},
   "outputs": [],
   "source": []
  },
  {
   "cell_type": "code",
   "execution_count": 107,
   "id": "cb3b228a",
   "metadata": {},
   "outputs": [
    {
     "data": {
      "text/plain": [
       "Index(['销售凭证', '合同号码', '公司代码', '公司代码描述1', '业务范围', '业务范围描述', '销售组织', '总账科目',\n",
       "       '科目描述', '客户编码', '是否为关联方', '是否特批', '客户名称', '区域', '区域名称', '省份（透视）', '销售组',\n",
       "       '销售组名称', '行业类型', '业务员名称', '跟进人编号', '跟进人', '付款方式', '是否投中信保', '原币币别',\n",
       "       '合同金额（原币）', '应收账款（开票金额-原币）', '已收款金额（原币）', '剩余应收账款（原币）', '收款（原币）', '币别',\n",
       "       '收款（人民币）', '订单预收款（原币）', '待定金额（原币）', '逾期百分比', '已到期金额（原币）', '未到期金额（原币）',\n",
       "       '下月到期金额（原币）', '下下月到期金额（原币）', '下下下月到期金额（原币）', '全部到期时间（原币）', '质保金额（原币）',\n",
       "       '1-30天(原币)', '31-90天(原币)', '91-180天(原币)', '181-360天(原币)',\n",
       "       '361-720天(原币)', '721-1080天(原币)', '1081-1440天(原币)', '1441-1800天(原币)',\n",
       "       '1801-2160天(原币)', '2161天以上(原币)', '合同金额（本位币）', '应收账款（开票金额-本位币）',\n",
       "       '已收款金额（本位币）', '求和项:剩余应收账款', '订单预收款（本位币）', '待定金额（本位币）', '求和项:已到期金额',\n",
       "       '求和项:未到期金额', '4月到期金额（本位币）', '下下月到期金额（本位币）', '下下下月到期金额（本位币）',\n",
       "       '全部到期时间（本位币）', '质保金额（本位币）', '求和项:1-30天', '求和项:61-90天', '求和项:91-180天',\n",
       "       '求和项:181-360天', '求和项:361-720天', '求和项:721-1080天', '求和项:1081-1440天',\n",
       "       '求和项:1441-1800天', '求和项:1801-2160天', '求和项:2161天以上', '跟进状态备注', '最后确认收入日期',\n",
       "       '产品线', '应收表', '区域2', '求和项:下月到期金额', '销售部门名称（透视）', '销售组名称（透视）', '地区',\n",
       "       '凭证日期', '订单号', '求和项:31-60天'],\n",
       "      dtype='object')"
      ]
     },
     "execution_count": 107,
     "metadata": {},
     "output_type": "execute_result"
    }
   ],
   "source": [
    "海外应收合并.columns"
   ]
  },
  {
   "cell_type": "code",
   "execution_count": null,
   "id": "07fcb31d",
   "metadata": {},
   "outputs": [],
   "source": []
  },
  {
   "cell_type": "markdown",
   "id": "0b4167a6",
   "metadata": {},
   "source": [
    "照明应收.columns[照明应收.columns.duplicated()].unique()"
   ]
  },
  {
   "cell_type": "code",
   "execution_count": 58,
   "id": "140d72cd",
   "metadata": {},
   "outputs": [],
   "source": [
    "求和项列 = ['求和项:1-30天', '求和项:31-60天', '求和项:61-90天', '求和项:91-180天', '求和项:181-360天', \n",
    "         '求和项:361-720天', '求和项:721-1080天', '求和项:1081-1440天', '求和项:1441-1800天', \n",
    "         '求和项:1801-2160天', '求和项:2161天以上']\n",
    "\n",
    "for col in 求和项列:\n",
    "    应收合并[col] = pd.to_numeric(应收合并[col], errors='coerce')\n"
   ]
  },
  {
   "cell_type": "code",
   "execution_count": 59,
   "id": "7f6d64d1",
   "metadata": {},
   "outputs": [],
   "source": [
    "应收合并['应收资产减值1年内'] = (应收合并['求和项:1-30天']+应收合并['求和项:31-60天']+ 应收合并['求和项:61-90天']+ 应收合并['求和项:91-180天']+应收合并['求和项:181-360天'])*0.05\n",
    "应收合并['应收资产减值1-2年'] = 应收合并['求和项:361-720天'] * 0.1\n",
    "应收合并['应收资产减值2-3年'] = 应收合并['求和项:721-1080天'] * 0.2\n",
    "应收合并['应收资产减值3-4年'] = 应收合并[ '求和项:1081-1440天'] * 0.4\n",
    "应收合并['应收资产减值4-5年'] = 应收合并[ '求和项:1441-1800天'] * 0.8\n",
    "应收合并['应收资产减值5年以上'] = (应收合并[ '求和项:1801-2160天']+应收合并[ '求和项:2161天以上'])* 1"
   ]
  },
  {
   "cell_type": "code",
   "execution_count": 60,
   "id": "e4300acd",
   "metadata": {},
   "outputs": [],
   "source": [
    "应收合并['应收资产减值1年内'] = 应收合并['应收资产减值1年内'].fillna(0)\n",
    "应收合并['应收资产减值2-3年'] = 应收合并['应收资产减值2-3年'].fillna(0)\n",
    "应收合并['应收资产减值3-4年'] = 应收合并['应收资产减值3-4年'].fillna(0)\n",
    "应收合并['应收资产减值4-5年'] = 应收合并['应收资产减值4-5年'].fillna(0)\n",
    "应收合并['应收资产减值5年以上'] = 应收合并['应收资产减值5年以上'].fillna(0)"
   ]
  },
  {
   "cell_type": "code",
   "execution_count": 61,
   "id": "ec4498a6",
   "metadata": {},
   "outputs": [],
   "source": [
    "应收合并['应收资产减值总数'] = 应收合并['应收资产减值1年内'] + 应收合并['应收资产减值1-2年'] + 应收合并['应收资产减值2-3年'] + 应收合并['应收资产减值3-4年'] + 应收合并['应收资产减值4-5年'] + 应收合并['应收资产减值5年以上']\n"
   ]
  },
  {
   "cell_type": "code",
   "execution_count": 62,
   "id": "868d3aaf",
   "metadata": {},
   "outputs": [
    {
     "name": "stderr",
     "output_type": "stream",
     "text": [
      "C:\\Users\\U0014748\\AppData\\Local\\Temp\\ipykernel_9920\\298520040.py:1: PerformanceWarning: DataFrame is highly fragmented.  This is usually the result of calling `frame.insert` many times, which has poor performance.  Consider joining all columns at once using pd.concat(axis=1) instead. To get a de-fragmented frame, use `newframe = frame.copy()`\n",
      "  应收合并.loc[应收合并['应收表'].isin(['海外子公司应收', '海外显示', '海外蓝普', '海外照明']), '销售类型'] = '外销'\n"
     ]
    }
   ],
   "source": [
    "应收合并.loc[应收合并['应收表'].isin(['海外子公司应收', '海外显示', '海外蓝普', '海外照明']), '销售类型'] = '外销'\n",
    "应收合并.loc[应收合并['应收表'].isin(['照明', '显示', '渠道应收', '文创']), '销售类型'] = '内销'"
   ]
  },
  {
   "cell_type": "code",
   "execution_count": 63,
   "id": "e836f38b",
   "metadata": {},
   "outputs": [],
   "source": [
    "应收合并 = 应收合并[['公司代码',\n",
    " '客户编码',\n",
    " '客户名称',\n",
    " '业务范围描述',\n",
    " '销售组名称',\n",
    "             '销售类型',\n",
    " '跟进部门',\n",
    " '业务员名称',\n",
    " '跟进人',\n",
    " '求和项:剩余应收账款',\n",
    " '求和项:已到期金额',\n",
    " '求和项:未到期金额',\n",
    " '求和项:下月到期金额',\n",
    " '求和项:1-30天',\n",
    " '求和项:31-60天',\n",
    " '求和项:61-90天',\n",
    " '求和项:91-180天',\n",
    " '求和项:181-360天',\n",
    " '求和项:361-720天',\n",
    " '求和项:721-1080天',\n",
    " '求和项:1081-1440天',\n",
    " '求和项:1441-1800天',\n",
    " '求和项:1801-2160天',\n",
    " '求和项:2161天以上',\n",
    "             '应收资产减值1年内', '应收资产减值1-2年',\n",
    "       '应收资产减值2-3年', '应收资产减值3-4年', '应收资产减值4-5年', '应收资产减值5年以上','应收资产减值总数',\n",
    " 'Unnamed: 24',\n",
    " 'Unnamed: 25',\n",
    " '应收表',\n",
    " '省份（透视',\n",
    " '地区',\n",
    " '销售组名称（透视）',\n",
    " '区域',\n",
    " '责任人',\n",
    " '应收账款-蓝普',\n",
    " '应收账款-技术服务',\n",
    " '应收账款-广东洲明',\n",
    " '应收账款-中山智能制造',\n",
    " '应收账款-中山洲明科技',\n",
    " '预收账款-合并',\n",
    " '调整后应收金额\\n（减去预收款）',\n",
    " '（未到期负数）\\n预收款',\n",
    " '调整后到期金额',\n",
    " '调整后未到期金额',\n",
    " 'Unnamed: 29',\n",
    " '公司',\n",
    " '销售凭证',\n",
    " '合同号码',\n",
    " '公司代码描述1',\n",
    " '业务范围',\n",
    " '销售组织',\n",
    " '总账科目',\n",
    " '科目描述',\n",
    " '区域名称',\n",
    " '国家',\n",
    " '销售组',\n",
    " '行业类型',\n",
    " '名称',\n",
    " '跟进人编号',\n",
    " '类型',\n",
    " '区域.1',\n",
    " '付款方式',\n",
    " '是否投中信保',\n",
    " '原币币别',\n",
    " '合同金额',\n",
    " '应收账款（开票金额-原币）',\n",
    " '已收款金额',\n",
    " '订单预收款',\n",
    " '待定金额',\n",
    " '逾期百分比',\n",
    " '下下月到期金额（本位币）',\n",
    " '下下下月到期金额（本位币）',\n",
    " '全部到期时间（本位币）',\n",
    " '质保金额（本位币）',\n",
    " '跟进状态备注',\n",
    " '最后确认收入日期',\n",
    " '产品线',\n",
    " '订单号',\n",
    " '省份（透视）',\n",
    " '项目名称',\n",
    " '未收款占比',\n",
    " '求和项:已到期金额（原币）',\n",
    " '逾期款-性质',\n",
    " '到期日',\n",
    " '2月',\n",
    " '逾期天数',\n",
    " '逾期期间',\n",
    " '是否为关联方',\n",
    " '是否特批',\n",
    " '合同金额（原币）',\n",
    " '已收款金额（原币）',\n",
    " '剩余应收账款（原币）',\n",
    " '收款（原币）',\n",
    " '币别',\n",
    " '收款（人民币）',\n",
    " '订单预收款（原币）',\n",
    " '待定金额（原币）',\n",
    " '已到期金额（原币）',\n",
    " '未到期金额（原币）',\n",
    " '下月到期金额（原币）',\n",
    " '下下月到期金额（原币）',\n",
    " '下下下月到期金额（原币）',\n",
    " '全部到期时间（原币）',\n",
    " '质保金额（原币）',\n",
    " '1-30天(原币)',\n",
    " '31-90天(原币)',\n",
    " '91-180天(原币)',\n",
    " '181-360天(原币)',\n",
    " '361-720天(原币)',\n",
    " '721-1080天(原币)',\n",
    " '1081-1440天(原币)',\n",
    " '1441-1800天(原币)',\n",
    " '1801-2160天(原币)',\n",
    " '2161天以上(原币)',\n",
    " '合同金额（本位币）',\n",
    " '应收账款（开票金额-本位币）',\n",
    " '已收款金额（本位币）',\n",
    " '订单预收款（本位币）',\n",
    " '待定金额（本位币）',\n",
    " '3月到期金额（本位币）',\n",
    " '【大区】',\n",
    " '【国家】',\n",
    " '【战区】',\n",
    " '【一年以上】',\n",
    " '区域2',\n",
    " '销售部门名称（透视）',\n",
    " '凭证日期']]"
   ]
  },
  {
   "cell_type": "code",
   "execution_count": null,
   "id": "e48da390",
   "metadata": {},
   "outputs": [],
   "source": []
  },
  {
   "cell_type": "code",
   "execution_count": 64,
   "id": "7f459c17",
   "metadata": {},
   "outputs": [],
   "source": [
    "应收合并 = 应收合并.set_index('应收表')"
   ]
  },
  {
   "cell_type": "code",
   "execution_count": 65,
   "id": "9c42daa4",
   "metadata": {},
   "outputs": [],
   "source": [
    "应收合并.to_excel('应收合并表.xlsx')"
   ]
  },
  {
   "cell_type": "code",
   "execution_count": null,
   "id": "8750df3c",
   "metadata": {},
   "outputs": [],
   "source": []
  }
 ],
 "metadata": {
  "kernelspec": {
   "display_name": "Python 3 (ipykernel)",
   "language": "python",
   "name": "python3"
  },
  "language_info": {
   "codemirror_mode": {
    "name": "ipython",
    "version": 3
   },
   "file_extension": ".py",
   "mimetype": "text/x-python",
   "name": "python",
   "nbconvert_exporter": "python",
   "pygments_lexer": "ipython3",
   "version": "3.11.5"
  }
 },
 "nbformat": 4,
 "nbformat_minor": 5
}
