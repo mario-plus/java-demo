{
 "cells": [
  {
   "cell_type": "code",
   "execution_count": 1,
   "id": "c4e592cf-f4e0-4155-9ff8-60cc350df4c5",
   "metadata": {
    "tags": []
   },
   "outputs": [],
   "source": [
    "import pandas as pd"
   ]
  },
  {
   "cell_type": "code",
   "execution_count": 2,
   "id": "823c0e5f-628b-4b0d-a040-e66764f6961d",
   "metadata": {
    "tags": []
   },
   "outputs": [
    {
     "name": "stderr",
     "output_type": "stream",
     "text": [
      "C:\\Users\\U0014748\\AppData\\Local\\anaconda3\\Lib\\site-packages\\openpyxl\\worksheet\\_read_only.py:79: UserWarning: Cell G1579 is marked as a date but the serial value 60021983 is outside the limits for dates. The cell will be treated as an error.\n",
      "  for idx, row in parser.parse():\n",
      "C:\\Users\\U0014748\\AppData\\Local\\anaconda3\\Lib\\site-packages\\openpyxl\\worksheet\\_read_only.py:79: UserWarning: Cell BW2603 is marked as a date but the serial value 5800002698 is outside the limits for dates. The cell will be treated as an error.\n",
      "  for idx, row in parser.parse():\n",
      "C:\\Users\\U0014748\\AppData\\Local\\anaconda3\\Lib\\site-packages\\openpyxl\\worksheet\\_read_only.py:79: UserWarning: Cell BW7983 is marked as a date but the serial value 5000412283 is outside the limits for dates. The cell will be treated as an error.\n",
      "  for idx, row in parser.parse():\n",
      "C:\\Users\\U0014748\\AppData\\Local\\anaconda3\\Lib\\site-packages\\openpyxl\\worksheet\\_read_only.py:79: UserWarning: Cell F9204 is marked as a date but the serial value 202302002 is outside the limits for dates. The cell will be treated as an error.\n",
      "  for idx, row in parser.parse():\n",
      "C:\\Users\\U0014748\\AppData\\Local\\anaconda3\\Lib\\site-packages\\openpyxl\\worksheet\\_read_only.py:79: UserWarning: Cell G10536 is marked as a date but the serial value 60024341 is outside the limits for dates. The cell will be treated as an error.\n",
      "  for idx, row in parser.parse():\n",
      "C:\\Users\\U0014748\\AppData\\Local\\anaconda3\\Lib\\site-packages\\openpyxl\\worksheet\\_read_only.py:79: UserWarning: Cell G14074 is marked as a date but the serial value 60025102 is outside the limits for dates. The cell will be treated as an error.\n",
      "  for idx, row in parser.parse():\n",
      "C:\\Users\\U0014748\\AppData\\Local\\anaconda3\\Lib\\site-packages\\openpyxl\\worksheet\\_read_only.py:79: UserWarning: Cell G14075 is marked as a date but the serial value 60025166 is outside the limits for dates. The cell will be treated as an error.\n",
      "  for idx, row in parser.parse():\n",
      "C:\\Users\\U0014748\\AppData\\Local\\anaconda3\\Lib\\site-packages\\openpyxl\\worksheet\\_read_only.py:79: UserWarning: Cell G14076 is marked as a date but the serial value 60025391 is outside the limits for dates. The cell will be treated as an error.\n",
      "  for idx, row in parser.parse():\n",
      "C:\\Users\\U0014748\\AppData\\Local\\anaconda3\\Lib\\site-packages\\openpyxl\\worksheet\\_read_only.py:79: UserWarning: Cell G14077 is marked as a date but the serial value 60025393 is outside the limits for dates. The cell will be treated as an error.\n",
      "  for idx, row in parser.parse():\n",
      "C:\\Users\\U0014748\\AppData\\Local\\anaconda3\\Lib\\site-packages\\openpyxl\\worksheet\\_read_only.py:79: UserWarning: Cell G14078 is marked as a date but the serial value 60025395 is outside the limits for dates. The cell will be treated as an error.\n",
      "  for idx, row in parser.parse():\n",
      "C:\\Users\\U0014748\\AppData\\Local\\anaconda3\\Lib\\site-packages\\openpyxl\\worksheet\\_read_only.py:79: UserWarning: Cell BT14101 is marked as a date but the serial value 60025348 is outside the limits for dates. The cell will be treated as an error.\n",
      "  for idx, row in parser.parse():\n",
      "C:\\Users\\U0014748\\AppData\\Local\\anaconda3\\Lib\\site-packages\\openpyxl\\worksheet\\_read_only.py:79: UserWarning: Cell BT14102 is marked as a date but the serial value 60025255 is outside the limits for dates. The cell will be treated as an error.\n",
      "  for idx, row in parser.parse():\n",
      "C:\\Users\\U0014748\\AppData\\Local\\anaconda3\\Lib\\site-packages\\openpyxl\\worksheet\\_read_only.py:79: UserWarning: Cell G18180 is marked as a date but the serial value 60025718 is outside the limits for dates. The cell will be treated as an error.\n",
      "  for idx, row in parser.parse():\n",
      "C:\\Users\\U0014748\\AppData\\Local\\anaconda3\\Lib\\site-packages\\openpyxl\\worksheet\\_read_only.py:79: UserWarning: Cell G18181 is marked as a date but the serial value 60025815 is outside the limits for dates. The cell will be treated as an error.\n",
      "  for idx, row in parser.parse():\n",
      "C:\\Users\\U0014748\\AppData\\Local\\anaconda3\\Lib\\site-packages\\openpyxl\\worksheet\\_read_only.py:79: UserWarning: Cell G18182 is marked as a date but the serial value 60025876 is outside the limits for dates. The cell will be treated as an error.\n",
      "  for idx, row in parser.parse():\n",
      "C:\\Users\\U0014748\\AppData\\Local\\anaconda3\\Lib\\site-packages\\openpyxl\\worksheet\\_read_only.py:79: UserWarning: Cell G18183 is marked as a date but the serial value 60025880 is outside the limits for dates. The cell will be treated as an error.\n",
      "  for idx, row in parser.parse():\n"
     ]
    }
   ],
   "source": [
    "df1 = pd.read_excel(\"C:\\\\Users\\\\U0014748\\\\Desktop\\\\FIBP\\\\流程优化\\\\1\\\\23年1-12月区域基础资料.xlsx\", sheet_name = '费用')\n",
    "data = pd.read_excel(\"C:\\\\Users\\\\U0014748\\\\Desktop\\\\FIBP\\\\流程优化\\\\1\\\\23年1-12月区域基础资料.xlsx\", sheet_name = '主品牌&渠道&分销（签单')\n",
    "data2 = pd.read_excel(\"C:\\\\Users\\\\U0014748\\\\Desktop\\\\FIBP\\\\流程优化\\\\1\\\\2.1 2023年1-12月深圳洲明毛利表.xlsx\", sheet_name = '毛利表')"
   ]
  },
  {
   "cell_type": "markdown",
   "id": "9ea56cd5-f581-430a-84c4-92874e961fdf",
   "metadata": {
    "tags": []
   },
   "source": [
    "# 费用提取-部门&省份"
   ]
  },
  {
   "cell_type": "code",
   "execution_count": 3,
   "id": "eac65dd0",
   "metadata": {
    "tags": []
   },
   "outputs": [],
   "source": [
    "df2  = df1[['部门描述2', '省份', '本位币金额','记账日期']]"
   ]
  },
  {
   "cell_type": "code",
   "execution_count": 4,
   "id": "85fc191e",
   "metadata": {
    "tags": []
   },
   "outputs": [
    {
     "name": "stderr",
     "output_type": "stream",
     "text": [
      "C:\\Users\\U0014748\\AppData\\Local\\Temp\\ipykernel_35208\\3857805820.py:1: SettingWithCopyWarning: \n",
      "A value is trying to be set on a copy of a slice from a DataFrame.\n",
      "Try using .loc[row_indexer,col_indexer] = value instead\n",
      "\n",
      "See the caveats in the documentation: https://pandas.pydata.org/pandas-docs/stable/user_guide/indexing.html#returning-a-view-versus-a-copy\n",
      "  df2['月份'] = pd.to_datetime(df2['记账日期']).dt.month\n"
     ]
    }
   ],
   "source": [
    "df2['月份'] = pd.to_datetime(df2['记账日期']).dt.month"
   ]
  },
  {
   "cell_type": "code",
   "execution_count": 5,
   "id": "e32d4261",
   "metadata": {
    "tags": []
   },
   "outputs": [],
   "source": [
    "pivot1 = df2.pivot_table(index='部门描述2', columns='月份', values='本位币金额', aggfunc='sum')\n",
    "pivot2 = df2.pivot_table(index='省份', columns='月份', values='本位币金额', aggfunc='sum')"
   ]
  },
  {
   "cell_type": "code",
   "execution_count": 6,
   "id": "b06d2983",
   "metadata": {
    "tags": []
   },
   "outputs": [],
   "source": [
    "pivot1.to_excel('费用提取1-部门描述.xlsx')\n",
    "pivot2.to_excel('费用提取2-省份.xlsx')"
   ]
  },
  {
   "cell_type": "markdown",
   "id": "8364fb7d-cef5-44f1-9195-46b430205488",
   "metadata": {},
   "source": [
    "# 业绩金额提取"
   ]
  },
  {
   "cell_type": "code",
   "execution_count": 7,
   "id": "7d8c09fb-f1c1-4209-8d2c-900ce2f8bcde",
   "metadata": {
    "tags": []
   },
   "outputs": [],
   "source": [
    "data1 =data[['产品线2', '业绩金额', '省份']]"
   ]
  },
  {
   "cell_type": "code",
   "execution_count": 8,
   "id": "434914d2",
   "metadata": {},
   "outputs": [],
   "source": [
    "pivot_table = data1.pivot_table(index='产品线2', columns='省份', values='业绩金额', aggfunc='sum')\n",
    "\n",
    "# Specifying the new column order\n",
    "column_order = ['北京', '河北', '内蒙', '山西', '天津', '吉林', '辽宁', '黑龙江', '浙江', '上海', \n",
    "                '江苏', '湖南', '安徽', '河南', '广州', '深圳', '广西', '福建', '海南', '山东', \n",
    "                '湖北', '江西', '四川', '重庆', '云南', '贵州', '西藏', '甘肃', '陕西', '青海', \n",
    "                '宁夏', '新疆']\n",
    "\n",
    "# Filtering out columns not in the new order list (if any)\n",
    "filtered_columns = [col for col in column_order if col in pivot_table.columns]\n",
    "\n",
    "# Reordering the columns\n",
    "pivot_table = pivot_table[filtered_columns]\n",
    "\n",
    "# Displaying the first few rows of the reordered pivot table\n",
    "pivot_table.to_excel('业绩金额提取.xlsx')"
   ]
  },
  {
   "cell_type": "markdown",
   "id": "d4b9f5bb",
   "metadata": {},
   "source": [
    "# 毛利收入成本提取"
   ]
  },
  {
   "cell_type": "code",
   "execution_count": 105,
   "id": "1be74bdc",
   "metadata": {
    "tags": []
   },
   "outputs": [],
   "source": [
    "data3 = data2[(data2['业务范围'] == '显示') & (data2['销售类型'] == '内销')]"
   ]
  },
  {
   "cell_type": "code",
   "execution_count": 106,
   "id": "e7476101",
   "metadata": {
    "tags": []
   },
   "outputs": [
    {
     "name": "stderr",
     "output_type": "stream",
     "text": [
      "C:\\Users\\U0014748\\AppData\\Local\\Temp\\ipykernel_35208\\4249228930.py:1: SettingWithCopyWarning: \n",
      "A value is trying to be set on a copy of a slice from a DataFrame.\n",
      "Try using .loc[row_indexer,col_indexer] = value instead\n",
      "\n",
      "See the caveats in the documentation: https://pandas.pydata.org/pandas-docs/stable/user_guide/indexing.html#returning-a-view-versus-a-copy\n",
      "  data3['期间'] = data3['期间'].astype(int)\n"
     ]
    }
   ],
   "source": [
    "data3['期间'] = data3['期间'].astype(int)"
   ]
  },
  {
   "cell_type": "code",
   "execution_count": 107,
   "id": "1467f300",
   "metadata": {
    "tags": []
   },
   "outputs": [],
   "source": [
    "data4 = data3[['省份/国家', '期间', '最终收入', '最终实际成本']]"
   ]
  },
  {
   "cell_type": "code",
   "execution_count": 108,
   "id": "66541e28",
   "metadata": {
    "tags": []
   },
   "outputs": [],
   "source": [
    "pivot4 = data4.pivot_table(index= '省份/国家', values= ['最终收入', '最终实际成本'], columns=['期间'], aggfunc='sum')\n",
    "\n",
    "rows_order = ['北京', '河北', '内蒙', '山西', '天津', '吉林', '辽宁', '黑龙江', '浙江', '上海', '江苏', '湖南', '安徽', '河南', '粤东', '粤西', '广州', '深圳', '广西', '福建', '海南', '香港', '山东', '湖北', '江西', '四川', '重庆', '云南', '贵州', '西藏', '甘肃', '陕西', '青海', '宁夏', '新疆']\n",
    "pivot4_reindexed = pivot4.reindex(rows_order)"
   ]
  },
  {
   "cell_type": "markdown",
   "id": "df96f6e0",
   "metadata": {},
   "source": [
    "#Assuming pivot4_reindexed is your final pivot table\n",
    "pivot4_reordered = pivot4_reindexed.swaplevel(0, 1, axis=1).sort_index(axis=1)\n",
    "\n"
   ]
  },
  {
   "cell_type": "code",
   "execution_count": 109,
   "id": "c8e69cf5",
   "metadata": {
    "tags": []
   },
   "outputs": [],
   "source": [
    "pivot4_reindexed.to_excel('毛利收入成本提取.xlsx')"
   ]
  },
  {
   "cell_type": "code",
   "execution_count": null,
   "id": "8b7c3f0e-46d7-456e-b75a-41d4b21ab92c",
   "metadata": {},
   "outputs": [],
   "source": []
  },
  {
   "cell_type": "code",
   "execution_count": null,
   "id": "504d5167-3108-4ef9-a7e9-ca7b2d65332d",
   "metadata": {},
   "outputs": [],
   "source": []
  }
 ],
 "metadata": {
  "kernelspec": {
   "display_name": "Python 3 (ipykernel)",
   "language": "python",
   "name": "python3"
  },
  "language_info": {
   "codemirror_mode": {
    "name": "ipython",
    "version": 3
   },
   "file_extension": ".py",
   "mimetype": "text/x-python",
   "name": "python",
   "nbconvert_exporter": "python",
   "pygments_lexer": "ipython3",
   "version": "3.11.5"
  }
 },
 "nbformat": 4,
 "nbformat_minor": 5
}
