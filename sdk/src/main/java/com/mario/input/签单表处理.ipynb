{
 "cells": [
  {
   "cell_type": "code",
   "execution_count": 2,
   "id": "e394ccf9",
   "metadata": {},
   "outputs": [],
   "source": [
    "import pandas as pd"
   ]
  },
  {
   "cell_type": "code",
   "execution_count": 47,
   "id": "9ef39a99",
   "metadata": {},
   "outputs": [],
   "source": [
    "#主签单\n",
    "df = pd.read_excel(r\"C:\\Users\\U0014748\\Desktop\\2024年数据\\3\\内销\\签单\\接单出货1-3月.XLSX\", sheet_name = '接单')\n",
    "#df1 = pd.read_excel(\"C:\\\\Users\\\\U0014748\\\\Desktop\\\\2024年数据\\\\一月数据\\\\签单（未处理）\\\\新-综合\\\\1.2 2024年1月深圳洲明新签订单表—只是保留23年租赁.xlsx\", sheet_name = '租赁ZSD110')\n",
    "#照明\n",
    "df2 = pd.read_excel(r\"C:\\Users\\U0014748\\Desktop\\2024年数据\\3\\内销\\签单\\2024年1-3月签单明细20240401照明.xlsx\", sheet_name = '签单')\n",
    "#文创\n",
    "df3 = pd.read_excel(r\"C:\\Users\\U0014748\\Desktop\\2024年数据\\3\\内销\\签单\\2024年文创签单&出货明细（截至3.31）.xlsx\", sheet_name = '2024年订单明细')\n",
    "#KAKC\n",
    "big_cust = pd.read_excel(\"C:\\\\Users\\\\U0014748\\\\Desktop\\\\2024年数据\\\\一月数据\\\\签单（未处理）\\\\KAKC清单汇总20230508.xlsx\", sheet_name = 'KAKC清单')"
   ]
  },
  {
   "cell_type": "code",
   "execution_count": 48,
   "id": "35f71b1f",
   "metadata": {},
   "outputs": [],
   "source": [
    "#df1 = df1[['合同号码', '产品线辅助-建高','产品类型(VA03)']]\n",
    "big_cust = big_cust[['客户名称','分类']]"
   ]
  },
  {
   "cell_type": "code",
   "execution_count": 49,
   "id": "d88377cc",
   "metadata": {},
   "outputs": [],
   "source": [
    "\n",
    "pattern = '深圳市洲明科技股份有限公司|深圳市海泰装备有限公司|广东洲明节能科技有限公司|成都洲明科技有限公司|海南洲明科技有限公司'\n",
    "\n",
    "\n",
    "df = df[~df['客户名称'].str.contains(pattern)]\n"
   ]
  },
  {
   "cell_type": "code",
   "execution_count": 50,
   "id": "ddcfe253",
   "metadata": {},
   "outputs": [],
   "source": [
    "df['审批日期'] = pd.to_datetime(df['审批日期'])\n",
    "\n",
    "#Extract the month from the '审批日期' column and assign it to the '月份' column\n",
    "df['月份'] = df['审批日期'].dt.month"
   ]
  },
  {
   "cell_type": "code",
   "execution_count": 51,
   "id": "0dcfec54",
   "metadata": {},
   "outputs": [],
   "source": [
    "df['产品线2'] = None"
   ]
  },
  {
   "cell_type": "markdown",
   "id": "96387210",
   "metadata": {},
   "source": [
    "#Conditionally set values in '产品线2' based on '产品类型(VA03)'\n",
    "df.loc[df['产品类型(VA03)'] == '文创产品', '产品线2'] = '文创'\n",
    "\n",
    "\n",
    "df.loc[df['产品线'] == '蓝普国内', '产品线2'] = '蓝普国内'"
   ]
  },
  {
   "cell_type": "code",
   "execution_count": 52,
   "id": "1402c89b",
   "metadata": {},
   "outputs": [],
   "source": [
    "#蓝普国内：依据【产品线】字段，为“蓝普国内”的归为蓝普国内。然后依据大客户清单检索【客户名称】，区分哪些客户为：【渠道KC】\n",
    "有蓝普 = df[df['产品线']=='蓝普国内']\n",
    "无蓝普 = df[df['产品线']!='蓝普国内']\n",
    "\n",
    "\n",
    "有蓝普.loc[有蓝普['产品线'] == '蓝普国内', '产品线2'] = '蓝普国内'\n",
    "蓝普kc = pd.merge(有蓝普,big_cust, left_on='客户名称', right_on='客户名称', how='left')\n",
    "\n",
    "蓝普kc.loc[蓝普kc['分类'].notna(), '产品线2'] = 蓝普kc['分类']\n",
    "#蓝普kc = 蓝普kc.drop('分类',axis=1)\n",
    "\n",
    "df = pd.concat([蓝普kc, 无蓝普])"
   ]
  },
  {
   "cell_type": "code",
   "execution_count": 53,
   "id": "f9b718d2",
   "metadata": {},
   "outputs": [],
   "source": [
    "df.loc[df['产品类型(VA03)'] == '文创产品', '产品线2'] = '文创'\n",
    "df.loc[df['产品线'] == '洲明分销', '产品线2'] = '洲明分销'\n",
    "df.loc[df['产品线'] == '洲明分销', '产品线2'] = '洲明分销'\n",
    "# Merge df with df1 to match '合同号' and bring '产品线辅助-建高' into df\n",
    "df.loc[df['产品类型(VA03)'].str.contains('租赁', na=False), '产品线2'] = '租赁'"
   ]
  },
  {
   "cell_type": "code",
   "execution_count": 54,
   "id": "c34fb341",
   "metadata": {},
   "outputs": [],
   "source": [
    "df['产品线2'] = df['产品线2'].fillna('主品牌')"
   ]
  },
  {
   "cell_type": "code",
   "execution_count": 55,
   "id": "29068504",
   "metadata": {
    "scrolled": true
   },
   "outputs": [
    {
     "data": {
      "text/plain": [
       "产品线2\n",
       "主品牌     712\n",
       "蓝普国内    467\n",
       "洲明分销    460\n",
       "租赁       59\n",
       "文创        2\n",
       "Name: count, dtype: int64"
      ]
     },
     "execution_count": 55,
     "metadata": {},
     "output_type": "execute_result"
    }
   ],
   "source": [
    "df['产品线2'].value_counts()"
   ]
  },
  {
   "cell_type": "code",
   "execution_count": 56,
   "id": "d2124a95",
   "metadata": {},
   "outputs": [],
   "source": [
    "df.loc[df['产品线2'].isin(['蓝普国内', '渠道KC', 'KC']), '经营数据1'] = '蓝普国内'\n",
    "df.loc[df['产品线2'] == '洲明分销', '经营数据1'] = '洲明分销'\n",
    "df.loc[df['产品线2'] == '主品牌', '经营数据1'] = '主品牌'\n",
    "df.loc[df['产品线2'].isin(['文创产品', '文创']), '经营数据1'] = '文创产品'\n",
    "df.loc[df['产品线2'] == '租赁', '经营数据1'] =  '主品牌'\n"
   ]
  },
  {
   "cell_type": "code",
   "execution_count": 57,
   "id": "c19e1bfe",
   "metadata": {},
   "outputs": [],
   "source": [
    "df['经营数据2'] = None"
   ]
  },
  {
   "cell_type": "code",
   "execution_count": 58,
   "id": "93a3c0a6",
   "metadata": {},
   "outputs": [],
   "source": [
    "def fill_conditionally(i):\n",
    "    if i == '主品牌':\n",
    "        return '主品牌'\n",
    "    else:\n",
    "        return ''\n",
    "\n",
    "# Apply the function across the DataFrame rows\n",
    "df['经营数据2'] = df['经营数据1'].apply(fill_conditionally)"
   ]
  },
  {
   "cell_type": "code",
   "execution_count": 59,
   "id": "933710c1",
   "metadata": {},
   "outputs": [
    {
     "data": {
      "text/plain": [
       "经营数据2\n",
       "       929\n",
       "主品牌    771\n",
       "Name: count, dtype: int64"
      ]
     },
     "execution_count": 59,
     "metadata": {},
     "output_type": "execute_result"
    }
   ],
   "source": [
    "df['经营数据2'].value_counts()"
   ]
  },
  {
   "cell_type": "code",
   "execution_count": 60,
   "id": "31bc40fc",
   "metadata": {},
   "outputs": [],
   "source": [
    "df.loc[df['产品类型(VA03)'] == 'UTV', '经营数据2'] = 'UTV'"
   ]
  },
  {
   "cell_type": "code",
   "execution_count": 61,
   "id": "df1f42bf",
   "metadata": {},
   "outputs": [
    {
     "data": {
      "text/plain": [
       "经营数据2\n",
       "       929\n",
       "主品牌    653\n",
       "UTV    118\n",
       "Name: count, dtype: int64"
      ]
     },
     "execution_count": 61,
     "metadata": {},
     "output_type": "execute_result"
    }
   ],
   "source": [
    "df['经营数据2'].value_counts()"
   ]
  },
  {
   "cell_type": "code",
   "execution_count": 62,
   "id": "42bd08af",
   "metadata": {},
   "outputs": [],
   "source": [
    "df.loc[df['产品线2'] == '租赁', '经营数据2'] = '租赁'"
   ]
  },
  {
   "cell_type": "code",
   "execution_count": 63,
   "id": "2fba00aa",
   "metadata": {},
   "outputs": [
    {
     "data": {
      "text/plain": [
       "经营数据2\n",
       "       929\n",
       "主品牌    594\n",
       "UTV    118\n",
       "租赁      59\n",
       "Name: count, dtype: int64"
      ]
     },
     "execution_count": 63,
     "metadata": {},
     "output_type": "execute_result"
    }
   ],
   "source": [
    "df['经营数据2'].value_counts()"
   ]
  },
  {
   "cell_type": "code",
   "execution_count": 64,
   "id": "2bdb0ea4",
   "metadata": {},
   "outputs": [],
   "source": [
    "# Define the mapping based on the provided image\n",
    "category_mapping = {\n",
    "    \"安防\": \"安防\",\n",
    "    \"大应急\": \"其他\",\n",
    "    \"分销囤货\": \"其他\",\n",
    "    \"公检法司\": \"其他\",\n",
    "    \"交通\": \"交通\",\n",
    "    \"金融\": \"金融\",\n",
    "    \"军队\": \"UP\",\n",
    "    \"民生\": \"民生\",\n",
    "    \"能源\": \"能源\",\n",
    "    \"其他\": \"其他\",\n",
    "    \"渠道囤货\": \"其他\",\n",
    "    \"商显\": \"其他\",\n",
    "    \"数字展陈\": \"数字展陈\",\n",
    "    \"体育\": \"体育\",\n",
    "    \"新媒体\": \"其他\",\n",
    "    \"新商业\": \"新商业\",\n",
    "    \"智慧城市\": \"其他\",\n",
    "    \"智慧党建\": \"其他\",\n",
    "    \"智慧会议\": \"其他\",\n",
    "    \"智慧教育\": \"其他\",\n",
    "    \"租赁\": \"其他\",\n",
    "    \"文娱\": \"文娱\",\n",
    "    \"教育\": \"教育\",\n",
    "    \"政法行业\": \"其他\",\n",
    "    \"智慧光显\": \"其他\"\n",
    "}\n",
    "\n",
    "# Process the list to change each category based on the mapping\n",
    "df['行业类型-经营数据'] = [category_mapping.get(category) for category in df['行业类型']]\n",
    "\n",
    "df['行业类型-经营数据']=df['行业类型-经营数据'].fillna('其他')\n"
   ]
  },
  {
   "cell_type": "code",
   "execution_count": 65,
   "id": "56d89d1a",
   "metadata": {},
   "outputs": [],
   "source": [
    "df['签单表']= '主签单表'\n",
    "df['销售类型']='内销'"
   ]
  },
  {
   "cell_type": "code",
   "execution_count": 66,
   "id": "8ff111a8",
   "metadata": {},
   "outputs": [
    {
     "data": {
      "text/plain": [
       "Index(['订单类型', '销售订单号', '创建日期', '审批日期', '客户名称', '合同号', '产品型号', '产品类型(VA03)',\n",
       "       '产品线', '洲明工程/洲明分销', '业绩金额', '业绩数量', '业绩面积', '质保期', '销售部门描述', '省份', '国家',\n",
       "       '雇员部门名称', '业务员', '业务助理', '项目名称', '行业类型', '行业类别', '灯的型号', '灯的品牌', '业绩比例',\n",
       "       '业绩分配说明', '订单数量', '产品类别(VA03)', '月份', '产品线2', '分类', '经营数据1', '经营数据2',\n",
       "       '行业类型-经营数据', '签单表', '销售类型'],\n",
       "      dtype='object')"
      ]
     },
     "execution_count": 66,
     "metadata": {},
     "output_type": "execute_result"
    }
   ],
   "source": [
    "df.columns"
   ]
  },
  {
   "cell_type": "markdown",
   "id": "d9ad4ac0",
   "metadata": {},
   "source": [
    "df = df.set_index('签单表')\n",
    "df.to_excel('主签单202403.xlsx')"
   ]
  },
  {
   "cell_type": "markdown",
   "id": "54da6fb6",
   "metadata": {},
   "source": [
    "# 照明"
   ]
  },
  {
   "cell_type": "code",
   "execution_count": 67,
   "id": "3cb43614",
   "metadata": {},
   "outputs": [],
   "source": [
    "df2['签单表']= '照明'\n",
    "df2['销售类型']= '内销'\n",
    "df2['产品线2']= '照明'"
   ]
  },
  {
   "cell_type": "code",
   "execution_count": 68,
   "id": "9b631d3f",
   "metadata": {},
   "outputs": [],
   "source": [
    "pattern = '深圳市洲明科技股份有限公司|深圳市海泰装备有限公司|广东洲明节能科技有限公司|成都洲明科技有限公司|海南洲明科技有限公司'"
   ]
  },
  {
   "cell_type": "code",
   "execution_count": 69,
   "id": "b3b8cd37",
   "metadata": {},
   "outputs": [],
   "source": [
    "df2 = df2[~df2['公司名称'].str.contains(pattern, na=False)]"
   ]
  },
  {
   "cell_type": "code",
   "execution_count": 70,
   "id": "5b42d7d1",
   "metadata": {},
   "outputs": [],
   "source": [
    "df2['日期'] = pd.to_datetime(df2['日期'])\n",
    "\n",
    "# Extract the month from the '审批日期' column and assign it to the '月份' column\n",
    "df2['月份'] = df2['日期'].dt.month"
   ]
  },
  {
   "cell_type": "code",
   "execution_count": 71,
   "id": "e5874166",
   "metadata": {},
   "outputs": [],
   "source": [
    "import numpy as np\n",
    "\n",
    "df2['区域'] = df2['项目的归属'].apply(lambda x: x.strip('区') if isinstance(x, str) else np.nan)\n"
   ]
  },
  {
   "cell_type": "markdown",
   "id": "bf84f335",
   "metadata": {},
   "source": [
    "df2.to_excel('照明202403.xlsx')"
   ]
  },
  {
   "cell_type": "markdown",
   "id": "b20f77e0",
   "metadata": {},
   "source": [
    "# 文创"
   ]
  },
  {
   "cell_type": "code",
   "execution_count": 72,
   "id": "e5ca354a",
   "metadata": {},
   "outputs": [],
   "source": [
    "df3['签单表']= '文创'\n",
    "df3['销售类型']='内销'\n",
    "df3['产品线2']= '文创'"
   ]
  },
  {
   "cell_type": "code",
   "execution_count": 73,
   "id": "89208cf9",
   "metadata": {},
   "outputs": [],
   "source": [
    "df3 = df3[~df3['客户名称'].str.contains(pattern, na=False)]\n",
    "df3 = df3[~df3['部门'].str.contains('外贸', na=False)]"
   ]
  },
  {
   "cell_type": "markdown",
   "id": "6e745cb1",
   "metadata": {},
   "source": [
    "df3.to_excel('文创202403.xlsx')"
   ]
  },
  {
   "cell_type": "markdown",
   "id": "0a1b04f4",
   "metadata": {},
   "source": [
    "# 海外签单表"
   ]
  },
  {
   "cell_type": "code",
   "execution_count": 74,
   "id": "25123b3d",
   "metadata": {},
   "outputs": [],
   "source": [
    "海外签单 = pd.read_excel(r\"C:\\Users\\U0014748\\Desktop\\2024年数据\\3\\20240301 签单.XLSX\", sheet_name = '台账')\n",
    "海外签单['含税总价（本位币)'] = 海外签单['含税总价（本位币)'] / 10000\n",
    "海外签单['销售类型']='外销'\n",
    "海外签单['签单表']='海外签单表'"
   ]
  },
  {
   "cell_type": "code",
   "execution_count": 75,
   "id": "c21f2665",
   "metadata": {},
   "outputs": [],
   "source": [
    "海外签单 = 海外签单.rename(columns = {\n",
    "    'SD 凭证':'销售订单号',\n",
    "    '审批时间':'审批日期',\n",
    "    '审批月':'月份',\n",
    "    '采购订单号码':'合同号',\n",
    "    '含税总价（本位币)':'业绩金额（万）',\n",
    "    '销售部门':'销售部门描述',\n",
    "    '销售组':'国家',\n",
    "    '名':'业务员'\n",
    "})"
   ]
  },
  {
   "cell_type": "code",
   "execution_count": 33,
   "id": "1d1db7e9",
   "metadata": {},
   "outputs": [
    {
     "data": {
      "text/plain": [
       "Index(['SOrg.', '销售订单号', '创建日期', '审批日期', '月份', '客户名称', '合同号', '美元金额',\n",
       "       '业绩金额（万）', '凭证货币', '业务员', '业务助理', '销售部门描述', '国家', '行业类型', '产品名称', '点间距',\n",
       "       '总面积', '项目名称', '售达方', '业绩分配说明', '挪用信息', '请求交货日期', '行业类别', '雇员部门名称',\n",
       "       '销售类型', '签单表'],\n",
       "      dtype='object')"
      ]
     },
     "execution_count": 33,
     "metadata": {},
     "output_type": "execute_result"
    }
   ],
   "source": [
    "海外签单.columns"
   ]
  },
  {
   "cell_type": "markdown",
   "id": "40d22388",
   "metadata": {},
   "source": [
    "海外签单.to_excel('海外签单.xlsx')"
   ]
  },
  {
   "cell_type": "markdown",
   "id": "c67909d1",
   "metadata": {},
   "source": [
    "# 合并"
   ]
  },
  {
   "cell_type": "code",
   "execution_count": 76,
   "id": "22702acc",
   "metadata": {},
   "outputs": [],
   "source": [
    "df['业绩金额'] = df['业绩金额'] / 10000\n",
    "df2['合同金额'] = df2['合同金额'] / 10000\n",
    "# Rename the '业绩金额' column to '业绩金额（万）'\n",
    "df = df.rename(columns={'业绩金额': '业绩金额（万）'})"
   ]
  },
  {
   "cell_type": "code",
   "execution_count": 77,
   "id": "b13fc55c",
   "metadata": {},
   "outputs": [],
   "source": [
    "df2.drop('序号', axis=1, inplace=True)"
   ]
  },
  {
   "cell_type": "code",
   "execution_count": 78,
   "id": "a58cdfb6",
   "metadata": {},
   "outputs": [],
   "source": [
    "# 照明\n",
    "df2 = df2.rename(columns={\n",
    "    '合同金额': '业绩金额（万）',\n",
    "    '区域': '销售部门描述',\n",
    "    '项目地': '省份',\n",
    "    '业务员': '业务员',  # This line and the next one can be omitted as they don't change anything.\n",
    "    '月份': '月份',\n",
    "    '公司名称': '客户名称',\n",
    "    '日期': '审批日期'\n",
    "})\n",
    "\n",
    "\n",
    "\n",
    "#文创\n",
    "df3 = df3.rename(columns={\n",
    "  # This is duplicated, so you only need to mention it once.\n",
    "    '日期': '审批日期',\n",
    "    '客户名称': '客户名称',  # This line can be omitted as it doesn't change anything.\n",
    "    '订单号': '合同号',\n",
    "    '产品规格': '产品型号',\n",
    "    '产品系列': '产品类型(VA03)',\n",
    "    '折算RMB金额\\n（万元）': '业绩金额（万）',\n",
    "    '业绩归属区域': '销售部门描述',  # This is duplicated, so you only need to mention it once.\n",
    "    '项目地\\n（业绩归属省份）': '省份',\n",
    "    '部门': '雇员部门名称',\n",
    "    '业务员': '业务员',  # This line can be omitted as it doesn't change anything.\n",
    "    '月份': '月份',\n",
    "    '合同编号/项目名称': '项目名称'\n",
    "})\n"
   ]
  },
  {
   "cell_type": "code",
   "execution_count": 79,
   "id": "f759d421",
   "metadata": {},
   "outputs": [
    {
     "data": {
      "text/plain": [
       "Index(['SOrg.', '销售订单号', '创建日期', '审批日期', '月份', '客户名称', '合同号', '美元金额',\n",
       "       '业绩金额（万）', '凭证货币', '业务员', '业务助理', '销售部门描述', '国家', '行业类型', '产品名称', '点间距',\n",
       "       '总面积', '项目名称', '售达方', '业绩分配说明', '挪用信息', '请求交货日期', '行业类别', '雇员部门名称',\n",
       "       '销售类型', '签单表'],\n",
       "      dtype='object')"
      ]
     },
     "execution_count": 79,
     "metadata": {},
     "output_type": "execute_result"
    }
   ],
   "source": [
    "海外签单.columns"
   ]
  },
  {
   "cell_type": "code",
   "execution_count": 80,
   "id": "a7c71498",
   "metadata": {},
   "outputs": [],
   "source": [
    "df_merged = pd.concat([df, df2, df3, 海外签单], ignore_index=True, sort=False)\n"
   ]
  },
  {
   "cell_type": "markdown",
   "id": "688c0207",
   "metadata": {},
   "source": [
    "df_merged = df_merged.set_index('签单表')\n",
    "df_merged.to_excel('签单合并表2024第一季度.xlsx')"
   ]
  },
  {
   "cell_type": "code",
   "execution_count": 81,
   "id": "f1be4657",
   "metadata": {},
   "outputs": [
    {
     "data": {
      "text/plain": [
       "Index(['订单类型', '销售订单号', '创建日期', '审批日期', '客户名称', '合同号', '产品型号', '产品类型(VA03)',\n",
       "       '产品线', '洲明工程/洲明分销', '业绩金额（万）', '业绩数量', '业绩面积', '质保期', '销售部门描述', '省份',\n",
       "       '国家', '雇员部门名称', '业务员', '业务助理', '项目名称', '行业类型', '行业类别', '灯的型号', '灯的品牌',\n",
       "       '业绩比例', '业绩分配说明', '订单数量', '产品类别(VA03)', '月份', '产品线2', '分类', '经营数据1',\n",
       "       '经营数据2', '行业类型-经营数据', '签单表', '销售类型', '合同模式', '签约公司', '项目的归属', '洲明采购单号',\n",
       "       'SOrg.', '美元金额', '凭证货币', '产品名称', '点间距', '总面积', '售达方', '挪用信息', '请求交货日期'],\n",
       "      dtype='object')"
      ]
     },
     "execution_count": 81,
     "metadata": {},
     "output_type": "execute_result"
    }
   ],
   "source": [
    "df_merged.columns"
   ]
  },
  {
   "cell_type": "code",
   "execution_count": 82,
   "id": "03e32806",
   "metadata": {},
   "outputs": [],
   "source": [
    "df_merged['审批日期'] = pd.to_datetime(df_merged['审批日期'])\n",
    "\n",
    "#Extract the month from the '审批日期' column and assign it to the '月份' column\n",
    "df_merged['年份'] = df_merged['审批日期'].dt.year"
   ]
  },
  {
   "cell_type": "code",
   "execution_count": 84,
   "id": "018c3309",
   "metadata": {},
   "outputs": [
    {
     "data": {
      "text/html": [
       "<div>\n",
       "<style scoped>\n",
       "    .dataframe tbody tr th:only-of-type {\n",
       "        vertical-align: middle;\n",
       "    }\n",
       "\n",
       "    .dataframe tbody tr th {\n",
       "        vertical-align: top;\n",
       "    }\n",
       "\n",
       "    .dataframe thead th {\n",
       "        text-align: right;\n",
       "    }\n",
       "</style>\n",
       "<table border=\"1\" class=\"dataframe\">\n",
       "  <thead>\n",
       "    <tr style=\"text-align: right;\">\n",
       "      <th></th>\n",
       "      <th></th>\n",
       "      <th>业绩金额（万）</th>\n",
       "    </tr>\n",
       "    <tr>\n",
       "      <th>签单表</th>\n",
       "      <th>月份</th>\n",
       "      <th></th>\n",
       "    </tr>\n",
       "  </thead>\n",
       "  <tbody>\n",
       "    <tr>\n",
       "      <th rowspan=\"3\" valign=\"top\">主签单表</th>\n",
       "      <th>1</th>\n",
       "      <td>18845.287848</td>\n",
       "    </tr>\n",
       "    <tr>\n",
       "      <th>2</th>\n",
       "      <td>5753.766632</td>\n",
       "    </tr>\n",
       "    <tr>\n",
       "      <th>3</th>\n",
       "      <td>31884.107740</td>\n",
       "    </tr>\n",
       "    <tr>\n",
       "      <th rowspan=\"3\" valign=\"top\">文创</th>\n",
       "      <th>1</th>\n",
       "      <td>1819.692000</td>\n",
       "    </tr>\n",
       "    <tr>\n",
       "      <th>2</th>\n",
       "      <td>548.269200</td>\n",
       "    </tr>\n",
       "    <tr>\n",
       "      <th>3</th>\n",
       "      <td>4.140000</td>\n",
       "    </tr>\n",
       "    <tr>\n",
       "      <th rowspan=\"2\" valign=\"top\">海外签单表</th>\n",
       "      <th>1</th>\n",
       "      <td>16644.570763</td>\n",
       "    </tr>\n",
       "    <tr>\n",
       "      <th>2</th>\n",
       "      <td>13853.759468</td>\n",
       "    </tr>\n",
       "    <tr>\n",
       "      <th rowspan=\"3\" valign=\"top\">照明</th>\n",
       "      <th>1</th>\n",
       "      <td>2839.981988</td>\n",
       "    </tr>\n",
       "    <tr>\n",
       "      <th>2</th>\n",
       "      <td>390.725412</td>\n",
       "    </tr>\n",
       "    <tr>\n",
       "      <th>3</th>\n",
       "      <td>1826.457569</td>\n",
       "    </tr>\n",
       "  </tbody>\n",
       "</table>\n",
       "</div>"
      ],
      "text/plain": [
       "               业绩金额（万）\n",
       "签单表   月份              \n",
       "主签单表  1   18845.287848\n",
       "      2    5753.766632\n",
       "      3   31884.107740\n",
       "文创    1    1819.692000\n",
       "      2     548.269200\n",
       "      3       4.140000\n",
       "海外签单表 1   16644.570763\n",
       "      2   13853.759468\n",
       "照明    1    2839.981988\n",
       "      2     390.725412\n",
       "      3    1826.457569"
      ]
     },
     "execution_count": 84,
     "metadata": {},
     "output_type": "execute_result"
    }
   ],
   "source": [
    "pd.DataFrame(df_merged.groupby(['签单表', '月份'])['业绩金额（万）'].sum())"
   ]
  },
  {
   "cell_type": "code",
   "execution_count": 85,
   "id": "20bc19c1",
   "metadata": {},
   "outputs": [],
   "source": [
    "df_merged.to_excel('签单2024一季度（除海外子公司）.xlsx')"
   ]
  },
  {
   "cell_type": "code",
   "execution_count": null,
   "id": "dbcf21b3",
   "metadata": {},
   "outputs": [],
   "source": [
    "pd.DataFrame(df_merged.groupby([]))"
   ]
  },
  {
   "cell_type": "markdown",
   "id": "5c79d1f0",
   "metadata": {},
   "source": [
    "# 测试使用"
   ]
  },
  {
   "cell_type": "code",
   "execution_count": null,
   "id": "9a2b19df",
   "metadata": {},
   "outputs": [],
   "source": []
  },
  {
   "cell_type": "code",
   "execution_count": null,
   "id": "5f1fecda",
   "metadata": {},
   "outputs": [],
   "source": []
  },
  {
   "cell_type": "code",
   "execution_count": null,
   "id": "541b6c26",
   "metadata": {},
   "outputs": [],
   "source": []
  }
 ],
 "metadata": {
  "kernelspec": {
   "display_name": "Python 3 (ipykernel)",
   "language": "python",
   "name": "python3"
  },
  "language_info": {
   "codemirror_mode": {
    "name": "ipython",
    "version": 3
   },
   "file_extension": ".py",
   "mimetype": "text/x-python",
   "name": "python",
   "nbconvert_exporter": "python",
   "pygments_lexer": "ipython3",
   "version": "3.11.5"
  }
 },
 "nbformat": 4,
 "nbformat_minor": 5
}
