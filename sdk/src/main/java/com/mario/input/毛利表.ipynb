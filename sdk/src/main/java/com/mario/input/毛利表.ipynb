{
 "cells": [
  {
   "cell_type": "markdown",
   "id": "65dcdd2e",
   "metadata": {},
   "source": [
    "# 步骤1"
   ]
  },
  {
   "cell_type": "markdown",
   "id": "a1acf92c",
   "metadata": {},
   "source": [
    "# 毛利主表"
   ]
  },
  {
   "cell_type": "code",
   "execution_count": 1,
   "id": "8f589108",
   "metadata": {},
   "outputs": [],
   "source": [
    "import pandas as pd"
   ]
  },
  {
   "cell_type": "markdown",
   "id": "f136ca2f",
   "metadata": {},
   "source": [
    "df = pd.read_excel(r\"C:\\Users\\U0014748\\Desktop\\2024年数据\\2月\\毛利\\2.1 2024年1-2月深圳洲明毛利表.xlsx\", sheet_name = '毛利表')\n",
    "df['毛利表'] = '主毛利表'\n",
    "\n",
    "special_customers = ['深圳市帮你信息技术有限公司', '深圳市万屏时代科技有限公司']\n",
    "df.loc[df['客户名称'].isin(special_customers), ['销售部门名称', '销售组名称']] = '万屏汇-万屏汇-万屏汇'\n",
    "\n",
    "# 国际\n",
    "df['销售部门名称'] = df.apply(\n",
    "    lambda row: '国内-国内-国内' if (pd.isna(row['销售部门名称']) and row['销售类型'] == '内销') else \n",
    "                ('国际-国际-国际' if (pd.isna(row['销售部门名称']) and row['销售类型'] == '外销') else row['销售部门名称']),\n",
    "    axis=1\n",
    ")\n",
    "\n",
    "\n",
    "#国际\n",
    "def seperate(i):\n",
    "    if i == '国外':\n",
    "        return '国际-国际-国际'\n",
    "    elif i == '国内':\n",
    "        return '国内-国内-国内'\n",
    "    elif i == '洲明-国内-公共':\n",
    "        return '国内-国内-国内'\n",
    "    else:\n",
    "        return i  # Return the original value if it's neither '国外' nor '国内'\n",
    "\n",
    "# Applying the function to the DataFrame column\n",
    "df['销售部门名称'] = df['销售部门名称'].apply(seperate)\n",
    "\n",
    "def separate2(i):\n",
    "    if i == '外销':\n",
    "        return '国际-国际-国际'\n",
    "    elif i == '内销':\n",
    "        return '国内-国内-国内'\n",
    "    else:\n",
    "        # Return the original value for other cases\n",
    "        return i\n",
    "\n",
    "# Sample DataFrame\n",
    "# df = pd.DataFrame({'销售组名称': [...], '销售部门名称': [...]})\n",
    "\n",
    "# Applying the function to the DataFrame column\n",
    "df['销售组名称'] = df['销售组名称'].fillna(df['销售部门名称'].apply(separate2))\n",
    "\n",
    "df['省份/国家'] = df['销售组名称'].str.split('-').str[-1]\n",
    "\n",
    "list_1 = [\n",
    "    '北京', '河北', '内蒙', '山西', '天津', '吉林', '辽宁', '黑龙江',\n",
    "    '浙江', '上海', '江苏', '山东', '安徽', '河南', '粤东', '粤西',\n",
    "    '广州', '深圳', '广西', '福建', '海南', '湖南', '湖北', '江西',\n",
    "    '四川', '重庆', '云南', '贵州', '西藏', '甘肃', '陕西', '青海',\n",
    "    '宁夏', '新疆','广东（除广深', '华东区', '西南区','公共','东中','华中','华南', '华北','华东', '西南', '广东南区', '国内','万屏汇'\n",
    "]\n",
    "\n",
    "\n",
    "def seg(row):\n",
    "    if row['省份/国家'] in list_1:\n",
    "        return '内销'\n",
    "    else:\n",
    "        return '外销'  # Assuming '销售类型' is already a column in the DataFrame\n",
    "\n",
    "# Applying the function to each row of the DataFrame\n",
    "df['销售类型'] = df.apply(seg, axis=1)\n",
    "df1 = df[df['业务范围'] == '显示']\n",
    "\n",
    "df2 = df1[~df1['凭证抬头文本'].fillna('').str.contains('跨公司报工|委外作业人员|STO交易')]\n",
    "\n",
    "df3 = df2[(df2['关联交易'] == '非关联交易') | (df['客户名称'].str.contains('广东北斗星体育设备有限公司|广州轩智文化传播有限公司|杭州柏年智能光电子股份有限公司|山东清华康利城市照明研究设计院有限公司|深圳市雷迪奥视觉技术有限公司'))]\n",
    "\n",
    "\n",
    "\n",
    "\n",
    "\n",
    "# Assuming df3 is your DataFrame and it's already defined\n",
    "\n",
    "def cpx(i):\n",
    "    # Define a tuple of options for the main brand\n",
    "    main_brand_options = ('户外传媒', '户内专显', '租赁', '户内商显', '渠道', '户外体育', 'UTV', 'UMini', '专显')\n",
    "    if i in main_brand_options:\n",
    "        return '主品牌'\n",
    "    elif i in ('户内分销', '分销','洲明分销'):\n",
    "        return '分销'\n",
    "    else:\n",
    "        return '其他'\n",
    "\n",
    "# Apply the cpx function to each row in the '产品线(MM03)' column\n",
    "df3['产品线底稿'] = df3['产品线(MM03)'].apply(cpx)\n",
    "\n",
    "# Update '产品线底稿' based on '产品型号' containing 'UMiniP' (case-insensitive)\n",
    "df3.loc[df3['产品型号'].str.contains('uminip|umini p', case=False, na=False), '产品线底稿'] = '分销'\n",
    "\n",
    "\n",
    "# Update '产品线底稿' based on '供应商名称' containing '文创' or '海泰'\n",
    "df3.loc[df3['供应商名称'].str.contains('文创|海泰', na=False), '产品线底稿'] = '文创'\n",
    "\n",
    "df3.loc[df3['销售组名称'].str.contains('万屏汇', na=False), '产品线底稿'] = '万屏汇'\n",
    "\n",
    "df3['是否库存/客诉/退换货'] = df3.apply(lambda row: '是' if '库存' in str(row['项目名称']) or '库存' in str(row['物料描述']) or '库存' in str(row['低毛利原因']) or '库存' in str(row['低毛利原因描述']) else '否', axis=1)\n",
    "# df3 is the final sheet"
   ]
  },
  {
   "cell_type": "code",
   "execution_count": 23,
   "id": "c5ad3f8e",
   "metadata": {},
   "outputs": [],
   "source": [
    "df = pd.read_excel(r\"C:\\Users\\U0014748\\Desktop\\2024年数据\\3\\2.1 2024年1-3月深圳洲明毛利表.xlsx\", sheet_name = '毛利表')\n",
    "\n",
    "df = df[(df['销售类型'] == '内销') &(df['期间'] == 3)]\n",
    "\n",
    "df['毛利表'] = '主毛利表'"
   ]
  },
  {
   "cell_type": "code",
   "execution_count": 24,
   "id": "135dc0e7",
   "metadata": {},
   "outputs": [],
   "source": [
    "special_customers = ['深圳市帮你信息技术有限公司', '深圳市万屏时代科技有限公司']\n",
    "df.loc[df['客户名称'].isin(special_customers), ['销售部门名称', '销售组名称']] = '万屏汇-万屏汇-万屏汇'"
   ]
  },
  {
   "cell_type": "code",
   "execution_count": 25,
   "id": "c5dcc86f",
   "metadata": {},
   "outputs": [],
   "source": [
    "# 销售部门名称如果是空的，则\n",
    "df['销售部门名称'] = df['销售部门名称'].fillna('国内-国内-国内')"
   ]
  },
  {
   "cell_type": "code",
   "execution_count": 26,
   "id": "b6c33d3d",
   "metadata": {},
   "outputs": [],
   "source": [
    "#国际\n",
    "def seperate(i):\n",
    "    if i == '国外':\n",
    "        return '国际-国际-国际'\n",
    "    elif i == '国内':\n",
    "        return '国内-国内-国内'\n",
    "    elif i == '洲明-国内-公共':\n",
    "        return '国内-国内-国内'\n",
    "    else:\n",
    "        return i  # Return the original value if it's neither '国外' nor '国内'\n",
    "\n",
    "# Applying the function to the DataFrame column\n",
    "df['销售部门名称'] = df['销售部门名称'].apply(seperate)"
   ]
  },
  {
   "cell_type": "code",
   "execution_count": 27,
   "id": "1a5dc66c",
   "metadata": {},
   "outputs": [],
   "source": [
    "def separate2(i):\n",
    "    if i == '外销':\n",
    "        return '国际-国际-国际'\n",
    "    elif i == '内销':\n",
    "        return '国内-国内-国内'\n",
    "    else:\n",
    "        # Return the original value for other cases\n",
    "        return i\n",
    "\n",
    "# Sample DataFrame\n",
    "# df = pd.DataFrame({'销售组名称': [...], '销售部门名称': [...]})\n",
    "\n",
    "# Applying the function to the DataFrame column\n",
    "df['销售组名称'] = df['销售组名称'].fillna(df['销售部门名称'].apply(separate2))"
   ]
  },
  {
   "cell_type": "code",
   "execution_count": 28,
   "id": "d0da51fb",
   "metadata": {},
   "outputs": [],
   "source": [
    "df['省份/国家'] = df['销售组名称'].str.split('-').str[-1]"
   ]
  },
  {
   "cell_type": "code",
   "execution_count": 29,
   "id": "8452b4cf",
   "metadata": {},
   "outputs": [],
   "source": [
    "#condition adding area--year,month,etc. 11111111111111111111111111111111111111111111111111111111111111111111111111111111111111111111111111\n",
    "df1 = df[df['业务范围'] == '显示']"
   ]
  },
  {
   "cell_type": "code",
   "execution_count": 30,
   "id": "f4b12403",
   "metadata": {},
   "outputs": [],
   "source": [
    "df2 = df1[~df1['凭证抬头文本'].fillna('').str.contains('跨公司报工|委外作业人员|STO交易')]"
   ]
  },
  {
   "cell_type": "code",
   "execution_count": 31,
   "id": "89642863",
   "metadata": {},
   "outputs": [
    {
     "name": "stderr",
     "output_type": "stream",
     "text": [
      "C:\\Users\\U0014748\\AppData\\Local\\Temp\\ipykernel_19900\\563500276.py:1: UserWarning: Boolean Series key will be reindexed to match DataFrame index.\n",
      "  df3 = df2[(df2['关联交易'] == '非关联交易') | (df['客户名称'].str.contains('广东北斗星体育设备有限公司|广州轩智文化传播有限公司|杭州柏年智能光电子股份有限公司|山东清华康利城市照明研究设计院有限公司|深圳市雷迪奥视觉技术有限公司'))]\n"
     ]
    }
   ],
   "source": [
    "df3 = df2[(df2['关联交易'] == '非关联交易') | (df['客户名称'].str.contains('广东北斗星体育设备有限公司|广州轩智文化传播有限公司|杭州柏年智能光电子股份有限公司|山东清华康利城市照明研究设计院有限公司|深圳市雷迪奥视觉技术有限公司'))]"
   ]
  },
  {
   "cell_type": "code",
   "execution_count": 32,
   "id": "b5e5a097",
   "metadata": {},
   "outputs": [],
   "source": [
    "\n",
    "\n",
    "# Assuming df3 is your DataFrame and it's already defined\n",
    "\n",
    "def cpx(i):\n",
    "    # Define a tuple of options for the main brand\n",
    "    main_brand_options = ('户外传媒', '户内专显', '租赁', '户内商显', '渠道', '户外体育', 'UTV', 'UMini', '专显')\n",
    "    if i in main_brand_options:\n",
    "        return '主品牌'\n",
    "    elif i in ('户内分销', '分销','洲明分销'):\n",
    "        return '分销'\n",
    "    else:\n",
    "        return '其他'\n",
    "\n",
    "# Apply the cpx function to each row in the '产品线(MM03)' column\n",
    "df3['产品线底稿'] = df3['产品线(MM03)'].apply(cpx)\n",
    "\n",
    "# Update '产品线底稿' based on '产品型号' containing 'UMiniP' (case-insensitive)\n",
    "df3.loc[df3['产品型号'].str.contains('uminip|umini p', case=False, na=False), '产品线底稿'] = '分销'\n",
    "\n",
    "\n",
    "# Update '产品线底稿' based on '供应商名称' containing '文创' or '海泰'\n",
    "df3.loc[df3['供应商名称'].str.contains('文创|海泰', na=False), '产品线底稿'] = '文创'\n",
    "\n",
    "df3.loc[df3['销售组名称'].str.contains('万屏汇', na=False), '产品线底稿'] = '万屏汇'\n",
    "\n",
    "df3['是否库存/客诉/退换货'] = df3.apply(lambda row: '是' if '库存' in str(row['项目名称']) or '库存' in str(row['物料描述']) or '库存' in str(row['低毛利原因']) or '库存' in str(row['低毛利原因描述']) else '否', axis=1)\n"
   ]
  },
  {
   "cell_type": "code",
   "execution_count": 33,
   "id": "19c9aef4",
   "metadata": {},
   "outputs": [],
   "source": [
    "df3['销售部门名称（透视）'] = df3['销售部门名称']\n",
    "df3['销售组名称（透视）'] = df3['销售组名称']"
   ]
  },
  {
   "cell_type": "code",
   "execution_count": 34,
   "id": "0d63fa6e",
   "metadata": {},
   "outputs": [],
   "source": [
    "df3.to_excel('内销毛利表（202403）.xlsx')"
   ]
  },
  {
   "cell_type": "markdown",
   "id": "66db4d8f",
   "metadata": {},
   "source": [
    "# 剔除表"
   ]
  },
  {
   "cell_type": "markdown",
   "id": "d00c95b9",
   "metadata": {},
   "source": [
    "# 选择df1中索引不在df2索引中的行\n",
    "rows_in_df1_not_in_df3 = df1[~df1.index.isin(df3.index)]"
   ]
  },
  {
   "cell_type": "markdown",
   "id": "2a70b116",
   "metadata": {},
   "source": [
    "rows_in_df1_not_in_df3.to_excel('剔除表.xlsx')"
   ]
  },
  {
   "cell_type": "markdown",
   "id": "7b025c41",
   "metadata": {},
   "source": [
    "# 渠道毛利表-内销"
   ]
  },
  {
   "cell_type": "code",
   "execution_count": 41,
   "id": "a7c8af80",
   "metadata": {},
   "outputs": [],
   "source": [
    "df4 = pd.read_excel(r\"C:\\Users\\U0014748\\Desktop\\2024年数据\\3\\内销\\毛利\\202403-渠道合并毛利表汇总.xlsx\", sheet_name = '毛利表', header = 1)\n",
    "df4['毛利表'] = '渠道毛利表'"
   ]
  },
  {
   "cell_type": "code",
   "execution_count": 42,
   "id": "292d423c",
   "metadata": {},
   "outputs": [],
   "source": [
    "df4 = df4[df4['广东洲明订单+物料'].notna()]"
   ]
  },
  {
   "cell_type": "markdown",
   "id": "628cd15d",
   "metadata": {},
   "source": [
    "df4.loc[df4['关联交易'] == '关联交易', [\"销售部门名称\",\"销售组名称\",\"省份/国家\"]] =  '关联交易'\n",
    "df4.loc[df4['关联交易'] == '非渠道业务', [\"销售部门名称\",\"销售组名称\",\"省份/国家\"]] =  '非渠道业务'"
   ]
  },
  {
   "cell_type": "code",
   "execution_count": 43,
   "id": "c124a37b",
   "metadata": {},
   "outputs": [],
   "source": [
    "# Assuming you want to set specific columns to a value based on a condition in '关联交易'\n",
    "for index, row in df4.iterrows():\n",
    "    if row['关联交易'] != '非关联交易':\n",
    "        # Set the desired columns to the value in '关联交易' or any other value you intend\n",
    "        df4.at[index, '销售部门名称'] = row['关联交易']\n",
    "        df4.at[index, '销售组名称'] = row['关联交易']\n",
    "        df4.at[index, '省份/国家'] = row['关联交易']"
   ]
  },
  {
   "cell_type": "markdown",
   "id": "8d320047",
   "metadata": {},
   "source": [
    "def func(i):\n",
    "    if i != '非关联交易':\n",
    "        df[\"销售部门名称\",\"销售组名称\",\"省份/国家\"] = i\n",
    "df['关联交易'] = df['关联交易'].apply(func)"
   ]
  },
  {
   "cell_type": "code",
   "execution_count": 44,
   "id": "73242179",
   "metadata": {},
   "outputs": [],
   "source": [
    "df4.loc[(df4['关联交易'] == '非关联交易') & (df4['业务范围']==6030), \"省份/国家\"] =  '蓝普科技'"
   ]
  },
  {
   "cell_type": "code",
   "execution_count": 45,
   "id": "c38ad270",
   "metadata": {},
   "outputs": [],
   "source": [
    "df4[\"省份/国家\"] = df4[\"省份/国家\"].fillna(df4['销售组名称'].str.split('-').str[-1])"
   ]
  },
  {
   "cell_type": "code",
   "execution_count": 46,
   "id": "a53fc209",
   "metadata": {},
   "outputs": [],
   "source": [
    "df4[\"销售部门名称\"] = df4[\"销售部门名称\"].fillna('国内-国内-国内')\n",
    "df4[\"销售组名称\"] = df4[\"销售组名称\"].fillna('国内-国内-国内-国内')\n",
    "df4[\"省份/国家\"] = df4[\"省份/国家\"].fillna('国内')"
   ]
  },
  {
   "cell_type": "code",
   "execution_count": 47,
   "id": "1f596f13",
   "metadata": {},
   "outputs": [],
   "source": [
    "df5 = pd.read_excel(\"C:\\\\Users\\\\U0014748\\\\Desktop\\\\FIBP\\\\流程优化\\\\用于Join的表\\\\KAKC清单汇总20230508（毛利）.xlsx\", sheet_name = 'KAKC清单')"
   ]
  },
  {
   "cell_type": "code",
   "execution_count": 48,
   "id": "881dea84",
   "metadata": {},
   "outputs": [],
   "source": [
    "df4 = pd.merge(df4, df5, left_on='客户名称', right_on='客户名称', how='left')"
   ]
  },
  {
   "cell_type": "code",
   "execution_count": 50,
   "id": "87056f4b",
   "metadata": {},
   "outputs": [],
   "source": [
    "df4 = df4.drop([ '广东洲明订单+物料', '分摊占比', '抛转关系'], axis=1)"
   ]
  },
  {
   "cell_type": "code",
   "execution_count": 51,
   "id": "bc1febaa",
   "metadata": {},
   "outputs": [],
   "source": [
    "df4 = df4.rename(columns={\"分类\": \"渠道大客户\",\n",
    "                         '客户代码_x': '客户代码'})"
   ]
  },
  {
   "cell_type": "code",
   "execution_count": 52,
   "id": "1322a956",
   "metadata": {},
   "outputs": [],
   "source": [
    "df4['销售部门名称（透视）'] = df4['销售部门名称']\n",
    "df4['销售组名称（透视）'] = df4['销售组名称']"
   ]
  },
  {
   "cell_type": "code",
   "execution_count": 53,
   "id": "b52ffa1e",
   "metadata": {},
   "outputs": [
    {
     "data": {
      "text/plain": [
       "['合同号',\n",
       " '公司',\n",
       " '会计年度',\n",
       " '期间',\n",
       " '订单类型描述',\n",
       " '销售合同号',\n",
       " '销售订单',\n",
       " '凭证抬头文本',\n",
       " '客户代码',\n",
       " '客户名称',\n",
       " '产品类型',\n",
       " '关联交易',\n",
       " '业务范围',\n",
       " '归属公司-大类',\n",
       " '归属公司-小类',\n",
       " '销售类型',\n",
       " '产品大类',\n",
       " '产品来源',\n",
       " '主营业务收入-加工收入',\n",
       " '主营业务收入-出口销售收入',\n",
       " '主营业务收入-内销销售收入',\n",
       " '主营业务收入-工程',\n",
       " '主营业务收入-软件销售收入',\n",
       " '主营业务收入-EMC项目',\n",
       " '主营业务收入-修理修配收入',\n",
       " '主营业务收入-外销运费',\n",
       " '其他业务收入-材料销售收入',\n",
       " '其他业务收入-其他',\n",
       " '其他业务收入-服务费等（6%）',\n",
       " '其他业务收入-水电/维修等（13%）',\n",
       " '其他业务收入-固定资产出租',\n",
       " '其他业务收入-房屋租赁收入',\n",
       " '其他业务收入-修理修配收入',\n",
       " '其他业务收入-集团内利息收入',\n",
       " '总收入',\n",
       " '主营业务成本-外销销售成本',\n",
       " '主营业务成本-内销销售成本',\n",
       " '主营业务成本-工程安装成本',\n",
       " '主营业务成本-工程劳务成本',\n",
       " '主营业务成本-修理修配成本',\n",
       " '主营业务成本-EMC项目',\n",
       " '主营业务成本-加工成本',\n",
       " '其他业务成本-材料销售成本',\n",
       " '其他业务成本-其他',\n",
       " '其他业务成本-出租固定资产折旧',\n",
       " '其他业务成本-房屋租赁成本',\n",
       " '其他业务成本-修理修配成本',\n",
       " '其他业务成本-水电/维修等',\n",
       " '总标准成本',\n",
       " '总标准毛利',\n",
       " '标准毛利率',\n",
       " '主营业务成本-材料采购差异',\n",
       " '主营业务成本-成本差异调整',\n",
       " '主营业务成本-价格更改差异',\n",
       " '主营业务成本-生产差异',\n",
       " '主营业务成本-物料转物料差异',\n",
       " '主营业务成本-销售订单库存转移差异',\n",
       " '主营业务成本-差异转出',\n",
       " '总成本差异',\n",
       " '总销售成本（实际）',\n",
       " '总毛利（实际）',\n",
       " '总毛利率（实际）',\n",
       " '广东洲明订单成本',\n",
       " '订单抛转加成差异',\n",
       " '当月广东洲明订单差异',\n",
       " '以前月份订单差异',\n",
       " '关联方差异（蓝普/文创）',\n",
       " '关联方成本（蓝普/文创）',\n",
       " '最终收入',\n",
       " '最终实际成本',\n",
       " '最终实际毛利',\n",
       " '最终实际毛利率',\n",
       " '来源广东洲明订单号',\n",
       " '加成比例',\n",
       " '供应商名称',\n",
       " '采购订单号',\n",
       " '采购订单数量',\n",
       " '深圳洲明过账数量',\n",
       " '数量差异',\n",
       " '蓝普确认收入/文创收入',\n",
       " '采购与文创确认收入数量差异',\n",
       " '基本情况分析',\n",
       " '挪用订单',\n",
       " '合同类型名称',\n",
       " '分销渠道名称',\n",
       " '姓名',\n",
       " '雇员部门(VA03)',\n",
       " '行业类型',\n",
       " 'SOff.',\n",
       " '销售部门名称',\n",
       " 'SGrp',\n",
       " '销售组名称',\n",
       " '国家名称',\n",
       " '城市',\n",
       " '项目名称',\n",
       " '物料编号',\n",
       " '物料描述',\n",
       " '产品线(MM03)',\n",
       " '产品型号',\n",
       " '系列',\n",
       " '产品类型(VA03)',\n",
       " '产品系列(MM03)',\n",
       " '户内户外(MM03)',\n",
       " '低毛利原因',\n",
       " '低毛利原因描述',\n",
       " '报价系数',\n",
       " '合同评审号',\n",
       " '过账数量',\n",
       " '长 * 高',\n",
       " '单屏面积',\n",
       " '总面积',\n",
       " '省份/国家',\n",
       " '产品线底稿',\n",
       " '产品线底稿-物料',\n",
       " '产品系列(MM03)物料',\n",
       " '产品型号-物料',\n",
       " '销售面积',\n",
       " '是否库存/客诉/退换货',\n",
       " '单位成本',\n",
       " '过账数量总成本',\n",
       " '物理间距(MM03)',\n",
       " '高刷or普刷',\n",
       " '间距大类',\n",
       " '毛利表',\n",
       " '渠道大客户',\n",
       " '销售部门名称（透视）',\n",
       " '销售组名称（透视）']"
      ]
     },
     "execution_count": 53,
     "metadata": {},
     "output_type": "execute_result"
    }
   ],
   "source": [
    "list(df4.columns)"
   ]
  },
  {
   "cell_type": "code",
   "execution_count": null,
   "id": "359c7ea0",
   "metadata": {},
   "outputs": [],
   "source": []
  },
  {
   "cell_type": "code",
   "execution_count": 55,
   "id": "2fd361f9",
   "metadata": {},
   "outputs": [],
   "source": [
    "df4.to_excel('渠道毛利202403.xlsx')"
   ]
  },
  {
   "cell_type": "markdown",
   "id": "276b96f2",
   "metadata": {},
   "source": [
    "# 海外对照表们"
   ]
  },
  {
   "cell_type": "code",
   "execution_count": 16,
   "id": "b35bace2",
   "metadata": {},
   "outputs": [],
   "source": [
    "import pandas as pd"
   ]
  },
  {
   "cell_type": "code",
   "execution_count": 57,
   "id": "7426ed06",
   "metadata": {},
   "outputs": [],
   "source": [
    "子公司对照表 = pd.read_excel(r\"C:\\Users\\U0014748\\Desktop\\FIBP\\流程优化\\用于Join的表\\海外子公司对照表.xlsx\", index_col='出货子公司')"
   ]
  },
  {
   "cell_type": "code",
   "execution_count": 58,
   "id": "34187689",
   "metadata": {},
   "outputs": [],
   "source": [
    "国家片区区域对应 = pd.read_excel(r\"C:\\Users\\U0014748\\Desktop\\FIBP\\流程优化\\用于Join的表\\【参考】国家片区区域对应关系-2024年最新架构-2024.2.27.xlsx\", index_col = '国家')\n",
    "国家片区区域对应 = 国家片区区域对应.drop(['旧版命名', '片区/销售组新的命名（10.8）'], axis = 1)\n",
    "报表战区对应关系 = pd.read_excel(r\"C:\\Users\\U0014748\\Desktop\\FIBP\\流程优化\\用于Join的表\\报表战区对应关系.xlsx\")\n",
    "产品线领域对应关系 = pd.read_excel(r\"C:\\Users\\U0014748\\Desktop\\FIBP\\流程优化\\用于Join的表\\产品线领域-对照表.xlsx\")"
   ]
  },
  {
   "cell_type": "markdown",
   "id": "b21005f2",
   "metadata": {},
   "source": [
    "# 海外子公司(不含蓝普）"
   ]
  },
  {
   "cell_type": "markdown",
   "id": "905e8bcc",
   "metadata": {},
   "source": [
    "#上一个月的\n",
    "previous_no_blue =  pd.read_excel(r\"C:\\Users\\U0014748\\Desktop\\2024年数据\\一月数据\\外销\\2024-子公司销售毛利表-01月V.xlsx\", sheet_name = '子公司毛利表 -不含蓝普')\n",
    "previous_no_blue['毛利表'] = '海外子公司(不含蓝普）'"
   ]
  },
  {
   "cell_type": "code",
   "execution_count": null,
   "id": "fb6b2d7c",
   "metadata": {},
   "outputs": [],
   "source": []
  },
  {
   "cell_type": "code",
   "execution_count": 91,
   "id": "a531f284",
   "metadata": {},
   "outputs": [
    {
     "name": "stderr",
     "output_type": "stream",
     "text": [
      "C:\\Users\\U0014748\\AppData\\Local\\anaconda3\\Lib\\site-packages\\openpyxl\\worksheet\\_read_only.py:79: UserWarning: Cell J64 is marked as a date but the serial value 70000671 is outside the limits for dates. The cell will be treated as an error.\n",
      "  for idx, row in parser.parse():\n"
     ]
    }
   ],
   "source": [
    "no_blue = pd.read_excel(r\"C:\\Users\\U0014748\\Desktop\\2024年数据\\2月\\外销\\子公司毛利表（202402）.xlsx\", sheet_name = '子公司毛利表-不含蓝普')\n",
    "no_blue['毛利表'] = '海外子公司(不含蓝普）'"
   ]
  },
  {
   "cell_type": "markdown",
   "id": "625baa4a",
   "metadata": {},
   "source": [
    "no_blue = pd.concat([previous_no_blue, no_blue])"
   ]
  },
  {
   "cell_type": "code",
   "execution_count": null,
   "id": "ced9bcfb",
   "metadata": {},
   "outputs": [],
   "source": []
  },
  {
   "cell_type": "code",
   "execution_count": null,
   "id": "945a3083",
   "metadata": {},
   "outputs": [],
   "source": []
  },
  {
   "cell_type": "code",
   "execution_count": 92,
   "id": "36e8fa0f",
   "metadata": {},
   "outputs": [],
   "source": [
    "#blue['期间'].isin([1, 2, 3, 4, 7])\n",
    "no_blue_usable = no_blue[(no_blue['分类'] == '海外子公司')&(no_blue['会计年度'] == 2024)&(no_blue['销售期间'] == 2) & (no_blue['关联交易'] == '非关联交易')]"
   ]
  },
  {
   "cell_type": "code",
   "execution_count": 93,
   "id": "61169b92",
   "metadata": {},
   "outputs": [],
   "source": [
    "no_blue_merge = pd.merge(no_blue_usable, 子公司对照表, left_on='出货子公司', right_on='出货子公司', how='left')"
   ]
  },
  {
   "cell_type": "code",
   "execution_count": 94,
   "id": "10dbf40a",
   "metadata": {},
   "outputs": [],
   "source": [
    "no_blue_merge = no_blue_merge.rename(columns = {'销售类型':'订单类型描述'})"
   ]
  },
  {
   "cell_type": "code",
   "execution_count": 95,
   "id": "0feca578",
   "metadata": {},
   "outputs": [
    {
     "data": {
      "text/plain": [
       "Index(['序号', '合同号', '分类', '会计年度', '销售期间', '关联交易', '出货子公司', '客户公司名称', '成都洲明订单号',\n",
       "       '深圳洲明订单号', '深圳洲明销售合同号（母子合同号）', '终端合同号(子客合同号）', '订单类型描述', '订单总数量（购入）',\n",
       "       '订单总面积（购入）', '销售数量', '销售面积', '产品名称', '间距', '汇率', '原币别', '总销售收入（原币）',\n",
       "       '收入（人民币）', '销售成本(原币）', '销售成本（人民币）', '销售毛利', '销售毛利率', '总差异', '实际销售成本',\n",
       "       '实际毛利', '实际毛利率', '挪用订单', '更改前', '成本变更差异', '合同类型名称', '分销渠道名称', '姓名',\n",
       "       '行业类型', 'SOff.', '销售部门名称', 'SGrp', '销售组名称', '国家名称', '城市', '项目名称',\n",
       "       '物料编号', '物料描述', '销售大区-产品线分类调整', '产品线-产品维度', '产品系列', '产品系列新名称', '产品型号',\n",
       "       '户外', '产品型号.1', '系列', '产品类型(VA03)', '产品系列(MM03)', '户内户外（MM03)', '低毛利原因',\n",
       "       '像素分类', '深圳洲明订单号物料编号', '毛利表', '子公司', '国家', '片区', '区域'],\n",
       "      dtype='object')"
      ]
     },
     "execution_count": 95,
     "metadata": {},
     "output_type": "execute_result"
    }
   ],
   "source": [
    "no_blue_merge.columns"
   ]
  },
  {
   "cell_type": "code",
   "execution_count": 96,
   "id": "1dc7a309",
   "metadata": {},
   "outputs": [],
   "source": [
    "no_blue_merge = no_blue_merge[['毛利表', '子公司', '会计年度', '销售期间', '订单类型描述', '深圳洲明销售合同号（母子合同号）', '终端合同号(子客合同号）', '深圳洲明订单号', '客户公司名称', '关联交易', '收入（人民币）', '实际销售成本', '实际毛利',\n",
    "       '实际毛利率', '区域', '片区', '国家', '销售部门名称', '销售组名称', '物料编号', '物料描述']]#,'产品系列-思维（透视）'"
   ]
  },
  {
   "cell_type": "code",
   "execution_count": 97,
   "id": "0ece8afe",
   "metadata": {},
   "outputs": [],
   "source": [
    "no_blue_merge['销售类型'] = '外销'"
   ]
  },
  {
   "cell_type": "code",
   "execution_count": 98,
   "id": "d2619a92",
   "metadata": {},
   "outputs": [],
   "source": [
    "no_blue_merge = no_blue_merge.rename(columns={\n",
    "    '子公司': '公司',\n",
    "    '销售期间': '期间',\n",
    "    '深圳洲明销售合同号（母子合同号）': '销售合同号',\n",
    "    '深圳洲明订单号': '销售订单',\n",
    "    '客户公司名称': '客户名称',\n",
    "    '收入（人民币）': '最终收入',\n",
    "    '实际销售成本': '最终实际成本',\n",
    "    '实际毛利': '最终实际毛利',\n",
    "    '实际毛利率': '最终实际毛利率',\n",
    "    '区域': '销售部门名称（透视）',\n",
    "    '片区': '销售组名称（透视）',\n",
    "    '国家': '国家名称（透视）'\n",
    "})\n"
   ]
  },
  {
   "cell_type": "code",
   "execution_count": 99,
   "id": "cbca4a64",
   "metadata": {},
   "outputs": [],
   "source": [
    "no_blue_merge.to_excel('海外子公司(不含蓝普)_202402.xlsx')"
   ]
  },
  {
   "cell_type": "markdown",
   "id": "2f21e50a",
   "metadata": {},
   "source": [
    "# 海外子公司（含蓝普）"
   ]
  },
  {
   "cell_type": "markdown",
   "id": "f9ff1acd",
   "metadata": {},
   "source": [
    "previous_incluede_blue = pd.read_excel(r\"C:\\Users\\U0014748\\Desktop\\2024年数据\\一月数据\\外销\\2024-子公司销售毛利表-01月V.xlsx\", sheet_name = '子公司毛利表-蓝普 ')\n",
    "previous_incluede_blue['毛利表'] = '海外子公司（含蓝普）'"
   ]
  },
  {
   "cell_type": "code",
   "execution_count": 100,
   "id": "4bde3254",
   "metadata": {
    "scrolled": true
   },
   "outputs": [],
   "source": [
    "incluede_blue = pd.read_excel(r\"C:\\Users\\U0014748\\Desktop\\2024年数据\\2月\\外销\\子公司毛利表（202402）.xlsx\", sheet_name = '子公司毛利表-蓝普')\n",
    "incluede_blue['毛利表'] = '海外子公司（含蓝普）'"
   ]
  },
  {
   "cell_type": "markdown",
   "id": "8f267a04",
   "metadata": {},
   "source": [
    "incluede_blue = pd.concat([previous_incluede_blue, incluede_blue])"
   ]
  },
  {
   "cell_type": "code",
   "execution_count": null,
   "id": "0a7b53fb",
   "metadata": {},
   "outputs": [],
   "source": []
  },
  {
   "cell_type": "code",
   "execution_count": null,
   "id": "423dde0e",
   "metadata": {},
   "outputs": [],
   "source": []
  },
  {
   "cell_type": "code",
   "execution_count": 101,
   "id": "316510d0",
   "metadata": {},
   "outputs": [],
   "source": [
    "incluede_blue = incluede_blue[incluede_blue.index.notna()]\n",
    "incluede_blue['销售期间'] = incluede_blue['销售期间'].fillna(0).astype(int)\n",
    "incluede_blue['会计年度'] = incluede_blue['会计年度'].fillna(0).astype(int)\n",
    "incluede_blue['销售类型']= '外销'"
   ]
  },
  {
   "cell_type": "code",
   "execution_count": 102,
   "id": "c4181698",
   "metadata": {},
   "outputs": [],
   "source": [
    "incluede_blue = incluede_blue[(incluede_blue['会计年度'] == 2024)&(incluede_blue['销售期间'] == 2) & (incluede_blue['关联交易'] == '非关联交易') & (incluede_blue['销售类型']=='外销')]"
   ]
  },
  {
   "cell_type": "code",
   "execution_count": 103,
   "id": "967160e0",
   "metadata": {},
   "outputs": [],
   "source": [
    "incluede_blue_merge = pd.merge(incluede_blue,国家片区区域对应,left_on = '国家名称' , right_on = '国家', how = 'left' )"
   ]
  },
  {
   "cell_type": "code",
   "execution_count": 104,
   "id": "5d58da90",
   "metadata": {},
   "outputs": [],
   "source": [
    "incluede_blue_merge = incluede_blue_merge[['毛利表', '出货子公司', '会计年度', '销售期间','客户公司名称', '关联交易','深圳洲明订单号或蓝普现货订单号','深圳洲明销售合同号（母子合同号）','终端合同号(子客合同号）','销售类型','收入（人民币）','实际销售成本','实际毛利', '实际毛利率', '销售部门名称', '销售组名称', '国家名称','物料编号', '物料描述','销售部门名称（透视）',\n",
    "       '销售组名称（透视）']]#,'产品系列-思维（透视）'"
   ]
  },
  {
   "cell_type": "code",
   "execution_count": 105,
   "id": "c9ca4590",
   "metadata": {},
   "outputs": [
    {
     "data": {
      "text/plain": [
       "Index(['毛利表', '出货子公司', '会计年度', '销售期间', '客户公司名称', '关联交易', '深圳洲明订单号或蓝普现货订单号',\n",
       "       '深圳洲明销售合同号（母子合同号）', '终端合同号(子客合同号）', '销售类型', '收入（人民币）', '实际销售成本', '实际毛利',\n",
       "       '实际毛利率', '销售部门名称', '销售组名称', '国家名称', '物料编号', '物料描述', '销售部门名称（透视）',\n",
       "       '销售组名称（透视）'],\n",
       "      dtype='object')"
      ]
     },
     "execution_count": 105,
     "metadata": {},
     "output_type": "execute_result"
    }
   ],
   "source": [
    "incluede_blue_merge.columns"
   ]
  },
  {
   "cell_type": "code",
   "execution_count": 106,
   "id": "d985897b",
   "metadata": {},
   "outputs": [],
   "source": [
    "#incluede_blue_merge['国家名称（透视）']  = incluede_blue_merge['国家名称']\n",
    "incluede_blue_merge = incluede_blue_merge.rename(columns={\n",
    "    '出货子公司': '公司',\n",
    "    '销售期间': '期间',\n",
    "    '深圳洲明销售合同号（母子合同号）': '销售合同号',\n",
    "    '深圳洲明订单号或蓝普现货订单号': '销售订单',\n",
    "    '客户公司名称': '客户名称',\n",
    "    '收入（人民币）': '最终收入',\n",
    "    '实际销售成本': '最终实际成本',\n",
    "    '实际毛利': '最终实际毛利',\n",
    "    '国家名称':'国家名称（透视）',\n",
    "    '实际毛利率': '最终实际毛利率',\n",
    "    '国家名称': '国家名称（透视）'\n",
    "})\n"
   ]
  },
  {
   "cell_type": "code",
   "execution_count": 107,
   "id": "27eb92c8",
   "metadata": {},
   "outputs": [],
   "source": [
    "incluede_blue_merge.to_excel('海外子公司(蓝普)_202402.xlsx')"
   ]
  },
  {
   "cell_type": "markdown",
   "id": "48ea9639",
   "metadata": {},
   "source": [
    "# 蓝普国际"
   ]
  },
  {
   "cell_type": "code",
   "execution_count": 116,
   "id": "044d95e9",
   "metadata": {},
   "outputs": [],
   "source": [
    "blue = pd.read_excel(r\"C:\\Users\\U0014748\\Desktop\\2024年数据\\2月\\外销\\2月多产品线毛利分析表-蓝普.xlsx\", sheet_name  = '毛利表 ')\n",
    "blue['毛利表'] = '蓝普国际'"
   ]
  },
  {
   "cell_type": "code",
   "execution_count": 117,
   "id": "ee27a410",
   "metadata": {},
   "outputs": [],
   "source": [
    "blue['期间'] = blue['期间'].fillna(0).astype(int)"
   ]
  },
  {
   "cell_type": "code",
   "execution_count": 118,
   "id": "83410cbd",
   "metadata": {},
   "outputs": [],
   "source": [
    "blue = blue[(blue['会计年度'] == 2024)&(blue['期间'] == 2)  & (blue['关联交易'] == '非关联交易') & (blue['销售类型']=='外销')]"
   ]
  },
  {
   "cell_type": "code",
   "execution_count": 119,
   "id": "8efbd3e1",
   "metadata": {},
   "outputs": [],
   "source": [
    "blue_merge = pd.merge(blue, 国家片区区域对应,left_on = '国家名称' , right_on = '国家', how = 'left' )"
   ]
  },
  {
   "cell_type": "code",
   "execution_count": 120,
   "id": "d54b6b24",
   "metadata": {},
   "outputs": [],
   "source": [
    "blue_merge['国家名称（透视）'] = blue_merge['国家名称']"
   ]
  },
  {
   "cell_type": "code",
   "execution_count": 121,
   "id": "b8a9bb96",
   "metadata": {},
   "outputs": [
    {
     "data": {
      "text/plain": [
       "['辅助列',\n",
       " '销售订单行',\n",
       " '合同号',\n",
       " '公司',\n",
       " '会计年度',\n",
       " '期间',\n",
       " '订单类型描述',\n",
       " '销售合同号',\n",
       " '销售订单',\n",
       " '凭证抬头文本',\n",
       " '客户代码',\n",
       " '客户名称',\n",
       " '产品类型',\n",
       " '关联交易',\n",
       " '业务范围',\n",
       " '归属公司-大类',\n",
       " '归属公司-小类',\n",
       " '销售类型',\n",
       " '产品大类',\n",
       " '产品来源',\n",
       " '主营业务收入-加工收入',\n",
       " '主营业务收入-出口销售收入',\n",
       " '主营业务收入-内销销售收入',\n",
       " '主营业务收入-工程',\n",
       " '主营业务收入-软件销售收入',\n",
       " '主营业务收入-EMC项目',\n",
       " '主营业务收入-修理修配收入',\n",
       " '主营业务收入-外销运费',\n",
       " '其他业务收入-材料销售收入',\n",
       " '其他业务收入-其他',\n",
       " '其他业务收入-服务费等（6%）',\n",
       " '其他业务收入-水电/维修等（13%）',\n",
       " '其他业务收入-固定资产出租',\n",
       " '其他业务收入-房屋租赁收入',\n",
       " '其他业务收入-修理修配收入',\n",
       " '其他业务收入-集团内利息收入',\n",
       " '总收入',\n",
       " '主营业务成本-外销销售成本',\n",
       " '主营业务成本-内销销售成本',\n",
       " '主营业务成本-工程安装成本',\n",
       " '主营业务成本-工程劳务成本',\n",
       " '主营业务成本-修理修配成本',\n",
       " '主营业务成本-EMC项目',\n",
       " '主营业务成本-加工成本',\n",
       " '其他业务成本-材料销售成本',\n",
       " '其他业务成本-其他',\n",
       " '其他业务成本-出租固定资产折旧',\n",
       " '其他业务成本-房屋租赁成本',\n",
       " '其他业务成本-修理修配成本',\n",
       " '其他业务成本-水电/维修等',\n",
       " '总标准成本',\n",
       " '总标准毛利',\n",
       " '标准毛利率',\n",
       " '主营业务成本-材料采购差异',\n",
       " '主营业务成本-成本差异调整',\n",
       " '主营业务成本-价格更改差异',\n",
       " '主营业务成本-生产差异',\n",
       " '主营业务成本-物料转物料差异',\n",
       " '主营业务成本-销售订单库存转移差异',\n",
       " '主营业务成本-差异转出',\n",
       " '总成本差异',\n",
       " '总销售成本（实际）',\n",
       " '总毛利（实际）',\n",
       " '总毛利率（实际）',\n",
       " '广东洲明订单成本',\n",
       " '订单抛转加成差异',\n",
       " '当月广东洲明订单差异',\n",
       " '以前月份订单成本差异',\n",
       " '关联方差异（蓝普/文创）',\n",
       " '关联方成本（蓝普/文创）',\n",
       " '最终收入',\n",
       " '最终实际成本',\n",
       " '最终实际毛利',\n",
       " '最终实际毛利率',\n",
       " '来源广东洲明订单号',\n",
       " '加成比例',\n",
       " '供应商名称',\n",
       " '采购订单号',\n",
       " '采购订单数量',\n",
       " '深圳洲明过账数量',\n",
       " '数量差异',\n",
       " '蓝普确认收入/文创收入',\n",
       " '采购与文创确认收入数量差异',\n",
       " '基本情况分析',\n",
       " '挪用订单',\n",
       " '合同类型名称',\n",
       " '分销渠道名称',\n",
       " '姓名',\n",
       " '雇员部门(VA03)',\n",
       " '行业类型',\n",
       " 'SOff.',\n",
       " '销售部门名称',\n",
       " 'SGrp',\n",
       " '销售组名称',\n",
       " '国家名称',\n",
       " '城市',\n",
       " '项目名称',\n",
       " '物料编号',\n",
       " '物料描述',\n",
       " '产品线(MM03)',\n",
       " '产品型号',\n",
       " '系列',\n",
       " '产品类型(VA03)',\n",
       " '产品系列(MM03)',\n",
       " '户内户外（MM03)',\n",
       " '低毛利原因(后面）',\n",
       " '低毛利原因描述',\n",
       " '报价系数',\n",
       " '合同评审号',\n",
       " '过账数量',\n",
       " '长 * 高',\n",
       " '单屏面积',\n",
       " '总面积',\n",
       " '省份/国家',\n",
       " '产品线底稿',\n",
       " '产品线底稿-物料',\n",
       " '产品系列(MM03)物料',\n",
       " '产品型号-物料',\n",
       " '销售面积',\n",
       " '是否库存/客诉/退换货',\n",
       " '是否处理呆滞',\n",
       " '订单年度',\n",
       " '像素分类',\n",
       " '是否低毛利订单',\n",
       " '低毛利原因分类',\n",
       " 'OA产品类型',\n",
       " '分洲区',\n",
       " '毛利表',\n",
       " '销售部门名称（透视）',\n",
       " '销售组名称（透视）',\n",
       " '国家名称（透视）']"
      ]
     },
     "execution_count": 121,
     "metadata": {},
     "output_type": "execute_result"
    }
   ],
   "source": [
    "list(blue_merge.columns)"
   ]
  },
  {
   "cell_type": "code",
   "execution_count": 122,
   "id": "169738b9",
   "metadata": {},
   "outputs": [],
   "source": [
    "blue_merge['销售部门名称（透视）'] = blue_merge['销售部门名称（透视）'].fillna(blue_merge['销售部门名称'])\n",
    "blue_merge['销售组名称（透视）'] = blue_merge['销售组名称（透视）'].fillna(blue_merge['销售组名称'])"
   ]
  },
  {
   "cell_type": "code",
   "execution_count": 123,
   "id": "066acbb4",
   "metadata": {},
   "outputs": [],
   "source": [
    "blue.to_excel(\"蓝普国际202402.xlsx\")"
   ]
  },
  {
   "cell_type": "markdown",
   "id": "78a32c7f",
   "metadata": {},
   "source": [
    "# 海外照明"
   ]
  },
  {
   "cell_type": "code",
   "execution_count": 108,
   "id": "b25bf4da",
   "metadata": {},
   "outputs": [],
   "source": [
    "oversee_light = pd.read_excel(r\"C:\\Users\\U0014748\\Desktop\\2024年数据\\3\\外销\\照明\\3月多产品线毛利分析表-广东洲明(未剔除EMC).xlsx\", sheet_name = '深圳洲明(管理口径)-1020照明外贸')\n",
    "oversee_light['毛利表'] = '照明'"
   ]
  },
  {
   "cell_type": "code",
   "execution_count": null,
   "id": "bc3141b8",
   "metadata": {},
   "outputs": [],
   "source": []
  },
  {
   "cell_type": "code",
   "execution_count": 109,
   "id": "641d8b63",
   "metadata": {},
   "outputs": [
    {
     "data": {
      "text/plain": [
       "Index(['公司主体', '会计年度', '期间', '合同号', '客户名称', '销售类型(内销/外销）', '销售收入', '销售成本（实际）',\n",
       "       '毛利', '毛利率', '业务员', '销售区域', '省份/国家', '产品线', '产品系列', '物料编码',\n",
       "       '物料描述（即产品详细描述）', '数量(PCS)', '面积(M2)', '项目名称', '毛利表'],\n",
       "      dtype='object')"
      ]
     },
     "execution_count": 109,
     "metadata": {},
     "output_type": "execute_result"
    }
   ],
   "source": [
    "oversee_light.columns"
   ]
  },
  {
   "cell_type": "code",
   "execution_count": 110,
   "id": "c8313aee",
   "metadata": {},
   "outputs": [],
   "source": [
    "# Assuming '公司名' is the column in oversee_light you want to check against 子公司对照表['子公司']\n",
    "oversee_light['关联交易'] = oversee_light['客户名称'].apply(lambda x: '关联交易' if x in 子公司对照表['子公司'].values else '非关联交易')"
   ]
  },
  {
   "cell_type": "code",
   "execution_count": 111,
   "id": "bdc460bc",
   "metadata": {},
   "outputs": [],
   "source": [
    "oversee_light =oversee_light[(oversee_light['会计年度'] == 2024)&(oversee_light['期间'] == 2)  & (oversee_light['关联交易'] == '非关联交易') & (oversee_light['销售类型(内销/外销）']=='外销')]"
   ]
  },
  {
   "cell_type": "code",
   "execution_count": 112,
   "id": "f76fe4da",
   "metadata": {},
   "outputs": [],
   "source": [
    "oversee_light = pd.merge(oversee_light, 国家片区区域对应,left_on = '省份/国家' , right_on = '国家', how = 'left' )"
   ]
  },
  {
   "cell_type": "code",
   "execution_count": 113,
   "id": "dfc76959",
   "metadata": {},
   "outputs": [
    {
     "data": {
      "text/plain": [
       "Index(['公司主体', '会计年度', '期间', '合同号', '客户名称', '销售类型(内销/外销）', '销售收入', '销售成本（实际）',\n",
       "       '毛利', '毛利率', '业务员', '销售区域', '省份/国家', '产品线', '产品系列', '物料编码',\n",
       "       '物料描述（即产品详细描述）', '数量(PCS)', '面积(M2)', '项目名称', '毛利表', '关联交易',\n",
       "       '销售部门名称（透视）', '销售组名称（透视）'],\n",
       "      dtype='object')"
      ]
     },
     "execution_count": 113,
     "metadata": {},
     "output_type": "execute_result"
    }
   ],
   "source": [
    "oversee_light.columns"
   ]
  },
  {
   "cell_type": "code",
   "execution_count": 114,
   "id": "4d057699",
   "metadata": {},
   "outputs": [],
   "source": [
    "#oversee_light['国家名称（透视）'] = oversee_light['省份/国家']\n",
    "oversee_light = oversee_light.rename(columns={\n",
    "    '公司主体': '公司',\n",
    "    '合同号': '销售合同号',\n",
    "    '销售类型(内销/外销）': '销售类型',\n",
    "    '销售收入': '最终收入',\n",
    "    '销售成本（实际）': '最终实际成本',\n",
    "    '毛利': '最终实际毛利',\n",
    "    '毛利率': '最终实际毛利率',\n",
    "    '业务员': '姓名',\n",
    "    '省份/国家': '国家名称（透视）'\n",
    "\n",
    "})\n"
   ]
  },
  {
   "cell_type": "code",
   "execution_count": 115,
   "id": "673dbe04",
   "metadata": {},
   "outputs": [],
   "source": [
    "oversee_light.to_excel('海外照明202402.xlsx')"
   ]
  },
  {
   "cell_type": "markdown",
   "id": "8373f8b4",
   "metadata": {},
   "source": [
    "# 主毛利-外销"
   ]
  },
  {
   "cell_type": "code",
   "execution_count": 85,
   "id": "708462bc",
   "metadata": {},
   "outputs": [],
   "source": [
    "毛利外销 = pd.read_excel(r\"C:\\Users\\U0014748\\Desktop\\2024年数据\\3\\内销\\毛利\\2.1 2024年1-3月深圳洲明毛利表.xlsx\", sheet_name = '毛利表')\n",
    "毛利外销 = 毛利外销[毛利外销['销售类型'] == '外销']\n",
    "毛利外销['毛利表'] = '主毛利表'"
   ]
  },
  {
   "cell_type": "code",
   "execution_count": 86,
   "id": "96422888",
   "metadata": {},
   "outputs": [],
   "source": [
    "毛利外销 = 毛利外销[(毛利外销['会计年度'] == 2024) & (毛利外销['关联交易'] == '非关联交易')&(毛利外销['期间'] == 2) & (毛利外销['销售类型']=='外销') & (毛利外销['业务范围'] == '显示')]"
   ]
  },
  {
   "cell_type": "code",
   "execution_count": 87,
   "id": "60d075d5",
   "metadata": {},
   "outputs": [],
   "source": [
    "毛利外销加字段 = pd.merge(毛利外销,国家片区区域对应,left_on = '国家名称' , right_on = '国家', how = 'left' )"
   ]
  },
  {
   "cell_type": "code",
   "execution_count": 88,
   "id": "4aae4bb4",
   "metadata": {},
   "outputs": [],
   "source": [
    "毛利外销加字段 = 毛利外销加字段.rename(columns = {'销售部门名称（透视）':'销售部门名称（透视）',\n",
    "                                   '销售组名称（透视）':'销售组名称（透视）'})\n",
    "\n",
    "毛利外销加字段['国家名称（透视）'] = 毛利外销加字段['国家名称']"
   ]
  },
  {
   "cell_type": "code",
   "execution_count": 89,
   "id": "41dd817d",
   "metadata": {},
   "outputs": [],
   "source": [
    "毛利外销加字段['销售部门名称（透视）'] = 毛利外销加字段['销售部门名称（透视）'].fillna(毛利外销加字段['销售部门名称'])\n",
    "毛利外销加字段['销售组名称（透视）'] = 毛利外销加字段['销售组名称（透视）'].fillna(毛利外销加字段['销售组名称'])"
   ]
  },
  {
   "cell_type": "code",
   "execution_count": 90,
   "id": "bcf66989",
   "metadata": {},
   "outputs": [],
   "source": [
    "毛利外销加字段.to_excel('外销毛利表（202402）.xlsx')"
   ]
  },
  {
   "cell_type": "markdown",
   "id": "3815aa17",
   "metadata": {},
   "source": [
    "#海外部分\n",
    "four_in_one = pd.concat([no_blue_merge, incluede_blue_merge,blue_merge , oversee_light, 毛利外销加字段], ignore_index=True, sort=False)\n",
    "four_in_one = four_in_one.set_index('毛利表')"
   ]
  },
  {
   "cell_type": "markdown",
   "id": "86c7e5c7",
   "metadata": {},
   "source": [
    "four_in_one.to_excel('fiveinone.xlsx')"
   ]
  },
  {
   "cell_type": "markdown",
   "id": "89a836d0",
   "metadata": {},
   "source": [
    "# 渠道毛利表-外销"
   ]
  },
  {
   "cell_type": "code",
   "execution_count": 194,
   "id": "952e709b",
   "metadata": {},
   "outputs": [],
   "source": [
    "渠道外销 = pd.read_excel(r\"C:\\Users\\U0014748\\Desktop\\2024年数据\\2月\\毛利\\2.2 2024年1-2月渠道毛利表.xlsx\", sheet_name = '毛利表')\n",
    "渠道外销['毛利表'] = '渠道毛利表'"
   ]
  },
  {
   "cell_type": "code",
   "execution_count": 195,
   "id": "3d5e2828",
   "metadata": {},
   "outputs": [],
   "source": [
    "渠道外销 = 渠道外销[(渠道外销['会计年度'] == 2024) & (渠道外销['关联交易'] == '非关联交易') & (渠道外销['销售类型']=='外销')]"
   ]
  },
  {
   "cell_type": "code",
   "execution_count": 196,
   "id": "e26390db",
   "metadata": {},
   "outputs": [],
   "source": [
    "渠道外销 = pd.merge(渠道外销,国家片区区域对应,left_on = '国家名称' , right_on = '国家', how = 'left' )\n"
   ]
  },
  {
   "cell_type": "code",
   "execution_count": 197,
   "id": "2495da5a",
   "metadata": {},
   "outputs": [],
   "source": [
    "渠道外销['国家名称（透视）'] = 渠道外销['国家名称']"
   ]
  },
  {
   "cell_type": "code",
   "execution_count": 198,
   "id": "a940abc1",
   "metadata": {},
   "outputs": [],
   "source": [
    "渠道外销 = 渠道外销.rename(columns = {\n",
    "    '国家名称（透视）': '国家名称（透视）',\n",
    "    '销售部门名称（透视）': '销售部门名称（透视）',\n",
    "    '销售组名称（透视）':'销售组名称（透视）'\n",
    "})"
   ]
  },
  {
   "cell_type": "markdown",
   "id": "6081a069",
   "metadata": {},
   "source": [
    "# 海外部分(合并&导出)"
   ]
  },
  {
   "cell_type": "code",
   "execution_count": 199,
   "id": "cf53d405",
   "metadata": {},
   "outputs": [],
   "source": [
    "\n",
    "four_in_one = pd.concat([no_blue_merge, incluede_blue_merge,blue_merge , oversee_light, 毛利外销加字段,渠道外销], ignore_index=True, sort=False)\n",
    "four_in_one = four_in_one.set_index('毛利表')"
   ]
  },
  {
   "cell_type": "code",
   "execution_count": null,
   "id": "35f61035",
   "metadata": {},
   "outputs": [],
   "source": [
    "four_in_one['国家名称（透视）'] = four_in_one['国家名称（透视）'].fillna(four_in_one['国家名称'])"
   ]
  },
  {
   "cell_type": "code",
   "execution_count": null,
   "id": "4300e71c",
   "metadata": {},
   "outputs": [],
   "source": [
    "four_in_one = pd.merge( four_in_one, 报表战区对应关系, left_on = '销售组名称（透视）', right_on = '销售组名称（透视）', how = 'left')"
   ]
  },
  {
   "cell_type": "code",
   "execution_count": null,
   "id": "6bb9e082",
   "metadata": {},
   "outputs": [],
   "source": [
    "four_in_one = pd.merge(four_in_one,产品线领域对应关系, left_on = '产品系列-思维（透视）', right_on = '产品系列-思维（透视）', how = 'left')"
   ]
  },
  {
   "cell_type": "markdown",
   "id": "5f7631a7",
   "metadata": {},
   "source": [
    "four_in_one.to_excel('外销处理数据库版.xlsx')"
   ]
  },
  {
   "cell_type": "code",
   "execution_count": null,
   "id": "4501d407",
   "metadata": {},
   "outputs": [],
   "source": []
  },
  {
   "cell_type": "code",
   "execution_count": 221,
   "id": "f0e9f88e",
   "metadata": {},
   "outputs": [],
   "source": [
    "外销简化版 = pd.read_excel(r\"C:\\Users\\U0014748\\Desktop\\FIBP\\流程优化\\毛利表\\外销处理-0401.xlsx\")"
   ]
  },
  {
   "cell_type": "code",
   "execution_count": 226,
   "id": "662237d5",
   "metadata": {},
   "outputs": [],
   "source": [
    "外销简化版 = four_in_one[['毛利表','公司',\n",
    " '会计年度',\n",
    " '期间',\n",
    " '订单类型描述',\n",
    " '销售合同号',\n",
    " '终端合同号(子客合同号）','销售订单',\n",
    " '客户名称', '关联交易',\n",
    " '最终收入',\n",
    " '最终实际成本',\n",
    " '最终实际毛利',\n",
    " '最终实际毛利率',\n",
    " '销售部门名称（透视）',\n",
    " '销售组名称（透视）',\n",
    "                     '战区【透视】',\n",
    " '国家名称（透视）',\n",
    "'产品系列-思维（透视）','产品线领域（透视）'\n",
    "     '销售部门名称',\n",
    " '销售组名称', '销售类型','凭证抬头文本',\n",
    " '客户代码',\n",
    " '产品类型',\n",
    " '业务范围', '姓名',\n",
    " '雇员部门(VA03)',\n",
    " '行业类型',  '国家名称',\n",
    " '城市',\n",
    " '项目名称',\n",
    " '产品线(MM03)',\n",
    " '产品型号',\n",
    " '系列',\n",
    " '产品类型(VA03)',  '产品类型(VA03)',\n",
    " '产品系列(MM03)',\n",
    " '户内户外（MM03)','低毛利原因(后面）',\n",
    " '低毛利原因描述',  '报价系数',  '省份/国家', '产品线底稿', '低毛利原因'          ]]"
   ]
  },
  {
   "cell_type": "code",
   "execution_count": 228,
   "id": "4c510b36",
   "metadata": {},
   "outputs": [],
   "source": [
    "外销简化版 = 外销简化版.set_index('毛利表')"
   ]
  },
  {
   "cell_type": "code",
   "execution_count": 230,
   "id": "39bde08d",
   "metadata": {},
   "outputs": [],
   "source": [
    "外销简化版.to_excel('外销处理简化.xlsx')"
   ]
  },
  {
   "cell_type": "code",
   "execution_count": null,
   "id": "82b17375",
   "metadata": {},
   "outputs": [],
   "source": []
  },
  {
   "cell_type": "code",
   "execution_count": null,
   "id": "4fa62c9b",
   "metadata": {},
   "outputs": [],
   "source": []
  },
  {
   "cell_type": "code",
   "execution_count": null,
   "id": "93014187",
   "metadata": {},
   "outputs": [],
   "source": []
  },
  {
   "cell_type": "code",
   "execution_count": null,
   "id": "8bfd5a48",
   "metadata": {},
   "outputs": [],
   "source": []
  },
  {
   "cell_type": "code",
   "execution_count": null,
   "id": "8850b99f",
   "metadata": {},
   "outputs": [],
   "source": []
  },
  {
   "cell_type": "code",
   "execution_count": null,
   "id": "2619b464",
   "metadata": {},
   "outputs": [],
   "source": []
  },
  {
   "cell_type": "code",
   "execution_count": null,
   "id": "2a67677d",
   "metadata": {},
   "outputs": [],
   "source": []
  },
  {
   "cell_type": "code",
   "execution_count": null,
   "id": "c9502390",
   "metadata": {},
   "outputs": [],
   "source": []
  },
  {
   "cell_type": "code",
   "execution_count": null,
   "id": "b7fb4fa5",
   "metadata": {},
   "outputs": [],
   "source": []
  },
  {
   "cell_type": "code",
   "execution_count": null,
   "id": "7978f36b",
   "metadata": {},
   "outputs": [],
   "source": []
  },
  {
   "cell_type": "code",
   "execution_count": null,
   "id": "e27b01b2",
   "metadata": {},
   "outputs": [],
   "source": []
  },
  {
   "cell_type": "code",
   "execution_count": null,
   "id": "dcd0c617",
   "metadata": {},
   "outputs": [],
   "source": []
  },
  {
   "cell_type": "code",
   "execution_count": null,
   "id": "dd88d1dc",
   "metadata": {},
   "outputs": [],
   "source": []
  },
  {
   "cell_type": "code",
   "execution_count": null,
   "id": "c2ec1c49",
   "metadata": {},
   "outputs": [],
   "source": []
  },
  {
   "cell_type": "code",
   "execution_count": null,
   "id": "735255ff",
   "metadata": {},
   "outputs": [],
   "source": []
  },
  {
   "cell_type": "code",
   "execution_count": null,
   "id": "fd4dd6d1",
   "metadata": {},
   "outputs": [],
   "source": []
  },
  {
   "cell_type": "code",
   "execution_count": null,
   "id": "6758a65d",
   "metadata": {},
   "outputs": [],
   "source": []
  },
  {
   "cell_type": "code",
   "execution_count": null,
   "id": "9a2bf9c7",
   "metadata": {},
   "outputs": [],
   "source": []
  },
  {
   "cell_type": "code",
   "execution_count": null,
   "id": "985fa3f6",
   "metadata": {},
   "outputs": [],
   "source": []
  },
  {
   "cell_type": "code",
   "execution_count": 20,
   "id": "646b9134",
   "metadata": {},
   "outputs": [],
   "source": [
    "外销简化版 = pd.read_excel(r\"C:\\Users\\U0014748\\Desktop\\FIBP\\流程优化\\毛利表\\外销处理简化版新版.xlsx\")"
   ]
  },
  {
   "cell_type": "code",
   "execution_count": 22,
   "id": "0752add5",
   "metadata": {},
   "outputs": [],
   "source": [
    "外销简化版.to_excel('外销处理简化.xlsx') = pd.merge(外销简化版,产品线领域对应关系, left_on = '产品系列-思维（透视）', right_on = '产品系列-思维（透视）', how = 'left')"
   ]
  },
  {
   "cell_type": "code",
   "execution_count": 53,
   "id": "8e99ab1c",
   "metadata": {},
   "outputs": [],
   "source": [
    "外销简化版.loc[(外销简化版['毛利表'] == '照明') & (外销简化版['销售类型'] == '外销'), '行业类型（透视）'] = '国际照明'\n",
    "\n",
    "外销简化版.loc[(外销简化版['毛利表'].isin(['主毛利表', '渠道毛利表', '蓝普国际']) & \n",
    "                (外销简化版['销售类型']=='外销') & \n",
    "                (外销简化版['行业类型'] == '租赁')), '行业类型（透视）'] = '洲明租赁'\n",
    "\n",
    "外销简化版.loc[(外销简化版['毛利表'].isin(['主毛利表', '渠道毛利表', '蓝普国际']) & \n",
    "                (外销简化版['销售类型'] == '外销') & \n",
    "                (外销简化版['行业类型'] == '蓝普分销')), '行业类型（透视）'] = '蓝普分销'\n",
    "\n",
    "外销简化版.loc[(外销简化版['毛利表'].isin(['主毛利表', '渠道毛利表', '蓝普国际']) & \n",
    "                (外销简化版['销售类型'] == '外销') & \n",
    "                (外销简化版['行业类型'] == '蓝普')), '行业类型（透视）'] = '蓝普'\n",
    "\n",
    "外销简化版.loc[(外销简化版['毛利表'] == '海外子公司（含蓝普）') & \n",
    "                (外销简化版['销售类型'] == '外销'), '行业类型（透视）'] = '蓝普'\n",
    "\n",
    "外销简化版.loc[(外销简化版['毛利表'] == '海外子公司（不含蓝普）') & \n",
    "                (外销简化版['销售类型'] == '外销'), '行业类型（透视）'] = '待填'\n",
    "\n",
    "\n",
    "外销简化版['行业类型（透视）'] = 外销简化版['行业类型（透视）'].fillna('其他')\n",
    "\n",
    "#外销简化版.loc[(外销简化版['毛利表'] == '海外子公司（不含蓝普）') & \n",
    "#                (外销简化版['销售类型'] == '外销'), '行业类型（透视）'] = 'none'"
   ]
  },
  {
   "cell_type": "code",
   "execution_count": 54,
   "id": "505a12cf",
   "metadata": {},
   "outputs": [
    {
     "data": {
      "text/plain": [
       "行业类型（透视）\n",
       "蓝普      494\n",
       "其他      478\n",
       "蓝普分销    418\n",
       "国际照明     99\n",
       "洲明租赁     90\n",
       "Name: count, dtype: int64"
      ]
     },
     "execution_count": 54,
     "metadata": {},
     "output_type": "execute_result"
    }
   ],
   "source": [
    "外销简化版['行业类型（透视）'].value_counts()"
   ]
  },
  {
   "cell_type": "code",
   "execution_count": 47,
   "id": "5c5d34ca",
   "metadata": {},
   "outputs": [],
   "source": [
    "外销简化版.to_excel('新版外销处理简化.xlsx')"
   ]
  },
  {
   "cell_type": "code",
   "execution_count": 30,
   "id": "41f72d55",
   "metadata": {},
   "outputs": [
    {
     "data": {
      "text/plain": [
       "毛利表\n",
       "主毛利表           479\n",
       "蓝普国际           474\n",
       "渠道毛利表          399\n",
       "海外子公司(不含蓝普）    117\n",
       "照明              99\n",
       "海外子公司（含蓝普）      11\n",
       "Name: count, dtype: int64"
      ]
     },
     "execution_count": 30,
     "metadata": {},
     "output_type": "execute_result"
    }
   ],
   "source": [
    "外销简化版['毛利表'].value_counts()"
   ]
  },
  {
   "cell_type": "code",
   "execution_count": null,
   "id": "ec96cc81",
   "metadata": {},
   "outputs": [],
   "source": []
  },
  {
   "cell_type": "code",
   "execution_count": null,
   "id": "5a1dc470",
   "metadata": {},
   "outputs": [],
   "source": []
  },
  {
   "cell_type": "code",
   "execution_count": null,
   "id": "a0850d3d",
   "metadata": {},
   "outputs": [],
   "source": []
  },
  {
   "cell_type": "code",
   "execution_count": null,
   "id": "3eb0d6ef",
   "metadata": {},
   "outputs": [],
   "source": []
  },
  {
   "cell_type": "code",
   "execution_count": null,
   "id": "eba000ea",
   "metadata": {},
   "outputs": [],
   "source": []
  },
  {
   "cell_type": "code",
   "execution_count": null,
   "id": "ab13f667",
   "metadata": {},
   "outputs": [],
   "source": []
  },
  {
   "cell_type": "code",
   "execution_count": null,
   "id": "19956f11",
   "metadata": {},
   "outputs": [],
   "source": []
  },
  {
   "cell_type": "code",
   "execution_count": null,
   "id": "395d6fa6",
   "metadata": {},
   "outputs": [],
   "source": []
  },
  {
   "cell_type": "code",
   "execution_count": null,
   "id": "45a5d35f",
   "metadata": {},
   "outputs": [],
   "source": []
  },
  {
   "cell_type": "code",
   "execution_count": null,
   "id": "775885e9",
   "metadata": {},
   "outputs": [],
   "source": []
  },
  {
   "cell_type": "code",
   "execution_count": null,
   "id": "7a5cb1cc",
   "metadata": {},
   "outputs": [],
   "source": []
  },
  {
   "cell_type": "markdown",
   "id": "4c7e3dcc",
   "metadata": {},
   "source": [
    "# 文创"
   ]
  },
  {
   "cell_type": "code",
   "execution_count": null,
   "id": "6bb6e7ef",
   "metadata": {},
   "outputs": [],
   "source": [
    "文创 = pd.read_excel(r\"C:\\Users\\U0014748\\Desktop\\2024年数据\\2月\\毛利\\文创&处理\\2月多产品线毛利分析表-文创.xlsx\")\n",
    "文创 = 文创[文创['公司主体'].notna()]\n",
    "文创['毛利表'] = '文创'\n",
    "签单匹配1 = pd.read_excel(r\"C:\\Users\\U0014748\\Desktop\\2024年数据\\2月\\毛利\\文创&处理\\2023年文创签单&出货明细（截至12.30）.xlsx\", sheet_name = '2023年订单明细')\n",
    "签单匹配2 = pd.read_excel(r\"C:\\Users\\U0014748\\Desktop\\2024年数据\\2月\\毛利\\文创&处理\\2024年文创接单&出货明细（截至2.29）(1).xlsx\", sheet_name = '2024年订单明细')"
   ]
  },
  {
   "cell_type": "code",
   "execution_count": null,
   "id": "36aee980",
   "metadata": {},
   "outputs": [],
   "source": [
    "文创签单匹配 = pd.concat([签单匹配1,签单匹配2])\n",
    "文创 = 文创[~文创['客户名称'].str.contains('深圳市洲明科技股份有限公司|广东洲明节能科技有限公司')]\n",
    "文创签单匹配 = 文创签单匹配[['订单号', '项目地\\n（业绩归属省份）']]\n",
    "文创 = pd.merge(文创, 文创签单匹配, left_on='合同号', right_on='订单号', how='left')\n",
    "文创['项目地\\n（业绩归属省份）'] = 文创['项目地\\n（业绩归属省份）'].fillna(文创['省份/国家'])\n",
    "文创['项目地（业绩归属省份）'] = 文创['项目地\\n（业绩归属省份）']\n",
    "文创 = 文创.drop('项目地\\n（业绩归属省份）', axis = 1)"
   ]
  },
  {
   "cell_type": "code",
   "execution_count": null,
   "id": "9f102136",
   "metadata": {},
   "outputs": [],
   "source": [
    "文创 = 文创.rename(columns = {'公司主体':'公司',\n",
    "                          '销售类型(内销/外销）': '销售类型',\n",
    "                           '销售收入':'最终收入',\n",
    "                          '销售成本':'最终实际成本',\n",
    "                         '毛利':'最终实际毛利',\n",
    "                         '毛利率': '最终实际毛利率'})"
   ]
  },
  {
   "cell_type": "markdown",
   "id": "17e905fe",
   "metadata": {},
   "source": [
    "文创.to_excel('文创.xlsx')"
   ]
  },
  {
   "cell_type": "markdown",
   "id": "8f5b8149",
   "metadata": {},
   "source": [
    "# 国内-照明"
   ]
  },
  {
   "cell_type": "code",
   "execution_count": null,
   "id": "7c934685",
   "metadata": {},
   "outputs": [],
   "source": [
    "照明内销1 = pd.read_excel(r\"C:\\Users\\U0014748\\Desktop\\2024年数据\\2月\\毛利\\照明\\2月多产品线毛利分析表-照明.xlsx\", sheet_name = '深圳洲明(管理口径)-1020照明内贸+EMC')\n",
    "照明内销2 = pd.read_excel(r\"C:\\Users\\U0014748\\Desktop\\2024年数据\\2月\\毛利\\照明\\2月多产品线毛利分析表-照明.xlsx\", sheet_name = '广东洲明2010')"
   ]
  },
  {
   "cell_type": "code",
   "execution_count": null,
   "id": "a6772f9c",
   "metadata": {},
   "outputs": [],
   "source": [
    "照明内销1 = 照明内销1.rename(columns = {\n",
    "                       '销售收入' : '总收入',\n",
    "                       '销售成本':'最终实际成本',\n",
    "                       '毛利': '最终实际毛利',\n",
    "                       '毛利率':'最终实际毛利率'\n",
    "                       })"
   ]
  },
  {
   "cell_type": "code",
   "execution_count": null,
   "id": "fbc96f4a",
   "metadata": {},
   "outputs": [],
   "source": [
    "照明内销 = pd.concat([照明内销1,照明内销2] ,ignore_index=True, sort=False)"
   ]
  },
  {
   "cell_type": "code",
   "execution_count": null,
   "id": "04515e4d",
   "metadata": {},
   "outputs": [],
   "source": [
    "照明内销 = 照明内销[照明内销['销售类型(内销/外销）']== '内销']\n",
    "照明内销 = 照明内销[~照明内销['客户名称'].str.contains('深圳市洲明科技股份有限公司|广东洲明节能科技有限公司|成都洲明科技有限公司|海南洲明科技有限公司|[a-zA-Z]').fillna(False)]\n",
    "照明内销 = 照明内销[照明内销['产品线'] != 'EMC']\n",
    "照明内销['毛利表'] = '照明'"
   ]
  },
  {
   "cell_type": "code",
   "execution_count": null,
   "id": "7c0431d3",
   "metadata": {},
   "outputs": [],
   "source": [
    "照明签单1 = pd.read_excel(r\"C:\\Users\\U0014748\\Desktop\\2024年数据\\2月\\毛利\\照明\\2024年1月~2月签单&出货照明(1).xlsx\",sheet_name = '签单')\n",
    "照明签单2 = pd.read_excel(r\"C:\\Users\\U0014748\\Desktop\\2024年数据\\2月\\毛利\\照明\\2023年签单&出货照明.xlsx\",sheet_name = '签单')\n",
    "照明签单1 = 照明签单1[['合同号','项目地']]\n",
    "照明签单2 =照明签单2[['合同号','项目地']]"
   ]
  },
  {
   "cell_type": "code",
   "execution_count": null,
   "id": "232fdb82",
   "metadata": {},
   "outputs": [],
   "source": [
    "照明签单 = pd.concat([照明签单1,照明签单2])"
   ]
  },
  {
   "cell_type": "code",
   "execution_count": null,
   "id": "bc6e33c8",
   "metadata": {},
   "outputs": [],
   "source": [
    "照明签单 = 照明签单.drop_duplicates(subset=['合同号'])"
   ]
  },
  {
   "cell_type": "code",
   "execution_count": null,
   "id": "ace98270",
   "metadata": {},
   "outputs": [],
   "source": [
    "照明内销归属地 =  pd.merge(照明内销, 照明签单, left_on='合同号', right_on='合同号', how='left')"
   ]
  },
  {
   "cell_type": "code",
   "execution_count": null,
   "id": "ca44d29b",
   "metadata": {},
   "outputs": [],
   "source": [
    "照明内销归属地.columns"
   ]
  },
  {
   "cell_type": "code",
   "execution_count": null,
   "id": "3c22bd5e",
   "metadata": {},
   "outputs": [],
   "source": [
    "照明内销归属地 = 照明内销归属地.rename(columns = {'公司主体':'公司',\n",
    "                          '销售类型(内销/外销）': '销售类型',\n",
    "                           '总收入':'最终收入',\n",
    "                          '项目地':'项目地（业绩归属省份）'\n",
    "})"
   ]
  },
  {
   "cell_type": "markdown",
   "id": "25ff3e71",
   "metadata": {},
   "source": [
    "照明内销归属地.to_excel('照明内销归属地.xlsx')"
   ]
  },
  {
   "cell_type": "markdown",
   "id": "3dccf72f",
   "metadata": {},
   "source": [
    "# 国内子公司"
   ]
  },
  {
   "cell_type": "code",
   "execution_count": null,
   "id": "be607ce8",
   "metadata": {},
   "outputs": [],
   "source": [
    "国内子公司 = pd.read_excel(r\"C:\\Users\\U0014748\\Desktop\\2024年数据\\2月\\国内子公司\\子公司毛利表（202402）.xlsx\", sheet_name = '子公司毛利表-不含蓝普')"
   ]
  },
  {
   "cell_type": "code",
   "execution_count": null,
   "id": "573e7849",
   "metadata": {},
   "outputs": [],
   "source": [
    "国内子公司 = 国内子公司[国内子公司['分类'].str.contains('海南洲明|成都洲明')]\n",
    "国内子公司 = 国内子公司[国内子公司['关联交易'] == '非关联交易']\n",
    "国内子公司['毛利表'] = '国内子公司'"
   ]
  },
  {
   "cell_type": "code",
   "execution_count": null,
   "id": "695e9217",
   "metadata": {},
   "outputs": [],
   "source": [
    "国内子公司.columns"
   ]
  },
  {
   "cell_type": "code",
   "execution_count": null,
   "id": "98a1aeba",
   "metadata": {},
   "outputs": [],
   "source": [
    "国内子公司.loc[国内子公司['分类'] == '成都洲明', '销售部门名称'] = '洲明-国内-西南'\n",
    "国内子公司.loc[(国内子公司['分类'] == '海南洲明-照明') | (国内子公司['分类'] == '海南洲明-本部'), '销售部门名称'] = '洲明-国内-华南'\n",
    "国内子公司.loc[国内子公司['分类'] == '成都洲明', '销售组名称'] = '洲明-国内-西南-四川'\n",
    "国内子公司.loc[(国内子公司['分类'] == '海南洲明-照明') | (国内子公司['分类'] == '海南洲明-本部'), '销售组名称'] = '洲明-国内-华南-海南'\n"
   ]
  },
  {
   "cell_type": "code",
   "execution_count": null,
   "id": "d11f1925",
   "metadata": {},
   "outputs": [],
   "source": [
    "国内子公司 = 国内子公司.rename(columns = {'分类':'公司',\n",
    "                                '销售期间':'期间',\n",
    "                                '客户公司名称':'客户名称',\n",
    "                                '深圳洲明订单号':'销售订单',\n",
    "                                '深圳洲明销售合同号（母子合同号）':'销售合同号',\n",
    "                                '收入（人民币）':'最终收入',\n",
    "                                '实际销售成本':'最终实际成本',\n",
    "                                '实际毛利':'最终实际毛利',\n",
    "                                '实际毛利率':'最终实际毛利率',\n",
    "                                '销售类型':'收入类型'\n",
    "                               })\n",
    "国内子公司['销售类型'] = '内销'"
   ]
  },
  {
   "cell_type": "code",
   "execution_count": null,
   "id": "902eea24",
   "metadata": {},
   "outputs": [],
   "source": [
    "国内子公司['销售部门名称（透视）'] = 国内子公司['销售部门名称']\n",
    "国内子公司['销售组名称（透视）'] = 国内子公司['销售组名称']"
   ]
  },
  {
   "cell_type": "markdown",
   "id": "14591e44",
   "metadata": {},
   "source": [
    "# 合并&处理"
   ]
  },
  {
   "cell_type": "code",
   "execution_count": null,
   "id": "efe021cd",
   "metadata": {},
   "outputs": [],
   "source": [
    "df_merged = pd.concat([df3, df4, no_blue_merge, incluede_blue_merge, blue_merge, oversee_light,文创,照明内销归属地, 毛利外销加字段, 国内子公司,渠道外销], ignore_index=True, sort=False)"
   ]
  },
  {
   "cell_type": "code",
   "execution_count": null,
   "id": "03871a43",
   "metadata": {},
   "outputs": [],
   "source": [
    "df_merged['国家名称（透视）'] = df_merged['国家名称（透视）'].fillna(df_merged['国家名称'])"
   ]
  },
  {
   "cell_type": "code",
   "execution_count": null,
   "id": "1b06d11c",
   "metadata": {},
   "outputs": [],
   "source": [
    "df_merged.loc[df_merged['销售类型'] == '内销', '国家名称（透视）'] = df_merged.loc[df_merged['销售类型'] == '内销', '国家名称（透视）'].fillna('中国')"
   ]
  },
  {
   "cell_type": "code",
   "execution_count": null,
   "id": "509d4f16",
   "metadata": {},
   "outputs": [],
   "source": [
    "df_merged = df_merged.set_index('毛利表')"
   ]
  },
  {
   "cell_type": "code",
   "execution_count": null,
   "id": "e216f6f4",
   "metadata": {},
   "outputs": [],
   "source": [
    "df_merged.to_excel('9表.xlsx')"
   ]
  },
  {
   "cell_type": "markdown",
   "id": "acb91603",
   "metadata": {},
   "source": [
    "# my  random"
   ]
  },
  {
   "cell_type": "markdown",
   "id": "c3ca718b",
   "metadata": {},
   "source": [
    "new = df_merged[(df_merged['最终收入'] != 0) | (df_merged['最终实际成本'] != 0)]"
   ]
  },
  {
   "cell_type": "markdown",
   "id": "ebb70c3a",
   "metadata": {},
   "source": [
    "new['最终实际毛利率'].mean()"
   ]
  },
  {
   "cell_type": "markdown",
   "id": "41e20c65",
   "metadata": {},
   "source": [
    "df4.to_excel('abc.xlsx', sheet_name = '4')\n",
    "df_merged.to_excel('abc.xlsx', sheet_name = '1')"
   ]
  },
  {
   "cell_type": "markdown",
   "id": "eefc3a0e",
   "metadata": {},
   "source": [
    "# Define the column hierarchy\n",
    "columns = pd.MultiIndex.from_tuples([\n",
    "    ('yc','Personal Info', 'Name'),\n",
    "    ('yc','Personal Info', 'Age'),\n",
    "    ('yc','Location', 'City')\n",
    "])\n",
    "\n",
    "data = [\n",
    "    ('Alice', 25, 'New York'),\n",
    "    ('Bob', 30, 'Paris'),\n",
    "    ('Charlie', 35, 'London')\n",
    "]\n",
    "\n",
    "# Define the row hierarchy\n",
    "index = pd.MultiIndex.from_tuples([\n",
    "    ('Group 1', 'a'),\n",
    "    ('Group 1', 'b'),\n",
    "    ('Group 2', 'c')\n",
    "])\n",
    "\n",
    "# Create a DataFrame\n",
    "qwe = pd.DataFrame(data, index=index, columns=columns)\n",
    "\n",
    "# Display the DataFrame\n",
    "print(qwe)"
   ]
  },
  {
   "cell_type": "markdown",
   "id": "62677ae9",
   "metadata": {},
   "source": [
    "qwe.to_excel('yc.xlsx')"
   ]
  },
  {
   "cell_type": "code",
   "execution_count": 78,
   "id": "1bbf3b6d",
   "metadata": {},
   "outputs": [],
   "source": [
    "import pandas as pd"
   ]
  },
  {
   "cell_type": "code",
   "execution_count": 79,
   "id": "c5c4e95a",
   "metadata": {},
   "outputs": [],
   "source": [
    "表9 = pd.read_excel(r\"C:\\Users\\U0014748\\Desktop\\FIBP\\流程优化\\毛利表\\9表.xlsx\")"
   ]
  },
  {
   "cell_type": "code",
   "execution_count": 83,
   "id": "cb473dbb",
   "metadata": {},
   "outputs": [
    {
     "data": {
      "text/html": [
       "<div>\n",
       "<style scoped>\n",
       "    .dataframe tbody tr th:only-of-type {\n",
       "        vertical-align: middle;\n",
       "    }\n",
       "\n",
       "    .dataframe tbody tr th {\n",
       "        vertical-align: top;\n",
       "    }\n",
       "\n",
       "    .dataframe thead th {\n",
       "        text-align: right;\n",
       "    }\n",
       "</style>\n",
       "<table border=\"1\" class=\"dataframe\">\n",
       "  <thead>\n",
       "    <tr style=\"text-align: right;\">\n",
       "      <th></th>\n",
       "      <th></th>\n",
       "      <th></th>\n",
       "      <th></th>\n",
       "      <th>最终收入</th>\n",
       "    </tr>\n",
       "    <tr>\n",
       "      <th>毛利表</th>\n",
       "      <th>会计年度</th>\n",
       "      <th>销售类型</th>\n",
       "      <th>期间</th>\n",
       "      <th></th>\n",
       "    </tr>\n",
       "  </thead>\n",
       "  <tbody>\n",
       "    <tr>\n",
       "      <th rowspan=\"3\" valign=\"top\">主毛利表</th>\n",
       "      <th rowspan=\"3\" valign=\"top\">2024</th>\n",
       "      <th rowspan=\"2\" valign=\"top\">内销</th>\n",
       "      <th>1</th>\n",
       "      <td>1.005566e+08</td>\n",
       "    </tr>\n",
       "    <tr>\n",
       "      <th>2</th>\n",
       "      <td>3.638522e+07</td>\n",
       "    </tr>\n",
       "    <tr>\n",
       "      <th>外销</th>\n",
       "      <th>1</th>\n",
       "      <td>1.490717e+08</td>\n",
       "    </tr>\n",
       "    <tr>\n",
       "      <th>国内子公司</th>\n",
       "      <th>2024</th>\n",
       "      <th>内销</th>\n",
       "      <th>2</th>\n",
       "      <td>3.862553e+04</td>\n",
       "    </tr>\n",
       "    <tr>\n",
       "      <th rowspan=\"2\" valign=\"top\">文创</th>\n",
       "      <th rowspan=\"2\" valign=\"top\">2024</th>\n",
       "      <th rowspan=\"2\" valign=\"top\">内销</th>\n",
       "      <th>1</th>\n",
       "      <td>1.236224e+06</td>\n",
       "    </tr>\n",
       "    <tr>\n",
       "      <th>2</th>\n",
       "      <td>2.203540e+06</td>\n",
       "    </tr>\n",
       "    <tr>\n",
       "      <th>海外子公司(不含蓝普）</th>\n",
       "      <th>2024</th>\n",
       "      <th>外销</th>\n",
       "      <th>1</th>\n",
       "      <td>1.590681e+07</td>\n",
       "    </tr>\n",
       "    <tr>\n",
       "      <th>海外子公司（含蓝普）</th>\n",
       "      <th>2024</th>\n",
       "      <th>外销</th>\n",
       "      <th>1</th>\n",
       "      <td>2.435601e+05</td>\n",
       "    </tr>\n",
       "    <tr>\n",
       "      <th rowspan=\"6\" valign=\"top\">渠道毛利表</th>\n",
       "      <th rowspan=\"6\" valign=\"top\">2024</th>\n",
       "      <th rowspan=\"2\" valign=\"top\">其他</th>\n",
       "      <th>1</th>\n",
       "      <td>2.282590e+07</td>\n",
       "    </tr>\n",
       "    <tr>\n",
       "      <th>2</th>\n",
       "      <td>4.330208e+07</td>\n",
       "    </tr>\n",
       "    <tr>\n",
       "      <th rowspan=\"2\" valign=\"top\">内销</th>\n",
       "      <th>1</th>\n",
       "      <td>4.266591e+07</td>\n",
       "    </tr>\n",
       "    <tr>\n",
       "      <th>2</th>\n",
       "      <td>1.155102e+07</td>\n",
       "    </tr>\n",
       "    <tr>\n",
       "      <th rowspan=\"2\" valign=\"top\">外销</th>\n",
       "      <th>1</th>\n",
       "      <td>2.646547e+07</td>\n",
       "    </tr>\n",
       "    <tr>\n",
       "      <th>2</th>\n",
       "      <td>1.339483e+07</td>\n",
       "    </tr>\n",
       "    <tr>\n",
       "      <th rowspan=\"3\" valign=\"top\">照明</th>\n",
       "      <th rowspan=\"3\" valign=\"top\">2024</th>\n",
       "      <th rowspan=\"2\" valign=\"top\">内销</th>\n",
       "      <th>1</th>\n",
       "      <td>1.488173e+07</td>\n",
       "    </tr>\n",
       "    <tr>\n",
       "      <th>2</th>\n",
       "      <td>2.555487e+06</td>\n",
       "    </tr>\n",
       "    <tr>\n",
       "      <th>外销</th>\n",
       "      <th>1</th>\n",
       "      <td>7.240606e+06</td>\n",
       "    </tr>\n",
       "    <tr>\n",
       "      <th>蓝普国际</th>\n",
       "      <th>2024</th>\n",
       "      <th>外销</th>\n",
       "      <th>1</th>\n",
       "      <td>2.887320e+07</td>\n",
       "    </tr>\n",
       "  </tbody>\n",
       "</table>\n",
       "</div>"
      ],
      "text/plain": [
       "                                  最终收入\n",
       "毛利表         会计年度 销售类型 期间              \n",
       "主毛利表        2024 内销   1   1.005566e+08\n",
       "                      2   3.638522e+07\n",
       "                 外销   1   1.490717e+08\n",
       "国内子公司       2024 内销   2   3.862553e+04\n",
       "文创          2024 内销   1   1.236224e+06\n",
       "                      2   2.203540e+06\n",
       "海外子公司(不含蓝普） 2024 外销   1   1.590681e+07\n",
       "海外子公司（含蓝普）  2024 外销   1   2.435601e+05\n",
       "渠道毛利表       2024 其他   1   2.282590e+07\n",
       "                      2   4.330208e+07\n",
       "                 内销   1   4.266591e+07\n",
       "                      2   1.155102e+07\n",
       "                 外销   1   2.646547e+07\n",
       "                      2   1.339483e+07\n",
       "照明          2024 内销   1   1.488173e+07\n",
       "                      2   2.555487e+06\n",
       "                 外销   1   7.240606e+06\n",
       "蓝普国际        2024 外销   1   2.887320e+07"
      ]
     },
     "execution_count": 83,
     "metadata": {},
     "output_type": "execute_result"
    }
   ],
   "source": [
    "pd.DataFrame(表9.groupby(['毛利表','会计年度','销售类型','期间'])['最终收入'].sum())\n",
    "#表9.groupby(['毛利表', '会计年度', '期间'])['最终收入'].sum()"
   ]
  },
  {
   "cell_type": "code",
   "execution_count": null,
   "id": "c90c04a5",
   "metadata": {},
   "outputs": [],
   "source": [
    "#还差主毛利外销2月份，国内子公司1月份，海外子公司（不含蓝普）2月，海外子公司（含蓝普）2月，照明外销2月，蓝普国际2月"
   ]
  },
  {
   "cell_type": "code",
   "execution_count": null,
   "id": "f1cc9bd0",
   "metadata": {},
   "outputs": [],
   "source": []
  },
  {
   "cell_type": "code",
   "execution_count": 124,
   "id": "538aa2d0",
   "metadata": {},
   "outputs": [],
   "source": [
    "海外照明02 = pd.read_excel(r\"C:\\Users\\U0014748\\Desktop\\2024年数据\\2月\\用程序跑出来的\\海外照明202402.xlsx\")\n",
    "海外子公司不含蓝普 = pd.read_excel(r\"C:\\Users\\U0014748\\Desktop\\2024年数据\\2月\\用程序跑出来的\\海外子公司(不含蓝普)_202402.xlsx\")\n",
    "海外子公司蓝普 = pd.read_excel(r\"C:\\Users\\U0014748\\Desktop\\2024年数据\\2月\\用程序跑出来的\\海外子公司(蓝普)_202402.xlsx\")\n",
    "蓝普国际 =  pd.read_excel(r'C:\\Users\\U0014748\\Desktop\\2024年数据\\2月\\用程序跑出来的\\蓝普国际202402.xlsx')\n",
    "外销主毛02 = pd.read_excel(r\"C:\\Users\\U0014748\\Desktop\\2024年数据\\2月\\用程序跑出来的\\外销毛利表（202402）.xlsx\")"
   ]
  },
  {
   "cell_type": "code",
   "execution_count": 126,
   "id": "85a81c7b",
   "metadata": {},
   "outputs": [],
   "source": [
    "合并表 = pd.concat([表9,海外照明02,海外子公司不含蓝普,海外子公司蓝普,蓝普国际,外销主毛02])"
   ]
  },
  {
   "cell_type": "code",
   "execution_count": 128,
   "id": "1cb90dff",
   "metadata": {},
   "outputs": [
    {
     "data": {
      "text/html": [
       "<div>\n",
       "<style scoped>\n",
       "    .dataframe tbody tr th:only-of-type {\n",
       "        vertical-align: middle;\n",
       "    }\n",
       "\n",
       "    .dataframe tbody tr th {\n",
       "        vertical-align: top;\n",
       "    }\n",
       "\n",
       "    .dataframe thead th {\n",
       "        text-align: right;\n",
       "    }\n",
       "</style>\n",
       "<table border=\"1\" class=\"dataframe\">\n",
       "  <thead>\n",
       "    <tr style=\"text-align: right;\">\n",
       "      <th></th>\n",
       "      <th></th>\n",
       "      <th></th>\n",
       "      <th></th>\n",
       "      <th>最终收入</th>\n",
       "    </tr>\n",
       "    <tr>\n",
       "      <th>毛利表</th>\n",
       "      <th>会计年度</th>\n",
       "      <th>销售类型</th>\n",
       "      <th>期间</th>\n",
       "      <th></th>\n",
       "    </tr>\n",
       "  </thead>\n",
       "  <tbody>\n",
       "    <tr>\n",
       "      <th rowspan=\"4\" valign=\"top\">主毛利表</th>\n",
       "      <th rowspan=\"4\" valign=\"top\">2024</th>\n",
       "      <th rowspan=\"2\" valign=\"top\">内销</th>\n",
       "      <th>1</th>\n",
       "      <td>1.005566e+08</td>\n",
       "    </tr>\n",
       "    <tr>\n",
       "      <th>2</th>\n",
       "      <td>3.638522e+07</td>\n",
       "    </tr>\n",
       "    <tr>\n",
       "      <th rowspan=\"2\" valign=\"top\">外销</th>\n",
       "      <th>1</th>\n",
       "      <td>1.490717e+08</td>\n",
       "    </tr>\n",
       "    <tr>\n",
       "      <th>2</th>\n",
       "      <td>1.070692e+08</td>\n",
       "    </tr>\n",
       "    <tr>\n",
       "      <th>国内子公司</th>\n",
       "      <th>2024</th>\n",
       "      <th>内销</th>\n",
       "      <th>2</th>\n",
       "      <td>3.862553e+04</td>\n",
       "    </tr>\n",
       "    <tr>\n",
       "      <th rowspan=\"2\" valign=\"top\">文创</th>\n",
       "      <th rowspan=\"2\" valign=\"top\">2024</th>\n",
       "      <th rowspan=\"2\" valign=\"top\">内销</th>\n",
       "      <th>1</th>\n",
       "      <td>1.236224e+06</td>\n",
       "    </tr>\n",
       "    <tr>\n",
       "      <th>2</th>\n",
       "      <td>2.203540e+06</td>\n",
       "    </tr>\n",
       "    <tr>\n",
       "      <th rowspan=\"2\" valign=\"top\">海外子公司(不含蓝普）</th>\n",
       "      <th rowspan=\"2\" valign=\"top\">2024</th>\n",
       "      <th rowspan=\"2\" valign=\"top\">外销</th>\n",
       "      <th>1</th>\n",
       "      <td>1.590681e+07</td>\n",
       "    </tr>\n",
       "    <tr>\n",
       "      <th>2</th>\n",
       "      <td>3.269642e+07</td>\n",
       "    </tr>\n",
       "    <tr>\n",
       "      <th rowspan=\"2\" valign=\"top\">海外子公司（含蓝普）</th>\n",
       "      <th rowspan=\"2\" valign=\"top\">2024</th>\n",
       "      <th rowspan=\"2\" valign=\"top\">外销</th>\n",
       "      <th>1</th>\n",
       "      <td>2.435601e+05</td>\n",
       "    </tr>\n",
       "    <tr>\n",
       "      <th>2</th>\n",
       "      <td>2.321559e+06</td>\n",
       "    </tr>\n",
       "    <tr>\n",
       "      <th rowspan=\"6\" valign=\"top\">渠道毛利表</th>\n",
       "      <th rowspan=\"6\" valign=\"top\">2024</th>\n",
       "      <th rowspan=\"2\" valign=\"top\">其他</th>\n",
       "      <th>1</th>\n",
       "      <td>2.282590e+07</td>\n",
       "    </tr>\n",
       "    <tr>\n",
       "      <th>2</th>\n",
       "      <td>4.330208e+07</td>\n",
       "    </tr>\n",
       "    <tr>\n",
       "      <th rowspan=\"2\" valign=\"top\">内销</th>\n",
       "      <th>1</th>\n",
       "      <td>4.266591e+07</td>\n",
       "    </tr>\n",
       "    <tr>\n",
       "      <th>2</th>\n",
       "      <td>1.155102e+07</td>\n",
       "    </tr>\n",
       "    <tr>\n",
       "      <th rowspan=\"2\" valign=\"top\">外销</th>\n",
       "      <th>1</th>\n",
       "      <td>2.646547e+07</td>\n",
       "    </tr>\n",
       "    <tr>\n",
       "      <th>2</th>\n",
       "      <td>1.339483e+07</td>\n",
       "    </tr>\n",
       "    <tr>\n",
       "      <th rowspan=\"4\" valign=\"top\">照明</th>\n",
       "      <th rowspan=\"4\" valign=\"top\">2024</th>\n",
       "      <th rowspan=\"2\" valign=\"top\">内销</th>\n",
       "      <th>1</th>\n",
       "      <td>1.488173e+07</td>\n",
       "    </tr>\n",
       "    <tr>\n",
       "      <th>2</th>\n",
       "      <td>2.555487e+06</td>\n",
       "    </tr>\n",
       "    <tr>\n",
       "      <th rowspan=\"2\" valign=\"top\">外销</th>\n",
       "      <th>1</th>\n",
       "      <td>7.240606e+06</td>\n",
       "    </tr>\n",
       "    <tr>\n",
       "      <th>2</th>\n",
       "      <td>9.694138e+06</td>\n",
       "    </tr>\n",
       "    <tr>\n",
       "      <th rowspan=\"2\" valign=\"top\">蓝普国际</th>\n",
       "      <th rowspan=\"2\" valign=\"top\">2024</th>\n",
       "      <th rowspan=\"2\" valign=\"top\">外销</th>\n",
       "      <th>1</th>\n",
       "      <td>2.887320e+07</td>\n",
       "    </tr>\n",
       "    <tr>\n",
       "      <th>2</th>\n",
       "      <td>2.496550e+07</td>\n",
       "    </tr>\n",
       "  </tbody>\n",
       "</table>\n",
       "</div>"
      ],
      "text/plain": [
       "                                  最终收入\n",
       "毛利表         会计年度 销售类型 期间              \n",
       "主毛利表        2024 内销   1   1.005566e+08\n",
       "                      2   3.638522e+07\n",
       "                 外销   1   1.490717e+08\n",
       "                      2   1.070692e+08\n",
       "国内子公司       2024 内销   2   3.862553e+04\n",
       "文创          2024 内销   1   1.236224e+06\n",
       "                      2   2.203540e+06\n",
       "海外子公司(不含蓝普） 2024 外销   1   1.590681e+07\n",
       "                      2   3.269642e+07\n",
       "海外子公司（含蓝普）  2024 外销   1   2.435601e+05\n",
       "                      2   2.321559e+06\n",
       "渠道毛利表       2024 其他   1   2.282590e+07\n",
       "                      2   4.330208e+07\n",
       "                 内销   1   4.266591e+07\n",
       "                      2   1.155102e+07\n",
       "                 外销   1   2.646547e+07\n",
       "                      2   1.339483e+07\n",
       "照明          2024 内销   1   1.488173e+07\n",
       "                      2   2.555487e+06\n",
       "                 外销   1   7.240606e+06\n",
       "                      2   9.694138e+06\n",
       "蓝普国际        2024 外销   1   2.887320e+07\n",
       "                      2   2.496550e+07"
      ]
     },
     "execution_count": 128,
     "metadata": {},
     "output_type": "execute_result"
    }
   ],
   "source": [
    "pd.DataFrame(合并表.groupby(['毛利表','会计年度','销售类型','期间'])['最终收入'].sum())"
   ]
  },
  {
   "cell_type": "code",
   "execution_count": 129,
   "id": "bb51bb74",
   "metadata": {},
   "outputs": [],
   "source": [
    "合并表.to_excel('2024毛利合并至2月.xlsx')"
   ]
  },
  {
   "cell_type": "code",
   "execution_count": null,
   "id": "472711f5",
   "metadata": {},
   "outputs": [],
   "source": []
  }
 ],
 "metadata": {
  "kernelspec": {
   "display_name": "Python 3 (ipykernel)",
   "language": "python",
   "name": "python3"
  },
  "language_info": {
   "codemirror_mode": {
    "name": "ipython",
    "version": 3
   },
   "file_extension": ".py",
   "mimetype": "text/x-python",
   "name": "python",
   "nbconvert_exporter": "python",
   "pygments_lexer": "ipython3",
   "version": "3.11.5"
  }
 },
 "nbformat": 4,
 "nbformat_minor": 5
}
