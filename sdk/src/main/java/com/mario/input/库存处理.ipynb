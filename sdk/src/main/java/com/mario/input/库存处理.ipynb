{
 "cells": [
  {
   "cell_type": "code",
   "execution_count": 1,
   "id": "23cdaa59",
   "metadata": {},
   "outputs": [],
   "source": [
    "import pandas as pd "
   ]
  },
  {
   "cell_type": "markdown",
   "id": "5d67116a",
   "metadata": {},
   "source": [
    "# 库存"
   ]
  },
  {
   "cell_type": "code",
   "execution_count": 2,
   "id": "7c1f7ffc",
   "metadata": {},
   "outputs": [],
   "source": [
    "库存 = pd.read_excel(r\"C:\\Users\\U0014748\\Desktop\\2024年数据\\2月\\库存\\5.2 2024年2月发出商品库存账龄表资金占用.XLSX\", sheet_name = '明细')"
   ]
  },
  {
   "cell_type": "markdown",
   "id": "7f6c35f0",
   "metadata": {},
   "source": [
    "# 样品借用"
   ]
  },
  {
   "cell_type": "code",
   "execution_count": 3,
   "id": "d8d55336",
   "metadata": {},
   "outputs": [],
   "source": [
    "样品借用 = pd.read_excel(r\"C:\\Users\\U0014748\\Desktop\\2024年数据\\2月\\库存\\5.4 2024年2月客户借用及GTM展品样品库存账龄表.XLSX\", sheet_name = '明细')"
   ]
  },
  {
   "cell_type": "markdown",
   "id": "5732dda7",
   "metadata": {},
   "source": [
    "# 现货"
   ]
  },
  {
   "cell_type": "code",
   "execution_count": 4,
   "id": "bad605a3",
   "metadata": {},
   "outputs": [],
   "source": [
    "现货 = pd.read_excel(r\"C:\\Users\\U0014748\\Desktop\\2024年数据\\2月\\库存\\5.1 2024年2月生产完成未出货&现货库存账龄表.xlsx\", sheet_name = '明细')"
   ]
  },
  {
   "cell_type": "code",
   "execution_count": 5,
   "id": "bf95aef7",
   "metadata": {},
   "outputs": [],
   "source": [
    "大客户对照 = pd.read_excel(r\"C:\\Users\\U0014748\\Desktop\\FIBP\\流程优化\\用于Join的表\\KAKC清单汇总20230508（毛利）.xlsx\", sheet_name = 'KAKC清单')\n",
    "大客户对照 = 大客户对照[['客户名称', '分类']]"
   ]
  },
  {
   "cell_type": "markdown",
   "id": "37803cbd",
   "metadata": {},
   "source": [
    "# 代码"
   ]
  },
  {
   "cell_type": "code",
   "execution_count": 6,
   "id": "01e1556f",
   "metadata": {},
   "outputs": [],
   "source": [
    "库存 = 库存[库存['销售组织']== '国内']\n",
    "库存['省份'] = 库存['销售组'].str.split('-').str[-1]\n",
    "库存['资金占用（透视）'] = 库存['未开票金额-抵消后'] * 0.005"
   ]
  },
  {
   "cell_type": "code",
   "execution_count": 7,
   "id": "76c8aff8",
   "metadata": {},
   "outputs": [],
   "source": [
    "样品借用 = 样品借用[样品借用['区域'] == '内销']\n",
    "样品借用['省份'] = 样品借用['销售组描述'].str.split('-').str[-1]\n",
    "样品借用['资金占用（透视）'] = 样品借用['未归还金额存货抵消后'] * 0.005"
   ]
  },
  {
   "cell_type": "markdown",
   "id": "6b838ba6",
   "metadata": {},
   "source": [
    "库存.to_excel('库存.xlsx')\n",
    "样品借用.to_excel('样品借用.xlsx')"
   ]
  },
  {
   "cell_type": "code",
   "execution_count": null,
   "id": "623608a7",
   "metadata": {},
   "outputs": [],
   "source": []
  },
  {
   "cell_type": "code",
   "execution_count": 8,
   "id": "3d021832",
   "metadata": {},
   "outputs": [],
   "source": [
    "现货1 = pd.merge(现货, 大客户对照, left_on = '客户名称' , right_on = '客户名称', how = 'left')"
   ]
  },
  {
   "cell_type": "code",
   "execution_count": 9,
   "id": "18744dce",
   "metadata": {},
   "outputs": [],
   "source": [
    "现货1['筛选大客户'] = 现货1['分类']\n",
    "现货1 = 现货1.drop('分类', axis = 1)"
   ]
  },
  {
   "cell_type": "code",
   "execution_count": 10,
   "id": "5072d0ad",
   "metadata": {},
   "outputs": [],
   "source": [
    "现货1.loc[现货1['区域']=='国内生产完未出货', '省份'] = 现货1['销售组描述']"
   ]
  },
  {
   "cell_type": "code",
   "execution_count": 11,
   "id": "07a00876",
   "metadata": {},
   "outputs": [],
   "source": [
    "现货1['省份']=现货1['省份'].str.split('-').str[-1]"
   ]
  },
  {
   "cell_type": "code",
   "execution_count": 12,
   "id": "40c163b4",
   "metadata": {
    "scrolled": true
   },
   "outputs": [
    {
     "data": {
      "text/plain": [
       "0       282577.35\n",
       "1        41899.20\n",
       "2        51023.20\n",
       "3        81166.68\n",
       "4       466275.20\n",
       "          ...    \n",
       "1011     56281.68\n",
       "1012       380.69\n",
       "1013      6953.73\n",
       "1014     47028.08\n",
       "1015     73454.68\n",
       "Name: 行总库存成本（元）\\n存货抵消, Length: 1016, dtype: float64"
      ]
     },
     "execution_count": 12,
     "metadata": {},
     "output_type": "execute_result"
    }
   ],
   "source": [
    "现货1['行总库存成本（元）\\n存货抵消'] "
   ]
  },
  {
   "cell_type": "code",
   "execution_count": 13,
   "id": "9b55e6a6",
   "metadata": {},
   "outputs": [],
   "source": [
    "现货1['资金占用（透视】'] = 现货1['行总库存成本（元）\\n存货抵消'] * 0.005"
   ]
  },
  {
   "cell_type": "code",
   "execution_count": 14,
   "id": "af1a3550",
   "metadata": {},
   "outputs": [],
   "source": [
    "def sef(i):\n",
    "    if i == '销售部':\n",
    "        return '国内'\n",
    "    elif i == '公共':\n",
    "        return '国内'\n",
    "    else:\n",
    "        return i\n",
    "\n",
    "现货1['省份'] = 现货1['省份'].apply(sef)"
   ]
  },
  {
   "cell_type": "markdown",
   "id": "af306222",
   "metadata": {},
   "source": [
    "现货1.to_excel('现货.xlsx')"
   ]
  },
  {
   "cell_type": "code",
   "execution_count": null,
   "id": "80a56dc6",
   "metadata": {},
   "outputs": [],
   "source": []
  },
  {
   "cell_type": "markdown",
   "id": "afc794e4",
   "metadata": {},
   "source": [
    "# 合并"
   ]
  },
  {
   "cell_type": "code",
   "execution_count": 15,
   "id": "722d8331",
   "metadata": {},
   "outputs": [
    {
     "data": {
      "text/plain": [
       "Index(['交货单号', '交货单行号', '销售凭证号', '销售凭证行号', '合同号', '开票凭证', '开票凭证行号', '库存来源订单',\n",
       "       '库存来源订单行', '退货参考原单', '交货状态', '物料号', '物料描述', '产品类型', '交货工厂', '业务范围',\n",
       "       '交货过账日期', '交货过账月份', '开票过账日期', '开票数量', '开票成本', '未开票数量', '未开票成本',\n",
       "       '未开票金额-抵消后', '资金占用', '交货数量', '交货成本', '客户编码', '客户名称', '仓位', '仓储地点的描述',\n",
       "       '单位', '货币', '物料凭证编号', '物料凭证中的项目', '凭证年度', '移动类型', '会计凭证', '销售组织',\n",
       "       '产品类型.1', '销售部门', '销售组', '销售凭证类型', '销售凭证类型描述', '业务员编号', '业务员姓名', '账龄天数',\n",
       "       '账龄期间', '成本加成比例', '单位面积', '户内户外', '间距', '交货面积', '省份', '资金占用（透视）'],\n",
       "      dtype='object')"
      ]
     },
     "execution_count": 15,
     "metadata": {},
     "output_type": "execute_result"
    }
   ],
   "source": [
    "库存.columns"
   ]
  },
  {
   "cell_type": "code",
   "execution_count": 16,
   "id": "56115f65",
   "metadata": {},
   "outputs": [
    {
     "data": {
      "text/plain": [
       "Index(['工厂', '物料号', '物料描述（短文本）', '合同号', '销售凭证', '销售凭证项目', '借用人', '销售组织', '区域',\n",
       "       '销售凭证类型', '销售部门描述', '销售组描述', '成本中心', '成本中心描述', '订单数量', '订单金额', '交货数量',\n",
       "       '交货金额', '还回数量', '还回金额', '剩余数量', '剩余成本', '未归还金额存货抵消后', '首次借出日期',\n",
       "       '实际借出天数', '承诺借用天数-VA03', '逾期天数', '计提费用', '单位面积', '点间距', '计划处理日期',\n",
       "       '续借计划归还日期', '续借原因', '样品处理计划', '借用大类', '借用类型', '价格系数', '价格比例', '借用流程号',\n",
       "       '续借流程号', '推广样机流程号', '借用状态', '借用大类.1', '借用类型2', '产品类型', '省份',\n",
       "       '资金占用（透视）'],\n",
       "      dtype='object')"
      ]
     },
     "execution_count": 16,
     "metadata": {},
     "output_type": "execute_result"
    }
   ],
   "source": [
    "样品借用.columns"
   ]
  },
  {
   "cell_type": "code",
   "execution_count": 17,
   "id": "705a5745",
   "metadata": {},
   "outputs": [
    {
     "data": {
      "text/plain": [
       "Index(['财务序号', '工厂', '加成系数', '价格比例', '辅助列', '事业部', '物料开头', '物料号', '物料描述',\n",
       "       '管理类',\n",
       "       ...\n",
       "       '产品系列', '产品线', '产品型号', '产品线2', '订单类型描述', '区域', '订单大类', '筛选大客户', '省份',\n",
       "       '资金占用（透视】'],\n",
       "      dtype='object', length=123)"
      ]
     },
     "execution_count": 17,
     "metadata": {},
     "output_type": "execute_result"
    }
   ],
   "source": [
    "现货1.columns"
   ]
  },
  {
   "cell_type": "code",
   "execution_count": 18,
   "id": "0bca9ef9",
   "metadata": {},
   "outputs": [],
   "source": [
    "\n",
    "库存['库存分类'] = '5.2 发出商品库存账龄表'\n",
    "样品借用['库存分类'] = '5.4 客户借用及GTM展品样品库存账龄表'\n",
    "现货1['库存分类'] = '5.1 生产完成未出货&现货库存账龄表'\n",
    "\n",
    "库存 = 库存.rename(columns = {'销售部门':'销售部门描述',\n",
    "                         '销售组': '销售组描述',\n",
    "                         '销售组织': '销售类型',\n",
    "                          '未开票金额-抵消后':'成本金额'\n",
    "                         })\n",
    "\n",
    "样品借用 = 样品借用.rename(columns = {'物料描述（短文本）': '物料描述',\n",
    "                             '未归还金额存货抵消后':'成本金额',\n",
    "                             '区域':'销售类型'})\n",
    "\n",
    "现货1 = 现货1.rename(columns = {'销售订单': '销售凭证号',\n",
    "                            '产品类型':'产品间距',\n",
    "                           '产品线': '产品类型',\n",
    "                            '业务员': '业务员姓名',\n",
    "                            '区域': '现货类型'\n",
    "                            \n",
    "                           })\n"
   ]
  },
  {
   "cell_type": "code",
   "execution_count": 19,
   "id": "d2b52f30",
   "metadata": {},
   "outputs": [],
   "source": [
    "合并 = pd.concat([库存,样品借用,现货1])"
   ]
  },
  {
   "cell_type": "code",
   "execution_count": 20,
   "id": "28fa132f",
   "metadata": {},
   "outputs": [
    {
     "data": {
      "text/plain": [
       "库存分类\n",
       "5.1 生产完成未出货&现货库存账龄表      1016\n",
       "5.4 客户借用及GTM展品样品库存账龄表     425\n",
       "5.2 发出商品库存账龄表             372\n",
       "Name: count, dtype: int64"
      ]
     },
     "execution_count": 20,
     "metadata": {},
     "output_type": "execute_result"
    }
   ],
   "source": [
    "合并['库存分类'].value_counts()"
   ]
  },
  {
   "cell_type": "code",
   "execution_count": 21,
   "id": "b1bc0e78",
   "metadata": {},
   "outputs": [],
   "source": [
    "合并 = 合并.set_index('库存分类')"
   ]
  },
  {
   "cell_type": "code",
   "execution_count": 22,
   "id": "ac3580e4",
   "metadata": {},
   "outputs": [],
   "source": [
    "合并.to_excel('现货&库存&样品.xlsx')"
   ]
  },
  {
   "cell_type": "code",
   "execution_count": 24,
   "id": "4cded8fb",
   "metadata": {},
   "outputs": [
    {
     "data": {
      "text/plain": [
       "197"
      ]
     },
     "execution_count": 24,
     "metadata": {},
     "output_type": "execute_result"
    }
   ],
   "source": [
    "len(合并.columns)"
   ]
  },
  {
   "cell_type": "code",
   "execution_count": null,
   "id": "269f36ac",
   "metadata": {},
   "outputs": [],
   "source": []
  }
 ],
 "metadata": {
  "kernelspec": {
   "display_name": "Python 3 (ipykernel)",
   "language": "python",
   "name": "python3"
  },
  "language_info": {
   "codemirror_mode": {
    "name": "ipython",
    "version": 3
   },
   "file_extension": ".py",
   "mimetype": "text/x-python",
   "name": "python",
   "nbconvert_exporter": "python",
   "pygments_lexer": "ipython3",
   "version": "3.11.5"
  }
 },
 "nbformat": 4,
 "nbformat_minor": 5
}
